{
 "cells": [
  {
   "cell_type": "code",
   "execution_count": null,
   "id": "f7ec39dc-3d8a-45c6-8543-a295a45058c6",
   "metadata": {
    "tags": []
   },
   "outputs": [],
   "source": [
    "import sys\n",
    "# !{sys.executable} -m pip install -U deepchecks[nlp]\n",
    "# !{sys.executable} -m pip install -U deepchecks[nlp-properties]  # Optional - used to compute the more advanced properties"
   ]
  },
  {
   "cell_type": "code",
   "execution_count": null,
   "id": "ebf3933e-257f-4aa5-b906-07f662657c2a",
   "metadata": {
    "tags": []
   },
   "outputs": [],
   "source": [
    "import pandas as pd\n",
    "import numpy as np\n",
    "from deepchecks.nlp.text_data import TextData"
   ]
  },
  {
   "cell_type": "markdown",
   "id": "9d8d6a9d-1e5a-4088-ab65-4fdd7a68b2ae",
   "metadata": {},
   "source": [
    "In this notebook we will go over:\n",
    "1. Creating a TextData object and auto calculating properties\n",
    "2. Running the built-in suites\n",
    "3. Check spotlight - Embeddings drift and Under-Annotated Segments"
   ]
  },
  {
   "cell_type": "markdown",
   "id": "033de144-808d-4a18-acd3-a252f4ee4275",
   "metadata": {},
   "source": [
    "# Setting up"
   ]
  },
  {
   "cell_type": "markdown",
   "id": "1b91fe36-3ca6-46d6-a25f-67ec896bd5b7",
   "metadata": {},
   "source": [
    "## Load data "
   ]
  },
  {
   "cell_type": "markdown",
   "id": "bfd36041-e294-48f8-bdf5-56e3094b97fa",
   "metadata": {},
   "source": [
    "In this tutorial we will use the tweet emotion dataset, containing tweets and metadata on the users who wrote them. </br>\n",
    "Our goal will be to analyze a model that given a tweet classify its emotion in one of 4 categories: 'happiness', 'anger', 'optimism' and 'sadness'."
   ]
  },
  {
   "cell_type": "code",
   "execution_count": null,
   "id": "81787753-4221-4c5c-9536-4993f057417e",
   "metadata": {},
   "outputs": [],
   "source": [
    "from deepchecks.nlp.datasets.classification import tweet_emotion\n",
    "\n",
    "train, test = tweet_emotion.load_data(data_format='DataFrame')\n",
    "train.head(3)"
   ]
  },
  {
   "cell_type": "markdown",
   "id": "ad50b539-f2a4-41e3-8eb2-77cd2a1bc0c1",
   "metadata": {},
   "source": [
    "We explicitly define our (sorted) classes so that all checks know what classes to expect. This is optional."
   ]
  },
  {
   "cell_type": "code",
   "execution_count": null,
   "id": "c5dee35b-514b-4c7c-ab42-0a2ec75298e9",
   "metadata": {
    "tags": []
   },
   "outputs": [],
   "source": [
    "model_classes = ['anger', 'happiness', 'optimism', 'sadness']"
   ]
  },
  {
   "cell_type": "markdown",
   "id": "b1a07f60-5afd-48b2-be17-d789ba76df69",
   "metadata": {},
   "source": [
    "## Create TextData Objects (A Deepchecks' Artifact)"
   ]
  },
  {
   "cell_type": "markdown",
   "id": "9f87cbdc-76de-4f31-b68d-1208d8818387",
   "metadata": {},
   "source": [
    "Deepchecks' TextData object contain the text samples, labels and possibly also properties and metadata. </br>\n",
    "it stores cache to save time between repeated computations and contain functionalities for input validations and sampling."
   ]
  },
  {
   "cell_type": "code",
   "execution_count": null,
   "id": "405ae0f4-c10e-4af8-887c-2bd2269d10b6",
   "metadata": {},
   "outputs": [],
   "source": [
    "train = TextData(train.text, label=train['label'], task_type='text_classification',\n",
    "                 metadata=train.drop(columns=['label', 'text']))\n",
    "test = TextData(test.text, label=test['label'], task_type='text_classification',\n",
    "                metadata=test.drop(columns=['label', 'text']))"
   ]
  },
  {
   "cell_type": "markdown",
   "id": "fee5dc8a-c635-4261-b55e-82e3945a618c",
   "metadata": {},
   "source": [
    "## Calculating Properties"
   ]
  },
  {
   "cell_type": "markdown",
   "id": "d58da0ea-b27b-4961-aa4c-f32c5c88241d",
   "metadata": {},
   "source": [
    "Some of Deepchecks' checks uses properties of the text samples for various calculations. </br>\n",
    "Deepcheck have a wide variety of such properties, some simple and some that rely on external models and are more heavy to run. </br>\n",
    "In order for Deepcheck's checks to be able to access the properties they be stored within the TextData object."
   ]
  },
  {
   "cell_type": "code",
   "execution_count": null,
   "id": "9c98e627-468b-4a79-92d9-3a1f0f725722",
   "metadata": {
    "tags": []
   },
   "outputs": [],
   "source": [
    "# properties can be either either calculated directly by Deepchecks or imported for other sources in appropriate format\n",
    "\n",
    "# from torch import device\n",
    "# train.calculate_default_properties(include_long_calculation_properties=True, device=device('mps'))\n",
    "# test.calculate_default_properties(include_long_calculation_properties=True,  device=device('mps'))\n",
    "\n",
    "train_properties, test_properties = tweet_emotion.load_properties()\n",
    "\n",
    "train.set_properties(train_properties, categorical_properties=['Language'])\n",
    "test.set_properties(test_properties, categorical_properties=['Language'])\n",
    "\n",
    "train.properties.head(2)"
   ]
  },
  {
   "cell_type": "markdown",
   "id": "e47331d5-45e5-4440-a0d2-0c058833d096",
   "metadata": {
    "jp-MarkdownHeadingCollapsed": true,
    "tags": []
   },
   "source": [
    "### Add some missing labesl"
   ]
  },
  {
   "cell_type": "code",
   "execution_count": null,
   "id": "d1f66768-f9ae-4e33-bf2d-2dca6d0b51c9",
   "metadata": {
    "tags": []
   },
   "outputs": [],
   "source": [
    "test_copy = test.copy()"
   ]
  },
  {
   "cell_type": "code",
   "execution_count": null,
   "id": "11c7bd2d-7831-4ad2-9cbc-6654186d0271",
   "metadata": {
    "tags": []
   },
   "outputs": [],
   "source": [
    "np.random.seed(42)\n",
    "idx_to_fillna = np.random.choice(range(len(test)), int(len(test) * 0.05), replace=False)\n",
    "test_copy._label = test_copy._label.astype(dtype=object)\n",
    "test_copy._label[idx_to_fillna] = None"
   ]
  },
  {
   "cell_type": "code",
   "execution_count": null,
   "id": "5b05a07d-2b59-42c4-8117-c00a639407f0",
   "metadata": {
    "tags": []
   },
   "outputs": [],
   "source": [
    "under_unnotated_segment_idx = test_copy.properties[(test_copy.properties.Fluency < 0.4) & (test_copy.properties.Formality < 0.2)].index"
   ]
  },
  {
   "cell_type": "code",
   "execution_count": null,
   "id": "3b82131c-ef32-4de0-b49b-352082b14173",
   "metadata": {
    "tags": []
   },
   "outputs": [],
   "source": [
    "under_unnotated_segment_idx"
   ]
  },
  {
   "cell_type": "code",
   "execution_count": null,
   "id": "c0ffe0dc-28ac-4ef5-90e2-1c63691584dc",
   "metadata": {
    "tags": []
   },
   "outputs": [],
   "source": [
    "np.random.seed(42)\n",
    "idx_to_fillna = np.random.choice(under_unnotated_segment_idx, int(len(under_unnotated_segment_idx) * 0.4), replace=False)\n",
    "test_copy._label[idx_to_fillna] = None"
   ]
  },
  {
   "cell_type": "markdown",
   "id": "c0283c81-e746-4ffc-94e0-0af8729750e3",
   "metadata": {},
   "source": [
    "# Running the deepchecks default suites"
   ]
  },
  {
   "cell_type": "markdown",
   "id": "5d49bbfa-e8fc-4784-b329-e8dd4c97f981",
   "metadata": {
    "tags": []
   },
   "source": [
    "## Data Integrity"
   ]
  },
  {
   "cell_type": "markdown",
   "id": "484efee8-17ce-46aa-a0c7-a2feb672d20d",
   "metadata": {},
   "source": [
    "We will start by doing preliminary integrity check to validate the text formatting. </br>\n",
    "It is recommended to do this step before model training as it may imply additional data engineering is required. </br>\n",
    "\n",
    "We'll do that using the data_integrity pre-built suite."
   ]
  },
  {
   "cell_type": "code",
   "execution_count": null,
   "id": "98fab71b-6626-4a06-af97-26eaf37259ec",
   "metadata": {
    "tags": []
   },
   "outputs": [],
   "source": [
    "from deepchecks.nlp.suites import data_integrity"
   ]
  },
  {
   "cell_type": "code",
   "execution_count": null,
   "id": "0473d4db-ba9b-4cd8-9e33-ca8e7aefaab7",
   "metadata": {
    "tags": []
   },
   "outputs": [],
   "source": [
    "# Increase the default of the Property Outlier check so we can see the results for more than the default 5 properties with the most significant outliers\n",
    "data_integrity_suite = data_integrity()\n",
    "data_integrity_suite.checks[1].n_show_top=10"
   ]
  },
  {
   "cell_type": "code",
   "execution_count": null,
   "id": "8742e12a-6865-4093-8c30-eea2991450e3",
   "metadata": {
    "tags": []
   },
   "outputs": [],
   "source": [
    "data_integrity_suite.run(train, test)"
   ]
  },
  {
   "cell_type": "markdown",
   "id": "34e266ff-d692-421b-a307-fcef140060c4",
   "metadata": {
    "tags": []
   },
   "source": [
    "### Integrity #1: Unknown Tokens"
   ]
  },
  {
   "cell_type": "markdown",
   "id": "3bed7b19-99ec-493b-bae2-28326d374d3e",
   "metadata": {},
   "source": [
    "First up (in the \"Didn't Pass\" tab) we see that the Unknown Tokens check has returned a problem.\n",
    "\n",
    "Looking at the result, we can see that it assumed (by default) that we're going to use the bert-base-uncased tokenizer for our NLP model, and that if that's the case there are many words in the dataset that contain\n",
    "characters (such as emojies, or Korean characters) that are unrecognized by the tokenizer. This is an important insight, as bert tokenizers are very common."
   ]
  },
  {
   "cell_type": "markdown",
   "id": "83518968-0320-496a-b67c-d40e72473d80",
   "metadata": {
    "tags": []
   },
   "source": [
    "### Integrity #2: Text outliers"
   ]
  },
  {
   "cell_type": "markdown",
   "id": "6fba99d9-8b81-48e9-ad47-81fb181fd682",
   "metadata": {},
   "source": [
    "Looking at the Text Outlier check result (in the \"Other\" tab) we can derive several insights: </br>\n",
    "1. hashtags ('#...') are usually several words written together without spaces - we might consider splitting them before feeding the tweet to a model</br>\n",
    "2. In some instances users deliberately misspell words, for example '!' instead of the letter 'l' or 'okayyyyyyyyyy'</br>\n",
    "3. The majority of the data is in English but not all. If we want a classifier that is multi lingual we should collect more data, otherwise we may consider </br>\n",
    "   dropping tweets in other languages from our dataset before training our model. "
   ]
  },
  {
   "cell_type": "markdown",
   "id": "f7f48bda-252d-47fb-92f1-e2e7bc3a50e6",
   "metadata": {},
   "source": [
    "### Integrity #3: Property-Label Correlation (Shortcut Learning)"
   ]
  },
  {
   "cell_type": "markdown",
   "id": "37d397c0-84b0-4172-87c6-df05fca10b99",
   "metadata": {},
   "source": [
    "The Property-Label Correlation check verifies the data does not contain any shortcuts the model can fixate on during the learning process. In our case we can see no indication that this problem exists in our dataset</br> \n",
    "For more information about shortcut learning see: https://towardsdatascience.com/shortcut-learning-how-and-why-models-cheat-1b37575a159"
   ]
  },
  {
   "cell_type": "markdown",
   "id": "511f2b92-e794-4b1a-9d3e-d8b0c8e08784",
   "metadata": {},
   "source": [
    "## Train Test Validation"
   ]
  },
  {
   "cell_type": "markdown",
   "id": "2bdca64b-41a3-4042-9450-1bbeb8bda3fb",
   "metadata": {},
   "source": [
    "The next suite serves to validate our split and compare the two dataset. This suite is useful for when a you already decided about your train and test / validation splits, but before training the model itself."
   ]
  },
  {
   "cell_type": "code",
   "execution_count": null,
   "id": "cddc7a31-fbc6-4866-a789-fd4a368870a6",
   "metadata": {
    "tags": []
   },
   "outputs": [],
   "source": [
    "from deepchecks.nlp.suites import train_test_validation"
   ]
  },
  {
   "cell_type": "code",
   "execution_count": null,
   "id": "91ff78f9-624f-467b-a3d9-a255dff271cf",
   "metadata": {
    "tags": []
   },
   "outputs": [],
   "source": [
    "train_test_validation().run(train, test)"
   ]
  },
  {
   "cell_type": "markdown",
   "id": "56f3015b-89cc-45b0-aa39-5e3b6ae246d3",
   "metadata": {},
   "source": [
    "### Label Drift"
   ]
  },
  {
   "cell_type": "markdown",
   "id": "84572393-b939-4de8-b2c9-74c6ed9cf87c",
   "metadata": {},
   "source": [
    "We can see that we have some significant change in the distribution of the label - the label \"optimism\" is suddenly way more common in the test dataset, while other labels declined. This happened because we split on time, so the topics covered by the tweets in the test dataset may correspond to specific trends or events that happened later in time. Let's investigate!"
   ]
  },
  {
   "cell_type": "markdown",
   "id": "c89ec261-6c84-42ba-a183-44bed1251cc0",
   "metadata": {},
   "source": [
    "## Model Evalution"
   ]
  },
  {
   "cell_type": "markdown",
   "id": "56de08a7-a295-4067-b302-1b0f6cc2e970",
   "metadata": {
    "tags": []
   },
   "source": [
    "### Loading pre-calculated model predictions"
   ]
  },
  {
   "cell_type": "markdown",
   "id": "d93fad79-4452-4329-9c6c-bca5cccf31fa",
   "metadata": {},
   "source": [
    "The suite below is designed to be run after a model was trained, and so requires model predictions and can be supplied via the relevant arguments in the ``run`` function"
   ]
  },
  {
   "cell_type": "code",
   "execution_count": null,
   "id": "756f73ce-01c5-4e82-b6b3-376073197af3",
   "metadata": {},
   "outputs": [],
   "source": [
    "train_preds, test_preds = tweet_emotion.load_precalculated_predictions(pred_format='predictions', as_train_test=True)\n",
    "\n",
    "train_probas, test_probas = tweet_emotion.load_precalculated_predictions(pred_format='probabilities', as_train_test=True)"
   ]
  },
  {
   "cell_type": "code",
   "execution_count": null,
   "id": "058775ad-0520-4eb6-a649-b890cf52fc4d",
   "metadata": {
    "tags": []
   },
   "outputs": [],
   "source": [
    "from deepchecks.nlp.suites import model_evaluation"
   ]
  },
  {
   "cell_type": "code",
   "execution_count": null,
   "id": "9c76de48-b2ad-4df2-90ef-b7bd42d2739a",
   "metadata": {
    "tags": []
   },
   "outputs": [],
   "source": [
    "result = model_evaluation().run(train, test, train_predictions=train_preds, test_predictions=test_preds, \n",
    "                                train_probabilities=train_probas, test_probabilities=test_probas, model_classes=model_classes)\n",
    "result"
   ]
  },
  {
   "cell_type": "markdown",
   "id": "2f784020-a3db-46ce-bcd1-21b8a4aea1cf",
   "metadata": {},
   "source": [
    "OK! We have many important issues being surfaced by this suite. Let's dive into the individual checks:"
   ]
  },
  {
   "cell_type": "markdown",
   "id": "37f5cd3b-4ebc-4ac8-a64e-0ee732014a07",
   "metadata": {},
   "source": [
    "### Model Eval #1: Train Test Performance "
   ]
  },
  {
   "cell_type": "markdown",
   "id": "f744861c-d777-43e0-82fa-ce634bdbdbac",
   "metadata": {},
   "source": [
    "On the most superficial level, we can immediately see (in the \"Didn't Pass\" tab) that there has been significant degradation in the Recall on class \"optimism\". This follows from the severe label drift we saw after running the previous suite."
   ]
  },
  {
   "cell_type": "markdown",
   "id": "15817ad7-c533-4ded-b4bc-d192d5dab0d5",
   "metadata": {},
   "source": [
    "### Model Eval #2: Segment Performance"
   ]
  },
  {
   "cell_type": "markdown",
   "id": "e8857b45-d1d7-4689-b725-96af7fb37c84",
   "metadata": {},
   "source": [
    "The two segment performance checks - Property Segment Performance and Meadata Segment Performance, use the metadata columns of user related information OR our calculated properties to try and **automatically** detect significant data segments on which our model performs badly. "
   ]
  },
  {
   "cell_type": "markdown",
   "id": "71e1e33b-f2ac-4c4a-b904-64b66e5fc5a6",
   "metadata": {},
   "source": [
    "In this case we can see that both checks have found issues in the test dataset:\n",
    "1. The Property Segment Performance check has found that we're getting very poor results on low toxicity samples. That probably means that our model is using the toxicity of the text to infer the \"anger\" label, and is having a harder problem with other, more benign text samples.\n",
    "2. The Metadata Segment Performance check has found that we have predicting correct results on new users from the Americas. That's 5% of our dataset so we better investigate that further."
   ]
  },
  {
   "cell_type": "markdown",
   "id": "2628edf9-6eb2-442d-a717-2b2320843401",
   "metadata": {},
   "source": [
    "### Model Eval #3: Prediction Drift"
   ]
  },
  {
   "cell_type": "markdown",
   "id": "937a83f1-7c37-48a9-997b-af8d53068ad0",
   "metadata": {},
   "source": [
    "We note that the Prediction Drift (here in the \"Passed\" tab) shows no issue. Given that we already know that there is significant Label Drift, this means we have Concept Drift - the labels corresponding to our samples have changed, while the model continues to predict the same labels."
   ]
  },
  {
   "cell_type": "markdown",
   "id": "5ee60f05-0c47-46fb-a8d1-c04da4c54072",
   "metadata": {},
   "source": [
    "## Running all check in one suite"
   ]
  },
  {
   "cell_type": "markdown",
   "id": "35b400d2-5425-4363-9ba4-ebb6f9b89c8d",
   "metadata": {},
   "source": [
    "If you have a model that you already developed and you want to test all available checks at once, you can run the Full Suite"
   ]
  },
  {
   "cell_type": "code",
   "execution_count": null,
   "id": "af937c43-c6a0-42f5-973b-c489fc5e68b1",
   "metadata": {
    "tags": []
   },
   "outputs": [],
   "source": [
    "# from deepchecks.nlp.suites import full_suite\n",
    "# suite = full_suite()\n",
    "# result = suite.run(train, test, train_predictions=train_preds, test_predictions=test_preds, \n",
    "#                    train_probabilities=train_probas, test_probabilities=test_probas, model_classes=model_classes)"
   ]
  },
  {
   "cell_type": "markdown",
   "id": "b2a30e13-f7df-435b-9f12-012867ca57b8",
   "metadata": {},
   "source": [
    "# Running Individual Checks "
   ]
  },
  {
   "cell_type": "markdown",
   "id": "739f4681-4085-4da8-8d44-87955ecd55cd",
   "metadata": {},
   "source": [
    "Checks can also be run individually. In this section, we'll show two of the more interesting checks and how you can run them stand-alone."
   ]
  },
  {
   "cell_type": "markdown",
   "id": "3397c969-49db-4083-9649-8c141833f942",
   "metadata": {},
   "source": [
    "## Embeddings Drift"
   ]
  },
  {
   "cell_type": "code",
   "execution_count": null,
   "id": "1addb64e-122f-4d9d-894e-4855df178268",
   "metadata": {
    "tags": []
   },
   "outputs": [],
   "source": [
    "from deepchecks.nlp.datasets.classification.tweet_emotion import load_embeddings"
   ]
  },
  {
   "cell_type": "markdown",
   "id": "9349fd25-4a2a-4f38-b48a-70248727f21e",
   "metadata": {},
   "source": [
    "In order to run the embedding drift check you must have text embeddings loaded to both datasets. In this example, we have the embeddings already pre-calculated: "
   ]
  },
  {
   "cell_type": "code",
   "execution_count": null,
   "id": "a0ab4d3c-d7c0-4318-9ef0-caab918ffc44",
   "metadata": {
    "tags": []
   },
   "outputs": [],
   "source": [
    "train_embeddings, test_embeddings = load_embeddings()"
   ]
  },
  {
   "cell_type": "code",
   "execution_count": null,
   "id": "edf9c7f9-2bc0-4ce6-a86a-30412d29d3f4",
   "metadata": {
    "tags": []
   },
   "outputs": [],
   "source": [
    "train.set_embeddings(train_embeddings)\n",
    "test.set_embeddings(test_embeddings)"
   ]
  },
  {
   "cell_type": "markdown",
   "id": "8cd1cb48-7f00-49cc-a368-9e571cc099f6",
   "metadata": {},
   "source": [
    "You can also calculate the embeddings using deepchecks, either using an open-source sentence-transformer or using Open AI's embedding API."
   ]
  },
  {
   "cell_type": "code",
   "execution_count": null,
   "id": "d237964a-2cbc-4072-962a-b2e68859de63",
   "metadata": {
    "tags": []
   },
   "outputs": [],
   "source": [
    "# train.calculate_default_embeddings()\n",
    "# test.calculate_default_embeddings()"
   ]
  },
  {
   "cell_type": "code",
   "execution_count": null,
   "id": "27a9ad29-722f-4490-96c4-8067f6568f28",
   "metadata": {
    "tags": []
   },
   "outputs": [],
   "source": [
    "from deepchecks.nlp.checks import TextEmbeddingsDrift\n",
    "\n",
    "check = TextEmbeddingsDrift()\n",
    "res = check.run(train, test)\n",
    "res"
   ]
  },
  {
   "cell_type": "markdown",
   "id": "085902e1-6ff3-4b68-8467-6d7cb77d10f3",
   "metadata": {},
   "source": [
    "Here we can see some distinct segments that distinctly contain more samples from train or more sample for test. For example, if we look at the cluster on the top left corner we see it's full of inspirational quotes and saying, and belongs mostly to the test dataset. That is the source of the drastic increase in optimistic labels!\n",
    "\n",
    "There are some other note-worthy segments, such as the \"tail\" segment in the middle left that contains tweets about a terror attack in Bangladesh (and belongs solely to the test data), or a cluster on the bottom right that discusses a sports event that probably happened strictly in the training dataset."
   ]
  },
  {
   "cell_type": "markdown",
   "id": "7908ab22-a530-4ed9-8bb5-5e5591a3d733",
   "metadata": {},
   "source": [
    "## Under Annotated Segments"
   ]
  },
  {
   "cell_type": "markdown",
   "id": "6094a20d-0b1c-4852-ba2d-9c2463a59481",
   "metadata": {},
   "source": [
    "Another note-worth segment is the Under Annotated Segment check, which explores our data and automatically identifies segments where the data is under-annotated - meaning that the ratio of missing labels is higher. To this check we'll also add a condition that will alert us in case that a significant under-annotated segment is found."
   ]
  },
  {
   "cell_type": "code",
   "execution_count": null,
   "id": "5716e8a7-fd97-4a1d-a25d-fea5e827f228",
   "metadata": {
    "tags": []
   },
   "outputs": [],
   "source": [
    "from deepchecks.nlp.checks import UnderAnnotatedPropertySegments\n",
    "check = UnderAnnotatedPropertySegments(segment_minimum_size_ratio=0.1).add_condition_segments_relative_performance_greater_than()\n",
    "check.run(test_copy)"
   ]
  },
  {
   "cell_type": "markdown",
   "id": "5d3fbc2d-43eb-4a4f-8cbe-b15d6c86f398",
   "metadata": {},
   "source": [
    "For example here the check detected that we have a lot of lacking annotations for samples that are informal and not very fluent. May it be the case that our annotators have a problem annotating these samples and prefer not to deal with them? If these samples are important for use, we may have to put special focus on annotating this segment."
   ]
  }
 ],
 "metadata": {
  "kernelspec": {
   "display_name": "Python 3 (ipykernel)",
   "language": "python",
   "name": "python3"
  },
  "language_info": {
   "codemirror_mode": {
    "name": "ipython",
    "version": 3
   },
   "file_extension": ".py",
   "mimetype": "text/x-python",
   "name": "python",
   "nbconvert_exporter": "python",
   "pygments_lexer": "ipython3",
   "version": "3.9.6"
  },
  "widgets": {
   "application/vnd.jupyter.widget-state+json": {
    "state": {
     "04a1ed3398344e03adada7d888dd7d6f": {
      "model_module": "@jupyter-widgets/controls",
      "model_module_version": "1.5.0",
      "model_name": "HTMLModel",
      "state": {
       "layout": "IPY_MODEL_91e03238b75242fb8653f815b46700da",
       "style": "IPY_MODEL_83ba172e0d584e15a6011d02330c0b81",
       "value": "<h4><b>Embeddings Drift</b></h4>"
      }
     },
     "074881032ec740f9b65fb9dd6220c287": {
      "model_module": "@jupyter-widgets/base",
      "model_module_version": "1.2.0",
      "model_name": "LayoutModel",
      "state": {}
     },
     "0b71af3f5142450ca879c06fc8fb7d44": {
      "model_module": "@jupyter-widgets/base",
      "model_module_version": "1.2.0",
      "model_name": "LayoutModel",
      "state": {}
     },
     "0ca771857fdb4836bc78e77b9b7509c0": {
      "model_module": "@jupyter-widgets/controls",
      "model_module_version": "1.5.0",
      "model_name": "HTMLModel",
      "state": {
       "layout": "IPY_MODEL_bb87cf2873264c6fb8ba4b841ce72461",
       "style": "IPY_MODEL_5106d9193de6449e998b65cde0b9b107",
       "value": "<h4><b>Embeddings Drift</b></h4>"
      }
     },
     "108dc7e96e3e4a8899743f2980b6380b": {
      "model_module": "@jupyter-widgets/controls",
      "model_module_version": "1.5.0",
      "model_name": "DescriptionStyleModel",
      "state": {
       "description_width": ""
      }
     },
     "161f94e76d434bcd9dfa5798c724139c": {
      "buffers": [
       {
        "data": "dLskQWFCMEFWdLRAYC4iwMGbDEHASJ4/WA7wPyRAmUH7U2pAR8/yQMH+Q0BHHKTAPx8aQQwOM0Eihd9A6BniQIs2OUH3M2M/PixEQUwxHcC4ZPFAUurnQE++WEAZGjy/DysMQJCTKUH6vH1B68cnQYHSE0Gt0SVBAjQHQUFdrz/EXl9BmnchwEkMHD/9mRJBO/1VQSTqzz8cav9AKBNfQQWVjEF8voVBxvSRv5NY38GkJDNBgF1iwFWDL0HwxiJBUmbPQOQBKEHgb4i+gFidQDBFOkF6+r5AtulfwNdkUMCYAXRBgGF1QJFJYEH2Nh1BWKsgQTbSm8DcrQdB0ysdQJKNc0H6eOK9PxQ0QXFtk0HdB0s/qG8AwNi8hUE3HA9BKZpzQThWEUF4I75AAAVxv7b91r8J6Q7Ay5mDQdRMNEAlMRVADXQfwKKdNkE6hYlBaJYnwCdynECCIy9BXYHBv1Xw60Ckxr4/IX8fQf1xREETWLNA1ij8QIp3kMAjWnTA64ehP/RQREEBpXPA6/a5QHh0AUE//XtBSXyfv3oNXkGn0pZB8Y9oQXv0lkHJw4JAhXhAQLvklEHf++5AYysUQXK4j0HPDmdBEkCWwHBf9MAsIExBxIXgwcRJc0F6TRfAMSgrQfQ01UCpjAVBQOIwQTkOdUHNx4lAipvfQOQTq0CX5xNB+BtowPVz9b8S5zVBflmzP/96O0Hrb1BAaOgdQYgKDT/K+QNBxWDZPygOP0DpwCRBe08xQcwblkHpEBhByY9aP4/slkGkdtNAMcQ5vuJij8AJ89BAqpGvv5alVkAdAI9B2epGQBmajkCRqQBBeQdLwJzx67/TmeFAL80kQSbTPEFqcQVAaH0hQUaG90A0uW6/T3PjvvyRHkH9KyxB/o8MQNRHWMAoaoJBGPeVQL/Cyr/MmupABfJgQU8b4UDyVIfAow0GQfkh3b7lCllBBlCGwHei/0CyfXFBtn/8v/9RIEDlDwJBtCHnwEVtJkE3w07AZsE8wL8nr0CFoIBAuv2dwNWEmEHI0TxBZh8KP9pPtUBNPV5ANEeQvwcP+UAbnBxBgugGQbURDT8ff0k/KswSQSMbWEHgu6I/iILOQLqtCEEhxPJAcmo3wAUU+UAqMPnAEMceQQoQq8B15gdBl2UAQXGzH0C3EiFBkzpJwC1MZkDcQTtBPQzrQBc60EBNIytAZo9CQTriKUFjSALAYAcpQcSUMEFyjZLAAKPkQEVlaUD6S5NB6NaLwMs0RkFRZkFATr6YPnIVOEGEgzhBaOFWwAAWOkE4bQ9BhqgqQdeth0Gx/k1APn/MP9eq50D92fRAiFJEQA==",
        "encoding": "base64",
        "path": [
         "_data",
         0,
         "x",
         "value"
        ]
       },
       {
        "data": "+rUNwMuPkL9sSbRAO6Y7QWOKGUFK5ddAmwcAQRgAmcECvPg/a3MsQbk7IUFgiiNB1pH3P5tRjb8p7ZFA8mI9QU0eS782XBxB3lx8QcgtPUF7AfI/f+sjQeNCIcAUCRNB/1wUwPYAX0ArOn0+DIOQQLDODUCVqCZBvKbxPrgoHUEvzzhA1K4IQd1wb0Dtt59A3r5dQMOU3UAnKzlBXMIbQKqnBkFfogtBEIVjQXHRl0GFUaxAZNlKPVr9S0CPoLJA+icaQLljH0BYYAtAadx0QIikj0FopxNBrEDnvQvUb0CU5oE/dekewE7cxD81x8pA3w3zQO0+QUG7wTBAIPprQeM8+EDGwRpBLDYfQNaHSUBLwTtB6fBrQXv940D1m+tAVzwEP/P6NEHaWKdAUygUQTcmaEFi1V9BlDsNQVBFHEDewBVBc8IYQAB8ZUCbUJ9A3v+oQL7v4kCbxPg/7WEjQa56CkGDEjtBer/ZQPIedkHkXC9Bc58HQTXo/UDHMQpBz8/UQESncEHtMTVBwP7uPzXFGEF+Xrw9Bh8lQalE5ED1e4/BwognQaPZEkCCAiZBz0AmQLzTCkCZ3/ZAsNh4QWJ4PUAajgBA13ISQf+/xEDYqvhAxv6YQbQYFD8dhkVBQAA8wIXpckDU3h9A208aQXIUIkHUhwVB65ErQZDcfEAXG4w/4RSgQAxQEUCUg41B70S2QAKYL0B3dPJAyeY6QTt98EBZ/+tAlhq7QDJvZUEDRQRB/9abQBLvl8GIIPtA+BFuQdm0msFh3DZBlbrGQNdmI0EKjghBNWdBQcArsL8N44VAn5STQM5Cwz8tzsZAqpxFQWNZ50BGjk1AnCr8QMlbj0FmFAJBz0JlQe8TNz+AeFpBZEEBQKm7G0GOfOJAHwPkvqdTKEDrQw1B7IuiP6BeZkFIUdNAH67dPyuq/UChAaRB2VFAP8BOC0GWP/w/z4yoQE4PQUGfmClBpaCzQL6KSUBL2whAaxLmQKztPUAvGdpA/q0avk3+vz8+ozA/pwQUQVA/ncHr5+hAzjmRQEeKZUB0fPK/m19zQV7dNUHN+0FBFEowQdI3b0ElbmBBcWEZQEFw80C1NzlBEEssQY3u7T7xBJhASh9kQNvPJ0F+tupApoknQfB6BkHtDZw/4oegQO713b+2GFtAdERFP0dTkkDGNwlBrFk+QfSfP0DHT3m/Th9+QauGrz/QjQ1BTyQ7QWb4BsA0zKZBTiMSQMLjpEBLXCFAx0sOQdxq60Caz4W/JGN9QVoR10A4ogrA4WSVQPcLGUCedwdBhfmYQIBfo0BD3gzA3vTpQAl1RkEp/L5ApdMAwA==",
        "encoding": "base64",
        "path": [
         "_data",
         0,
         "y",
         "value"
        ]
       },
       {
        "data": "Zfu+v0Wa58Br0iJB7KmCwJ3U30CtfmLAq7WBQGSq9kDyARVB11JGP6Vw079b6RdBy3KCwH0VlEG02qXABGwnQTsrs0Eh9LRA7sCFwCz3/8BQfI9AV34NvnJ6KkEOX+dAkf5gwOwMGEFHDeHBe5m3wIK7pz6pq7dAMuOxQXhFRr8xUh2/q5r7P0XUJ0Fk8YxBf/uxQYQAP0EOJblACyVDQaOBBEG7JUNAs2CHQYZbnMAKnrNBf35BwClAnkC2p8FAEYq2QbG2sEC4d4JBSsJfQXGBLkE3/YdBYGoYQcBqLUGcJ1M+pzAPQXmoAsCUeK9BwmfawOprVMAW81M/bmbtQPAu0T/ADnDAW3eDv2mSOEA9TT5B+CfxQAiOikGstjjAjuAfQVE8iEAunulAV3gDwRcbW0EylALAPQeQQb6p9kBS6rNAHTFBQSrKHb/XkKdAnlQ4QSsvbj6N072/eH4yQYN7xT+mUDhBKBglQeg4CMHnr/1A87s1QfDZM0GqfJLAyaWPwIEpS8CI9iRAvD65QNY+3cFWARRBwIoFQaP5rMBLPX0+mNipwN03UEESahpAPiSKv0X900BklztB+bNxwMHNvMDUkwBBeRjIQKIz3kBgRO6/O5Q+wA8E/0DcfGa+8h3WQGlFC0FgmCtBZTuYwI8l57+YxZTAS+OCQZ22Gr6AMhNBnq/EQHZ+uz9G2oS/UQOMP5G2qEDc/CRAXQc0QYmatkG4YnpBRsYCQaWFkr9V2ZtAMLYqQW3DBz99SppAEEmyQOBxVb4koE9AaMt9v3zhaEHrpZdB/UzHQG/wEkHIgwVBXr+DPyFYVUD+Q5RB9wYwQeBLSkGA1zVBCoTrwDFYCkH3D0TAIGrlwGRpi8Bh4jhBMNtdQXc1aUHhnZq/MGHjv/Vwi8DvuAfBJqv6QFfL3b+xqpPAsRkKQVj/cUHVxSXAThSGQQ8XPUAgMxBAbUu0QTBXLb3NPyHAUlToQMCnDUFOqWvAhe4BQduJ6z6/muy9Rb7vwJeQPEHUyrDA19AVP0ZcN0FkkhK/BPYFQZpwVkFlNS1BcXoQwGliEEGvBBxBcUw7QFYnGkEywZxATVEuQZzSQEHKz6bA1a9EQL4jY0DWSuk/p9o9QWvq7T509qBAcp1hQdasTkEEoVJBrB5SwPZm/kBVH5rAsRfNQPpLbEF3Sa7ABeshQUFQikCowZnACCnNwL6KDkBtnoxBSagvP3UsUEH9Rg1BT+eUQMGLl0G/hFTAnkTvQH1mHUHnCIpBxWyBwCSNtEHks69BRyYUQRQUbEF/Wg7AnlOKQXxHXcCbho9AoTKtwH93qsCxUrq+xjp9QQ==",
        "encoding": "base64",
        "path": [
         "_data",
         1,
         "x",
         "value"
        ]
       },
       {
        "data": "W0jxP6ef3ED0BZRAoNcsQb5JQkA//SRAqVMLQcGHN0FTXSxBlj4PQeU+A0Ez+QJB67qoQJGmj8HZu8NA+JVCQerdjj9ciwJBP5ujQQ+9yEB77zI/m4sCQaZ0qL/zcYlAttNAQdPWKEBLhplBG1C5QCVXTEDJOxBBSzvmPwqn4kDifB9B0hwCwLMxSUE4uaZANRy1vRyPUUBULRNBJoQNQfx3d0DxcXJBok34QEksUEFK9Co+0tSsQIU5LUEKoAxBgAlTPp3eJEFWqsRAHFwjQQ8KNECX0txAUv5sQUhXIEGhWTxBjXbVQDA29ECBUwhAS+a/QLXzCkEibSZBc1l8QDEy9EDbksNAboELQC8QTkCCVohBQNTmQC+6D0HsNHw92d91QUs290Ap3ehABvqxQB4KGUHtWy9AxWhgQPeXHEFB19JAkNHrQOeYUUGPMLY/kj+EQeSF4UBgIBJBB5/xQKW+w0DDWX5B+DpGQT4IwEByzJ1AerKSQW5DikE4wDJB9OBUQTw7CkED8NFAjCA3QQu5lUE88IpAC5KKQCNnQEHOAzJAbWcWQfvd40DQ/vRAoLUKQUbXBkEf1MRAxX4nQYIWvUDPjaxAkZHpP34gP0FAzsZAtrC0QBtLD0FuR3lBcyYZQXkpv0BsBK1AY8hMQe0d6kBhW6dBoE0WQRsZR0H843lBexntQCvIP0HusMRArZ4GQUPiSEByLfK/b3ZOwCSQMj/dhWQ/EwHJQApKYUHHUt9Au0dAwI8xKEHVjl1AREeRQB3sEkDxSapAB8hrQc4QHkGf+ZPBbYGXQDISaUHPcNZA2/mYQFlTtUALlI/BysYdv8OwBEFpwcVAmtTpQMUKgECDIAdAtAyvQPQ9nUCGThdBaCZEQMssjD/2lF9BMandQGkHpUGzhMpAgBvLPjyTHkG1qydBvdcrQSZx20AtqcJAGMOyQNgJqEBOtSBBTh27PxgzeEE4iURAb46RPzK1CkGObQxA/NH3QJxrc0Gy9NRAn2CrQBjzLkA7DRlBx4XZQCrwIsArwBVBPRJBQYOnIEFk/VxA3T3sQMEfcUHv3EpBOhJuQSVLa0CldxFBmdEBQK/kAkEnlrZAkx0FQZHybEGNl2ZBOPKQQKFqg0DCOhZBUC7oQKmmFEEV+VhAs5QAvzhgX0B37wNBKE4JQTxkLEHQW0dBU+wiQY34BEEwnKhBiwG2QINhFkG4lYtAhUbsQIUj70BAA6w/VP4IQd2LDkDKCyhBvjYhQbiu8UDxeAhB1UxPQYsozz8wrAZAGE8xQe9h7kDBM8RAaJ/0QOUb/UCrCKk/bbFIQbO7C0GPQSFB8WsCQQ==",
        "encoding": "base64",
        "path": [
         "_data",
         1,
         "y",
         "value"
        ]
       }
      ],
      "model_module": "jupyterlab-plotly",
      "model_module_version": "^5.13.1",
      "model_name": "FigureModel",
      "state": {
       "_config": {
        "editSelection": false,
        "plotlyServerURL": "https://plot.ly"
       },
       "_data": [
        {
         "customdata": [
          [
           "happiness",
           "Tiller and breezy should do a collab album. Rapping and<br>singing prolly be fire"
          ],
          [
           "anger",
           "Puzzle investing opening portland feodal population is<br>correlative straight a snorting infuriate: XLzjYhG"
          ],
          [
           "sadness",
           "so gutted i dropped one of my earrings down the sink at<br>school"
          ],
          [
           "sadness",
           "I'm so bored and fat and full and ridiculously overweight<br>and rolls galore"
          ],
          [
           "sadness",
           "@user I so wish you could someday come to Spain with the<br>play, I can't believe I'm not going to see it #sad"
          ],
          [
           "happiness",
           "Val got a little too big for her hiking boots with that<br>bakewell, the little terror #GBBO"
          ],
          [
           "happiness",
           "@user bts' 화양연화 trilogy MV is my all time fav🙌 quite gloomy<br>but beautiful as well✨"
          ],
          [
           "anger",
           "Why are people even debating on race inequality within our<br>justice system like it's non existent? They're just trying<br>to aggravate us."
          ],
          [
           "anger",
           "@user @user don't get me started on town centre. Used to go<br>every week.... not been for 18 months #horrible"
          ],
          [
           "anger",
           "@user ur road rage gives me anxiety."
          ],
          [
           "happiness",
           "Well stock finished &amp; listed, living room moved around,<br>new editing done &amp; fitted in a visit to the in-laws.<br>#productivityatitsfinest #happy"
          ],
          [
           "sadness",
           "nooooo. Poor Blue Bell! not again. #sad"
          ],
          [
           "anger",
           "@user snap, seems to be a problem here"
          ],
          [
           "happiness",
           "@user #ldf16 what shall we do this weekend?  #spraypainting<br>in #greenwichmarket with @user #core246 #lilylou #fret &amp;<br>#benoakley"
          ],
          [
           "anger",
           "@user now you gotta do that with fast n furious"
          ],
          [
           "anger",
           "Ffs 🙈 when things come back to haunt you... cringe bad<br>cringe 🙋🏼👀🔫 👈 what a terrible gun that is"
          ],
          [
           "happiness",
           "Another joyful encounter in Tribez &amp; Castlez! I just met<br>Bartolomeo! Do you want to know who that is? Download the<br>game and find out!"
          ],
          [
           "anger",
           "Nothing else could possibly put a damper on my day other<br>than doing X-rays on someone with kickinnnnn ass breath 😿"
          ],
          [
           "sadness",
           "Migraine hangover all day. Stood up to do dishes and now I'm<br>exhausted again. GAD, depression &amp; chronic pain #anxiety<br>#depression #pain"
          ],
          [
           "sadness",
           "Drop Snapchat names #bored #snap #swap #pics"
          ],
          [
           "happiness",
           "@user @user @user @user gotta shake the booty instead<br>though, makes sure it's all good 🙂"
          ],
          [
           "sadness",
           "@user @user Horrid disease! My maternal grandmother and each<br>of her sisters suffered from this affliction. It's hard on<br>all."
          ],
          [
           "anger",
           "Side chick's be trying to fuck u like your going to forget<br>about your wife when your done."
          ],
          [
           "sadness",
           "Don't get too close it's dark inside 🌫🌊"
          ],
          [
           "sadness",
           "I am often disturbed by what some people find appropriate or<br>acceptable. It's not funny nor cute that adults find this<br>stuff humorous. #sad"
          ],
          [
           "happiness",
           "@user ehhh I guess. I want to everyone I've ever burst out<br>laughing in front of😂"
          ],
          [
           "anger",
           "So Rangers v Celtic ll #revenge"
          ],
          [
           "happiness",
           "@user she looks completely #rabid @user"
          ],
          [
           "anger",
           "@user @user candy corn is the greatest candy in the world<br>when it comes to being objectively terrible"
          ],
          [
           "anger",
           "You insult the late Sherri Martel"
          ],
          [
           "happiness",
           "@user @user YES! I am rejoicing"
          ],
          [
           "sadness",
           "Forgot to plug the phone in overnight #nightmare"
          ],
          [
           "anger",
           "Damnnit! Gonna be 1400 pts shy on Chiefs Rewards of getting<br>a post game photo."
          ],
          [
           "sadness",
           "Overwhelming sadness.  This too shall pass.  #lonley<br>#startingover"
          ],
          [
           "happiness",
           "i love that tay &amp; tiff are just sitting at my house<br>while i'm at work 🙃"
          ],
          [
           "anger",
           "@user I was talking about further in the expansion, with<br>more gear - fury always does well towards the end"
          ],
          [
           "anger",
           "I can't believe @user can't put up even 3 points on @user<br>#horrible #hugeletdown"
          ],
          [
           "happiness",
           "Time to go hit up the library - I have a lovely PILE of book<br>reservations to collect this morning... #glee #books<br>#reading"
          ],
          [
           "happiness",
           "#nana 4 hoco bc my dream since freshman year awe 😙❤❤❤ @user"
          ],
          [
           "anger",
           "@user @user the refs are in GT's favor tonight. #terrible"
          ],
          [
           "anger",
           "@user where's your outrage that your party nominated a<br>lying, corrupt person? And received donations from nations<br>who support terror"
          ],
          [
           "anger",
           "@user What? Hillary has 27 different controversies and she<br>gets asked NOTHING about any of them. Truth is she's a<br>horrible candidate"
          ],
          [
           "anger",
           "Finally uploaded the file I needed to the university<br>server's drop box. It took like half an hour and a lot of<br>cursing and anger on my part"
          ],
          [
           "sadness",
           "@user @user I cancelled by CBS all access live feeds before<br>JC even said Vic won AFP. Paul.should have won IMO"
          ],
          [
           "happiness",
           "I added Paul Walker on Xbox but he just spends all of his<br>time on the dashboard. #dark #humor #funny"
          ],
          [
           "sadness",
           "Breaking out in hives for the first time since college<br>finals. #anxiety sucks"
          ],
          [
           "happiness",
           "@user made me laugh, that quote. In a sort of rueful way."
          ],
          [
           "anger",
           "@user can you please not have Canadian players play US<br>players, that lag  is atrocious. #fixthisgame #trash<br>#sfvrefund"
          ],
          [
           "anger",
           "@user I've been disconnected whilst on holiday 😤 but I don't<br>move house until the 1st October 🤔"
          ],
          [
           "happiness",
           "@user @user It's hilarious"
          ],
          [
           "happiness",
           "Friday is here, and we are open tonight and tomorrow. Get a<br>jump on your Halloween and come play with us. #hauntedattrac-<br>tion #tulsa #haunt"
          ],
          [
           "happiness",
           "@user [he gives a gleeful squeak and wraps around you] All<br>mine!"
          ],
          [
           "sadness",
           "@user See your primary care doctor. They can prescribe meds<br>and refer you to a psychiatrist for eval. Don't mess with<br>depression."
          ],
          [
           "optimism",
           "@user So I worry about emphasis on 'keeping family together'<br>as a guiding principle, due to my own experiences"
          ],
          [
           "anger",
           "So I've decided to go talk to Mr. Smithrud about that creepy<br>fucking guy since he gave me a fucking anxiety attack this<br>morning"
          ],
          [
           "sadness",
           "Idk why but this Time around its so hard that it hurts, I<br>already miss them all so much #silly #family #friends<br>#nervous"
          ],
          [
           "sadness",
           "If Payet goes either in Jan or @ the seasons end, can't say<br>I blame him. The boy must b so disheartened by what he's<br>seeing at the mo."
          ],
          [
           "happiness",
           "I like cycling because I get to intimidate people with my<br>powerful calves &amp; horrendous tan lines."
          ],
          [
           "anger",
           "@user be nice if the Texans could hold onto the ball to give<br>fuller and Hopkins a chance!!! #awful #TNF"
          ],
          [
           "anger",
           "@user add tracking but resent them"
          ],
          [
           "anger",
           "@user ...specifically are the cause of it all, and they<br>resent being considered the enemy."
          ],
          [
           "sadness",
           "Haven't gotten one hour of sleep... Today is going to be a<br>fun day 😐"
          ],
          [
           "sadness",
           "not near my kitchen so unfortunately I cannot do a cooking<br>snap series 🍳"
          ],
          [
           "happiness",
           "Clash of the titans and wrath of the titans 🙌🏾🙌🏾🙌🏾 🔥"
          ],
          [
           "anger",
           "@user This is it. The complete illiteracy around the role,<br>nature and extent of British agents is shocking."
          ],
          [
           "happiness",
           "It's a beautiful day today. Cloudy but sunny and breezy."
          ],
          [
           "happiness",
           "@user I'll be there!! Can't wait for all the #mirth!"
          ],
          [
           "anger",
           "Donnie trumpeter is a vapid and vacant vile viper slithering<br>through the landscape and playing on the gears of the<br>fearful and afraid."
          ],
          [
           "anger",
           "Hate being sober so I popped two"
          ],
          [
           "anger",
           "I'm just a fuming ball of anger today 🙃"
          ],
          [
           "anger",
           "@user negative campaign of doom and gloom don't win<br>elections"
          ],
          [
           "sadness",
           "@user @user Start mournful then kick into major key in last<br>verse where good guys win? (Or just change words in existing<br>song?)"
          ],
          [
           "anger",
           "I remember when Rooney wanted to leave United and the fans<br>threaten to kill the man and bare junk... wanna regretting<br>that now? 😂😂"
          ],
          [
           "anger",
           "God knows why you'd wanna go with a girl who's slept with<br>half ya mates #grim"
          ],
          [
           "anger",
           "because a kitchen sink to you is not a kitchen sink to me,<br>okay friend?"
          ],
          [
           "sadness",
           "At my age all I see is gray. Is it gray because of my bad<br>eyes or my perspective #depression  #healingjustice"
          ],
          [
           "anger",
           "I can't even right now #bb18 #rage"
          ],
          [
           "anger",
           "ICQ is just making me mad!!!😤 #icq"
          ],
          [
           "sadness",
           "Has anyone noticed that @user stories in recent days all<br>paint positive accomplishments for Trump and challenges for<br>Hillary? #surprised #sad"
          ],
          [
           "anger",
           "Checked-in for my flight to Toronto. Took seat 3D just to<br>infuriate @user"
          ],
          [
           "anger",
           "If Monday had a face I would punch it #monday #horrible<br>#face #punch #fight #joke #like #firstworldproblems #need<br>#coffee #asap #follow"
          ],
          [
           "sadness",
           "It's my last week at CN! I'm gonna be sad to leave, but this<br>will also be my first planned break since going into<br>animation!"
          ],
          [
           "happiness",
           "@user can you at least just walk past her and break out into<br>laughter"
          ],
          [
           "anger",
           "@user Anything is better than a Trump ramble. He is awful.<br>Truly truly awful."
          ],
          [
           "anger",
           "when you find out the initiative isn't even a thing 😧<br>#revenge"
          ],
          [
           "sadness",
           "you make my heart shake, bend and break.'"
          ],
          [
           "happiness",
           "How wonderful to see a show with a token man for once!<br>#GlasgowGirls was uproarious, gleeful, important &amp;<br>uplifting. Go see @user"
          ],
          [
           "sadness",
           "I haven't watched my favorite youtubers in months and it's<br>honestly made my depression so much worse"
          ],
          [
           "anger",
           "I am going to make it my life's mission to discourage anyone<br>from using @user They will rob you blind"
          ],
          [
           "sadness",
           "I'll just have to #eat my way to #sobriety. This'll be a<br>hell of a journey back to #sober"
          ],
          [
           "happiness",
           "@user @user grim should find broken Matt hardy because he<br>can delete everything lol"
          ],
          [
           "sadness",
           "Panic attacks are the worst. Feeling really sick and still<br>shaking. I should be a sleep.  #depression"
          ],
          [
           "anger",
           "@user @user @user @user @user How did that chop feel? You<br>still feel the sting of it? Looks brutal!"
          ],
          [
           "anger",
           "some of the casuals tweets that Vic has faved are making me<br>gag #bitter"
          ],
          [
           "sadness",
           "After a nervous couple of days test results now confirm my<br>life will be no different whatsoever as the result of two<br>actors divorcing, phew!"
          ],
          [
           "sadness",
           "Trial result #sadness"
          ],
          [
           "happiness",
           "Google caffeine-an sprightly lengthening into the corridor<br>re seo: WgJ"
          ],
          [
           "sadness",
           "Andrew's hands start shaking and he says 'I hope I die..<br>like right now'"
          ],
          [
           "anger",
           "When your body says FUCK YOU BITCH, You ain't sleeping\\n#sle-<br>ep #cantsleep #drained #restless"
          ],
          [
           "sadness",
           "#Facebook is #depressing without even being there. Two apps<br>want it for logging in, I have missed at least two<br>interesting #events and they"
          ],
          [
           "sadness",
           "Mom you remember when Narley died? You cried like a baby!<br>#bully"
          ],
          [
           "anger",
           "How had Matty Dawson not scored there!!!!!"
          ],
          [
           "anger",
           "TVGirl is like I'm really pretty and melancholic about life<br>and this is why I hate myself"
          ],
          [
           "anger",
           "@user why should I listen to someone with a tie like that?"
          ],
          [
           "sadness",
           "Too many are on their 'yeah, the thing going on with cops<br>shooting innocent people is sad - but just not in my<br>backyard, so..' #sad #blm"
          ],
          [
           "anger",
           "im what a 90s tv bully would call 'a nerd' but i would<br>rather shove one thousand nickels into my right earhole than<br>go to new york comic con"
          ],
          [
           "anger",
           "They're like the rape apologists who (inadvertently?) make<br>men sound like rabid, mindless beasts. With friends like<br>these..."
          ],
          [
           "happiness",
           "One time I saw Rachel from glee tell someone their job was<br>on a pole and I said that in 5th grade to a boy and he look<br>confused"
          ],
          [
           "anger",
           "@user correction 26 ppl. Checked in. Standing at the gate.<br>&amp; Flt 1449 took off without us."
          ],
          [
           "happiness",
           "A 'non-permissive environment' is also called a 'battlegroun-<br>d' - #MilSpeak #hilarious"
          ],
          [
           "anger",
           "@user @user annoyed by the good loving fans of Onision<br>including myself Is really annoyed at how people just are<br>too cheerful."
          ],
          [
           "anger",
           "For the last 2 years the U.S. has been averaging about 4<br>terrorist attacks a month. Good debate topic. #Trump<br>#Hillary #terror"
          ],
          [
           "anger",
           "I mean, is she supposed to seem joyous when she's talking<br>Rodrigo Duterte, ISIS, the American economy, etc.? Think<br>about what you're saying."
          ],
          [
           "anger",
           "History repeating itself..GAA is our culture how dare anyone<br>think it's ok to discourage any Irish person from attending<br>any match or final"
          ],
          [
           "sadness",
           "Finally watched #hungergamesmockingjay2 this morning, sadly<br>I feel a little disappointed #toomuchhype"
          ],
          [
           "optimism",
           "Don't let worry get you down.  Remember that Moses started<br>out as a basket case.  #lol \\nToday, choose #faith over <br>#Moses"
          ],
          [
           "anger",
           "@user I had to unfollow, he got trolled by trolls. His<br>revenge trolling just caused a lot of collateral damage."
          ],
          [
           "anger",
           "James: no 500k, no 50k, no 25k, no 10k. You fucked up. #bb18<br>#shouldofVotedforNicole"
          ],
          [
           "anger",
           "Stop tracking back you fucking potato faced cunt errrr<br>infuriating 😠😠😠😠😠 #angry #Rooney #mufc"
          ],
          [
           "sadness",
           "Snores on TL. Boredom sunk in."
          ],
          [
           "happiness",
           "Listening to old school house music kentphonic-sunday<br>showers 'hanging around' 'sing it back' #blues"
          ],
          [
           "sadness",
           "@user @user sadly not !! One less hour drinking time 😢🍻"
          ],
          [
           "happiness",
           "@user + returned her joyous focus to the pastel-haired girl.<br>'Wawa's okay, tooooo~!' She squealed before raising her<br>eyebrows at the +"
          ],
          [
           "anger",
           "@user Don't ask, you don't get. Apologies if I've offended<br>you. All due respect Alan, I think you've been fed duff<br>info."
          ],
          [
           "anger",
           "@user a multimillionaire spoiled brat who gets In a self<br>righteous huff bc his friend is Muslim is a non starter<br>bye!"
          ],
          [
           "sadness",
           "Just heard what happen at grandad hometown last night such a<br>terrible news 💔, hope everyone okay 😢"
          ],
          [
           "sadness",
           "@user cum and despair"
          ],
          [
           "optimism",
           "@user If you don't love yourself... Honesty is the best<br>policy"
          ],
          [
           "happiness",
           "@user after such a heavy 2 days this has given much needed<br>levity. Thanks bro"
          ],
          [
           "anger",
           "(Sam) Brown's Law: Never offend people with style when you<br>can fake that, you have to break us in this Island."
          ],
          [
           "happiness",
           "#Trends thread;'P)..it was in my #drafts&amp;now #posted 2<br>mins after my #birthday..so #close:'O!:''/...but anyway it<br>#really was the #start of"
          ],
          [
           "sadness",
           "Shantosh: How crazy would it be to walk past and talk to a<br>person everyday never realizing he is suffering from<br>depression or such? …"
          ],
          [
           "anger",
           "#GBBO is such a homely pure piece of tv gold. Channel 4 will<br>attempt to tart it up. Mary, Sue and Mel gone. It's over.<br>I'm out. 👋"
          ],
          [
           "anger",
           "@user you should be criminalized for posting a pic of that<br>brown frown.... Get a pic of some jack, or cookies, or<br>diesel, Join up @user"
          ],
          [
           "happiness",
           "@user yep &amp; I stayed in pjs all day too lol x"
          ],
          [
           "happiness",
           "@user You are beyond wonderful.  Your singing prowess is<br>phenomenal but damn... I'm just elated to watch you act<br>again. #ThisIsUs 珞"
          ],
          [
           "happiness",
           "having a pet store worker ask 'do you want to play with<br>them?' is the most exhilarating feeling"
          ],
          [
           "optimism",
           "If you really care like you state @user @user then I would<br>seriously address sensitivity training to your employees"
          ],
          [
           "sadness",
           "So Mary Berry, Mel and Sue have gone with their principles,<br>and @user  has gone with the fame and fortune. #GBBO <br>#depressing"
          ],
          [
           "anger",
           "resentment is rlly my shit."
          ],
          [
           "anger",
           "not to be That Person™ but i get bitter seeing some ravi<br>stans"
          ],
          [
           "anger",
           "Cam cannot be serious with that IG post and that stupid ass<br>font he uses. Would've been better to just say nothing."
          ],
          [
           "anger",
           "So they #threaten to kill #kapernick for KNEELING. I say<br>every athlete just stop playing until social justice and<br>equality comes forth."
          ],
          [
           "anger",
           "@user Yikes. The wrath of Maddie..."
          ],
          [
           "anger",
           "Ever put your fist through your laptops screen? If so its<br>time for a new one lmao #rage #anger #hp"
          ],
          [
           "anger",
           "Some of these fb comments and/or tweets should make some<br>people realize why black Americans feel the way they do 😳"
          ],
          [
           "sadness",
           "@user ew omg that is so grim"
          ],
          [
           "happiness",
           "I wanna go to fright fest with squad"
          ],
          [
           "sadness",
           "Came in to work today 1.5 hours late.1st thing I hear:<br>'Ma'am,the big boss has been waiting for you in his office.'<br>#panic #hateBeingLate 😩😪"
          ],
          [
           "sadness",
           "@user @user it's sad but now we are making our own children<br>vulnerable to the same terror."
          ],
          [
           "happiness",
           "Stk is expensive but i'f rather take a bigger female there<br>than tiff. You all see how slim she is and how she loves to<br>eat."
          ],
          [
           "anger",
           "These people irritate tf out of me I swear 🙄 I'm goin to<br>sleep ✌🏾️"
          ],
          [
           "anger",
           "@user #VoteYourConscience or succumb to #fear? 'He is<br>#scary, he is #dangerous!' -@HillaryClinton's #alarmist<br>#PATRIOTACT platform."
          ],
          [
           "anger",
           "When you forget to mention you were bought dreamboys tickets<br>🙄😂 #raging"
          ],
          [
           "anger",
           "@user who do I contact about a shocking experience with<br>Clear Sky Holidays booked through you guys?? #customerservic-<br>efail #dreadful"
          ],
          [
           "sadness",
           "@user @user It is very specific areas only. I care like 0%<br>about clothes, much to my mother's dismay."
          ],
          [
           "sadness",
           "—but he just can't. He feels tired but also restless. So<br>here he now, scrolling his own music player, playing some<br>music through his—"
          ],
          [
           "sadness",
           "Synth backing tracks = sadness\\n#depresspop #dark #+++ #alt<br>#fuckingmeup"
          ],
          [
           "anger",
           "Panpiper playing Big River outside The Bridges in SR1<br>#outrage"
          ],
          [
           "anger",
           "@user @user   Hell hath no fury like a women scorned.   <br>It's the affair.  Not the parenting"
          ],
          [
           "sadness",
           "@user I think sadness is felt very strongly physically and<br>mentally.  It feels like it takes over and it's hard to<br>focus at work #MHChat"
          ],
          [
           "sadness",
           "@user I'm confident they will NEVER experience our successes<br>of last 50yrs. Best they can hope for is to be another<br>Bournemouth #sad"
          ],
          [
           "sadness",
           "Our soldiers in war zones are held to a higher level of<br>rules of engagement than our police officers."
          ],
          [
           "happiness",
           "@user breezy luvvvv"
          ],
          [
           "sadness",
           "Ffs clan... seriously never been so disheartened"
          ],
          [
           "happiness",
           "Halloween party coming soon! #turnt #ruinT #lit #firesauce<br>#hotsauce #mildsauce #getsauced #champagnedreams #scary<br>#haunt #kittens"
          ],
          [
           "sadness",
           "@user I knew you were going to do that. I would definitely<br>buy if I didn't live in Texas where you can't play DFS. ...<br>so depress"
          ],
          [
           "anger",
           "@user Far from safe and staid I found it horribly OTT at<br>times while everyone seemed to be trying just a little too<br>hard. Not for me"
          ],
          [
           "sadness",
           "she's always so insensitive whenever i grieve idgi"
          ],
          [
           "anger",
           "So not pumped for this interview"
          ],
          [
           "anger",
           "@user And you're cheerfully defending a group of unchecked,<br>armed thugs who've shown a history of racism, violence, and<br>lies."
          ],
          [
           "anger",
           "Staff on @user FR1005. Asked for info and told to look<br>online. You get what you pay for. #Ryanair @user #Compensati-<br>on"
          ],
          [
           "anger",
           "Your twitter picture just makes me fume."
          ],
          [
           "anger",
           "some people leave toilets in fucking grim states"
          ],
          [
           "sadness",
           "If i could just get my line to block! #germantownbroncos<br>#lilleague #popwarner #Broncos #usafootball  #lineman"
          ],
          [
           "anger",
           "@user @user a serious character flaw. Nowhere close to<br>@user"
          ],
          [
           "happiness",
           "#happy #birthday #day trip #great day #super nice weather<br>#blue sky #good mood #fun #love #ice cream #lycklig<br>#födelsedag #öland"
          ],
          [
           "happiness",
           "@user Yeah funny and sexy 😍"
          ],
          [
           "sadness",
           "@user It's an evening for lying around doing feck all. Looks<br>like an October evening down here #miserable"
          ],
          [
           "anger",
           "@user So are you saying there's a good chance that two teams<br>might *gasp* finish last? One in the East and one in the<br>West? #offended"
          ],
          [
           "anger",
           "@user keep your head clear an focused. Do not let T<br>intimidate you or use your children to silence you! Hate<br>when a man does that!"
          ],
          [
           "happiness",
           "@user The best of make up horror story..."
          ],
          [
           "anger",
           "we will send video to proper agency ,state workers harass<br>the public to fuel the ego of Scott Arniel  and trial court<br>what the bleep #bully"
          ],
          [
           "anger",
           "Fools! Little did you know that getting angry and trusting<br>your instincts by walking right into my trap was a mistake!"
          ],
          [
           "anger",
           "So apparently one of your bus drivers has a grudge against<br>me @user I was passed while waiting for it to stop. Real<br>service there.."
          ],
          [
           "anger",
           "@user Support Qld and you'd never be #angry"
          ],
          [
           "anger",
           "Psalm 2:12 Kiss the Son, lest He be angry, And you perish in<br>the way, When His wrath is kindled but a little."
          ],
          [
           "anger",
           "@user This is goin to be as good as rocky vs hogan #terrible<br>#ohnowhatisyoudoingbaby"
          ],
          [
           "sadness",
           "Said it once and I'll probably say it again, anything more<br>depressing than making your sandwiches for work the next day<br>#cry"
          ],
          [
           "sadness",
           "I hate these crippling anxiety. :("
          ],
          [
           "anger",
           "@user @user My shirt did not arrive today as promised, I<br>even pre-ordered it in June, who do I make my complaint to<br>?"
          ],
          [
           "anger",
           "@user I've tried to get through 3 times today and waited 20<br>mins each time, what do I have to do to get through?!"
          ],
          [
           "sadness",
           "My heart is hurting because I had to pour my milk out<br>because something was in it 😭"
          ],
          [
           "anger",
           "Did they offend us and they want it to sound new?"
          ],
          [
           "anger",
           "@user Nope we don't have it. It's an #outrage"
          ],
          [
           "happiness",
           "Carlsbad #Rouladen is one #delicious, hearty, home-style<br>dish! Stop by and let us know how you like it! #getdtl<br>#ldnont #chaucers #marienbad"
          ],
          [
           "sadness",
           "@user he knows wonwoo can't hold any longer when his fingers<br>trembling uncontrollably :( so sol gives his mask for wonwoo<br>and"
          ],
          [
           "anger",
           "It bugs me that people concern themselves so much with what<br>other people CHOOSE to do with their money 😂🙈"
          ],
          [
           "anger",
           "Up early. Kicking ass and taking names. #offense."
          ],
          [
           "sadness",
           "@user I woke up in dread too. #2017"
          ],
          [
           "happiness",
           "@user Thanks bby 💚 tiff got a pair too so I'll probably<br>steal hers lol"
          ],
          [
           "happiness",
           "@user at his best.... Great to watch u go big sir.<br>#tremendous hits \\nDts boom boom Afridi 😍"
          ],
          [
           "anger",
           "Today if i was a colour it would be red !!! #rage"
          ],
          [
           "anger",
           "I rage quit on Minecraft and I deleted the game. #rage"
          ],
          [
           "optimism",
           "@user @user Sort it out @user"
          ],
          [
           "anger",
           "#ATO hacking into your phone calls and text messages!<br>#privacylaws #invasion I knew they did it but hearing them<br>get approval !"
          ],
          [
           "sadness",
           "Thing is ... It's hard to be sober"
          ],
          [
           "sadness",
           "@user It's grim 😝"
          ],
          [
           "happiness",
           "@user Looks beautiful 😘"
          ],
          [
           "anger",
           "#ColorFabb #Ngen Worst filament for me :( Good finish but so<br>fragile :'( cc @user"
          ],
          [
           "sadness",
           "also had a dream i got to see my friend who's at basic rn<br>and woke up super sad because i won't see her until next<br>summer.. :("
          ],
          [
           "happiness",
           "Ten: Amazing the snap power @user gets off such a short<br>back-swing! #threat @user Rd of 16 #ATP 🎾🎾"
          ],
          [
           "optimism",
           "#worry leads to tension and pressure #prayer leads to peace"
          ],
          [
           "anger",
           "@user I didn't. We all went out and got pissed down the<br>local instead. 😄"
          ],
          [
           "sadness",
           "nothing happened to make me sad but i almost burst into<br>tears like 3 times today¿"
          ],
          [
           "happiness",
           "@user @user Told you ! It's basically another iron man but a<br>cheaper version 😂"
          ],
          [
           "anger",
           "@user This is the most fucking cursed FEHeroes unit I've<br>ever had the displeasure of seeing"
          ],
          [
           "sadness",
           "Not all people are #concern, some are just enjoying seeing<br>people in #miserable."
          ],
          [
           "sadness",
           "@user @user Why is this even a thing? #lost"
          ],
          [
           "anger",
           "3 hours of hell again. #anxiety. At this point I'm convinced<br>I'll never get an on site job again or play keyboards live."
          ],
          [
           "anger",
           "Boom pagod 😡"
          ],
          [
           "anger",
           "@user how could you put this show on air !! Disrespectful to<br>so many mums and families 😡"
          ],
          [
           "optimism",
           "@user @user Yes I also wrote to them cause my friend was<br>getting nervous about it. Hope we get what we want &gt;&lt;"
          ],
          [
           "happiness",
           "The lecturer tonight had such a muppet frown it was great."
          ],
          [
           "anger",
           "Mothafuckas wanna adopt the dark, but I was born in it"
          ],
          [
           "sadness",
           "Shitty is the worst feeling ever #depressed #anxiety"
          ],
          [
           "happiness",
           "@user 5000 likes. There are 300 million people in the U.S.<br>Ha. You are Real popular 😅"
          ],
          [
           "sadness",
           "better care about yourself than about others because others<br>wont care about you #lonely #sad #depressed"
          ],
          [
           "happiness",
           "@user Well, thank you. Sincerely 😊"
          ],
          [
           "happiness",
           "You can clearly appreciate the sub-harmonics in both...-ONE💯-<br>😂😂😂👍🏿"
          ],
          [
           "happiness",
           "Should I be flattered that locals keep asking if Im Swedish?<br>#Swedish #beautiful #Europe"
          ],
          [
           "anger",
           "Skyq is 👌🏼 but it's about time @user sorted there internet<br>out! #dreadful"
          ],
          [
           "anger",
           "Nothing fuels my daily anger and hatred like a bus driver<br>who stops at a yellow light"
          ],
          [
           "anger",
           "Why am I listening to Trump when #BachelorInParadise is<br>suppose to be on...get this crap off my TV! #ugh"
          ],
          [
           "sadness",
           "I start my day thanking my stars. Then I see my colleague<br>walk away early (notice period- honeymoon scenes) and I<br>wonder 'WHY GOD WHY !'"
          ],
          [
           "sadness",
           "@user  #DeMario was a player but even an allegation of<br>#sexualassault will ruin a life. Be damned sure it's true.<br>#heartbreaking"
          ],
          [
           "anger",
           "Are people becoming more annoying or am I becoming more<br>angry?! 😩😒😕\\n#introvertproblems"
          ],
          [
           "anger",
           "Thousands of pickled certified ostrogoths ! #angry"
          ],
          [
           "anger",
           "@user Who even knew that the Eu could be vindictive."
          ],
          [
           "happiness",
           "Yaaaaaaaaaaaas!!!! Scotty Sinclair #wonderful #magical"
          ],
          [
           "sadness",
           "I miss my friends so badly 😢"
          ],
          [
           "happiness",
           "@user But his mannerisms are hilarious !!"
          ],
          [
           "anger",
           "Nobody *assumed* what role you should play. It was a dream<br>cast. It's not real life. Get over yourself and pipe down.<br>#rage"
          ],
          [
           "anger",
           "@user Yeah I've had that, l say hopefully you'll never get<br>it then you horrific waste of skin."
          ],
          [
           "anger",
           "@user @user And using political power to exact #revenge when<br>they don't get what they want. #Kushner"
          ],
          [
           "anger",
           "see, that shit would irritate me so much. don't save my<br>picture and then have a secret circle jerk on twitter about<br>how you DONT like me"
          ],
          [
           "sadness",
           "As included in the Villalta scale, people living with #PTS<br>experienced heaviness of the leg and pretibial oedema.<br>#ISTH2017"
          ],
          [
           "sadness",
           "Definitely crying from the worst nightmare I've had in a<br>awhile"
          ],
          [
           "anger",
           "shaft abrasions from panties merely shifted to the<br>side\\n\\n#theoldsideshift #annoyance #humansoflatecapitalism"
          ],
          [
           "anger",
           "All this fake outrage. Y'all need to stop 🤣"
          ]
         ],
         "hovertemplate": "<b>%{hovertext}</b><br><br>Dataset=Train<br>Reduced Embedding (0)=%{x}<br>Reduced Embedding (1)=%{y}<br>Label=%{customdata[0]}<br>Sample=%{customdata[1]}<extra></extra>",
         "hovertext": [
          "Train",
          "Train",
          "Train",
          "Train",
          "Train",
          "Train",
          "Train",
          "Train",
          "Train",
          "Train",
          "Train",
          "Train",
          "Train",
          "Train",
          "Train",
          "Train",
          "Train",
          "Train",
          "Train",
          "Train",
          "Train",
          "Train",
          "Train",
          "Train",
          "Train",
          "Train",
          "Train",
          "Train",
          "Train",
          "Train",
          "Train",
          "Train",
          "Train",
          "Train",
          "Train",
          "Train",
          "Train",
          "Train",
          "Train",
          "Train",
          "Train",
          "Train",
          "Train",
          "Train",
          "Train",
          "Train",
          "Train",
          "Train",
          "Train",
          "Train",
          "Train",
          "Train",
          "Train",
          "Train",
          "Train",
          "Train",
          "Train",
          "Train",
          "Train",
          "Train",
          "Train",
          "Train",
          "Train",
          "Train",
          "Train",
          "Train",
          "Train",
          "Train",
          "Train",
          "Train",
          "Train",
          "Train",
          "Train",
          "Train",
          "Train",
          "Train",
          "Train",
          "Train",
          "Train",
          "Train",
          "Train",
          "Train",
          "Train",
          "Train",
          "Train",
          "Train",
          "Train",
          "Train",
          "Train",
          "Train",
          "Train",
          "Train",
          "Train",
          "Train",
          "Train",
          "Train",
          "Train",
          "Train",
          "Train",
          "Train",
          "Train",
          "Train",
          "Train",
          "Train",
          "Train",
          "Train",
          "Train",
          "Train",
          "Train",
          "Train",
          "Train",
          "Train",
          "Train",
          "Train",
          "Train",
          "Train",
          "Train",
          "Train",
          "Train",
          "Train",
          "Train",
          "Train",
          "Train",
          "Train",
          "Train",
          "Train",
          "Train",
          "Train",
          "Train",
          "Train",
          "Train",
          "Train",
          "Train",
          "Train",
          "Train",
          "Train",
          "Train",
          "Train",
          "Train",
          "Train",
          "Train",
          "Train",
          "Train",
          "Train",
          "Train",
          "Train",
          "Train",
          "Train",
          "Train",
          "Train",
          "Train",
          "Train",
          "Train",
          "Train",
          "Train",
          "Train",
          "Train",
          "Train",
          "Train",
          "Train",
          "Train",
          "Train",
          "Train",
          "Train",
          "Train",
          "Train",
          "Train",
          "Train",
          "Train",
          "Train",
          "Train",
          "Train",
          "Train",
          "Train",
          "Train",
          "Train",
          "Train",
          "Train",
          "Train",
          "Train",
          "Train",
          "Train",
          "Train",
          "Train",
          "Train",
          "Train",
          "Train",
          "Train",
          "Train",
          "Train",
          "Train",
          "Train",
          "Train",
          "Train",
          "Train",
          "Train",
          "Train",
          "Train",
          "Train",
          "Train",
          "Train",
          "Train",
          "Train",
          "Train",
          "Train",
          "Train",
          "Train",
          "Train",
          "Train",
          "Train",
          "Train",
          "Train",
          "Train",
          "Train",
          "Train",
          "Train",
          "Train",
          "Train",
          "Train",
          "Train",
          "Train",
          "Train",
          "Train",
          "Train",
          "Train",
          "Train",
          "Train",
          "Train",
          "Train",
          "Train",
          "Train",
          "Train",
          "Train",
          "Train",
          "Train",
          "Train",
          "Train",
          "Train",
          "Train",
          "Train",
          "Train",
          "Train",
          "Train",
          "Train",
          "Train",
          "Train",
          "Train",
          "Train",
          "Train",
          "Train"
         ],
         "legendgroup": "Train",
         "marker": {
          "color": "#00008b",
          "line": {
           "color": "DarkSlateGrey",
           "width": 1
          },
          "opacity": 0.4,
          "size": 8,
          "symbol": "circle"
         },
         "mode": "markers",
         "name": "Train",
         "orientation": "v",
         "showlegend": true,
         "type": "scatter",
         "uid": "1f4609b6-c080-484b-b1b4-9b05a35b4e0c",
         "x": {
          "dtype": "float32",
          "shape": [
           250
          ]
         },
         "xaxis": "x",
         "y": {
          "dtype": "float32",
          "shape": [
           250
          ]
         },
         "yaxis": "y"
        },
        {
         "customdata": [
          [
           "anger",
           "My roommate: it's okay that we can't spell because we have<br>autocorrect. #terrible #firstworldprobs"
          ],
          [
           "optimism",
           "Love is when all your happiness and all your sadness and all<br>your feelings are dependent on another person."
          ],
          [
           "happiness",
           "@user @user wow. not heard this in forever. Random but.<br>great #sting #xph"
          ],
          [
           "happiness",
           "On the bright side, my music theory teacher just pocket<br>dabbed and said, 'I know what's hip.' And walked away 😂😭"
          ],
          [
           "anger",
           "@user I assure you there is no laughter, but increasing<br>anger at the costs, and arrogance of Westminster."
          ],
          [
           "sadness",
           "i'm... nervous about this test rip"
          ],
          [
           "sadness",
           "Wow... One of my dads top favorite throwback rappers just<br>died in a fiery car crash today in Atlanta, so sad so sad<br>😷😷"
          ],
          [
           "sadness",
           "and I'm up from a dream where I said something really<br>retarded on twitter and it got like 10000 retweets<br>#nightmare"
          ],
          [
           "happiness",
           "@user people have so much negativity filled inside them but<br>im always happy that in such a gloomy world someone like u<br>exists Namjoon"
          ],
          [
           "happiness",
           "When something makes you excited, terrified, thrilled,<br>nervous, elated &amp; like you've been kicked in the guts<br>all at once. Need word for that"
          ],
          [
           "optimism",
           "Carry on my wayward son, there'll be peace when you are<br>done. Lay your weary head to rest. Don't you cry no more.<br>#Supernatural"
          ],
          [
           "anger",
           "Did we miss the fact that #BurkeRamsey swung &amp;hit his<br>sister #JonBenet in the face with a golf club previously out<br>of a fit of ?"
          ],
          [
           "optimism",
           "If you think you're good to go already, don't worry about<br>it."
          ],
          [
           "happiness",
           "As I remember and reflect on Reginald Denny on a night much<br>like this (like #Charlotte) I think to myself, the gun lobby<br>must be rejoicing."
          ],
          [
           "optimism",
           "You can't fight the elephants until you have wrestled the<br>pigs. #quoteoftheday"
          ],
          [
           "sadness",
           "@user awe man, when are you free then? ☹️️☹️️☹️️💘💘💘"
          ],
          [
           "anger",
           "A country that gave safe house to #Osama Bin #Laden is<br>dangerous if not contained. #Pakistan is a #terror heaven,<br>declare so @user"
          ],
          [
           "sadness",
           "@user Very thought provoking &amp; leads one to question<br>what really happened.Very sad for all."
          ],
          [
           "happiness",
           "Happy Birthday @user  #cheerchick #jeep #jeepgirl #IDriveAJe-<br>ep #jeepjeep #Cheer"
          ],
          [
           "sadness",
           "two major banking stocks down almost 15 to 20 % from their<br>highs while benchmarks still close to top it is a sure<br>#worry for markets"
          ],
          [
           "anger",
           "How hard is it to get in touch with @user One simple<br>question I can't find answer to on website and 1 hour<br>waiting for online chat"
          ],
          [
           "sadness",
           "I mourn the creativity lost."
          ],
          [
           "happiness",
           "Professor: introduce yourselves and say one interesting<br>fact\\n\\nHi I'm Ethan and the Sun will engulf our planet in a<br>fiery explosion one day"
          ],
          [
           "anger",
           "@user haha! She did well today. I can't get beyond her pout<br>annoying me I'm afraid."
          ],
          [
           "sadness",
           "I just want to be in Canada rn 😭 awe"
          ],
          [
           "happiness",
           "@user  cheering for @user and @user"
          ],
          [
           "sadness",
           "#BB18 Michelle crying  again #shocking #bitter He's  just<br>not that into you 😢#TeamNicole"
          ],
          [
           "optimism",
           "Step out of your comfort zone. \\nGo for risks.\\nFace things<br>you fear. \\n\\nThis is when life starts to happen.\\n\\n#cpd"
          ],
          [
           "sadness",
           "@user Wow, did you get a really good buy on a bunch of '70's<br>movies? There were bad then and are worse now! #awful"
          ],
          [
           "happiness",
           "Yo there's a kid on my snap chat from LA &amp; they get high<br>off helium gas lmao.... I am like why the fuck lol"
          ],
          [
           "sadness",
           "@user Really sad &amp; surprising. 1 side #Russia fighting<br>against #IS &amp; on the other supporting #Pak which is epic<br>centre 4"
          ],
          [
           "sadness",
           "So @user those of us born in 85 have no generation! Where is<br>the gen-less tribe! Ha! #survivor #lost soles"
          ],
          [
           "anger",
           "It is too fucking bright &amp; too fucking hot outside"
          ],
          [
           "anger",
           "Their engine runs on fuel called whining :-)\\n\\nU jst  hv 2b<br>observant..\\nHar din Rona dhona &amp; complain. \\nHappy news<br>makes them unhappy :-)"
          ],
          [
           "optimism",
           "@user thank u so much! we just finished another #mindfulness<br>film called #release about #anxiety - plz share!"
          ],
          [
           "anger",
           "@user @user It's no secret: personal dislike of Trump &amp;<br>animosity has always been present..now magnified with<br>bigotry/racism etc."
          ],
          [
           "anger",
           "@user  #UNGA no talks should be carried out with Pakistan<br>now ... His mouth stinks of #terrorism #UriAttack"
          ],
          [
           "happiness",
           "@user lmao! I can only imagine the frown across that face of<br>yours. #Hilarity"
          ],
          [
           "optimism",
           "@user I know if I wasn't an optimist I would despair."
          ],
          [
           "sadness",
           "We express our deep concern about the suspension of   @user <br>please reactivate it. he never violated T.roles @user"
          ],
          [
           "anger",
           "Candice's pout gets more preposterous by the week. This week<br>it's gone a bit Jack Nicholson's Joker. #GBBO"
          ],
          [
           "anger",
           "Projection is perception. See it in someone else? You also<br>at some level have that within you. #anger #worry"
          ],
          [
           "anger",
           "@user Think about it if he need white peoples votes wouldn't<br>just reach out about things that only concern them &amp;<br>leave out rest?"
          ],
          [
           "sadness",
           "I know this is going to be one of those nights where it<br>takes an Act of God to fall asleep.  #restless"
          ],
          [
           "anger",
           "#NawazSharif says lets end #terror. Sure, let #IndianArmedFo-<br>rces target the bases without #Pakistan interference<br>#Karma?"
          ],
          [
           "sadness",
           "how maybe it was with you and your parents..that I would<br>understand you and your fear of indifference from your own<br>mom and dad.."
          ],
          [
           "sadness",
           "my school photo is honestly horrid, i look so ew😅"
          ],
          [
           "optimism",
           "a #monster is only a #monster if you view him through #fear"
          ],
          [
           "sadness",
           "The whole idea f a nation revolves around Kashmir &amp;<br>global terrorism: evrn don't care their kids dying of<br>hunger. #NawazFightsForKashmir"
          ],
          [
           "anger",
           "The Apocalypse has hit our gym and it's  nothing what I<br>thought it would be...\\n\\nEveryone is wearing vests! What if<br>it's contagious?"
          ],
          [
           "anger",
           ".@RepDelBene: 'Today's proceedings and the entire process is<br>an insult to our constituents.'"
          ],
          [
           "anger",
           "@user first you take the room now you wanna beat me up<br>#bully"
          ],
          [
           "happiness",
           "@user @user @user I still can't get jimmy garoppolo out of<br>my head and it's been almost 3 weeks. Thanks a lot!<br>#hilarious"
          ],
          [
           "anger",
           "Americans as a whole are, for the most part, feeling<br>borderline despair at the very least. Looking at a situation<br>out of control."
          ],
          [
           "anger",
           "Why does #terrorism exist in the first place? #AskTrumpOneQu-<br>estion"
          ],
          [
           "anger",
           "@user oh so that's where Brian was! Where was my invite?<br>#offended"
          ],
          [
           "anger",
           "Me: *sees incense burner* is this for drugs?"
          ],
          [
           "anger",
           "there are magpies gathering around me help I'm going to be<br>swooped ! #terrorism"
          ],
          [
           "sadness",
           "Light of day per heyday popularization backfire cinematograp-<br>hy: XUcQb"
          ],
          [
           "sadness",
           "@user but sadly he missed some crucial and important points.<br>Indian terrorism in pk,  kal Boshan,  etc..  Raw involvemen-<br>t"
          ],
          [
           "optimism",
           "Accept the challenges so that you can feel the exhilaration<br>of victory.' - George S. Patton"
          ],
          [
           "sadness",
           "life is hard., its harder if ur stupid #life #love #sadness<br>#sadderness #moreofsad #howdoestears #whatislife"
          ],
          [
           "sadness",
           "The smell of freshly cut grass didn't even cheer me up...boy<br>oh boy"
          ],
          [
           "anger",
           "@user @user I need it today! Do u know how many fuckin<br>French plaits I had to do this morn with a stroppy 9 yr<br>old!"
          ],
          [
           "anger",
           "Pro Tip: Go back to work when your kid reaches 20 mos old. <br>Stay home any longer, and you'll be absolutely miserable<br>with the #tantrums."
          ],
          [
           "sadness",
           "What terrible thing to see and have no vision-\\n\\nHelen<br>Keller-\\n\\n-Begin with the end in mind-\\n\\nStephen<br>Covey-\\n\\n #whereareugoing"
          ],
          [
           "happiness",
           "second episode of AHS 6 here i go"
          ],
          [
           "anger",
           "Just joined #pottermore and was sorted into HUFFLEPUFF 😡😡😡<br>#fuming"
          ],
          [
           "optimism",
           "@user i know i don't know u, but physiatrists are seriously<br>the number one best thing for people with anxiety."
          ],
          [
           "happiness",
           "Literally dying &amp; living at the same time as I catch up<br>on @user 's twitter. If you aren't following him your life<br>is BASIC. #hilarity"
          ],
          [
           "anger",
           "@user can be as indignant as he wants but the world knows<br>Obama will do nothing and Putin will just do what he wants<br>#Aleppo #Syria"
          ],
          [
           "sadness",
           "There goes the butterflies in my stomach.  #anxietyproblems"
          ],
          [
           "anger",
           "@user What if the supposed animosity is all bullshit to con<br>the Iranians?"
          ],
          [
           "sadness",
           "@user im pretty sure cause ever since saturday ive just been<br>super sad lol"
          ],
          [
           "happiness",
           "Tweeting from the sporadic wifi on the tube"
          ],
          [
           "optimism",
           "Never fear the want of business. A man who qualifies himself<br>well for his calling, never fails of employment."
          ],
          [
           "anger",
           "@user  The solution is to punish the criminals. That's the<br>only way to discourage crime. or the circle will continue."
          ],
          [
           "sadness",
           "I don't think I can go to work tomorrow since val has left<br>#GBBO I need a day to mourn"
          ],
          [
           "anger",
           "Trump supports reach another level of irritation within me"
          ],
          [
           "anger",
           "@user @user @user @user so you were owned by losers on<br>Twitter"
          ],
          [
           "anger",
           "@user @user like going to a so called cardiac arrest that<br>turned out to be a cut finger! #fuming #medchat"
          ],
          [
           "anger",
           "@user I don't read articles by people who rage about how<br>horrible 'Cybernats' are. Got it?"
          ],
          [
           "anger",
           "Like he really just fucking asked me that."
          ],
          [
           "anger",
           "@user I've contacted @user @user  #service #whathappenedtocu-<br>stomerservice"
          ],
          [
           "sadness",
           "A night where depression is winning... #depression #fml<br>#help"
          ],
          [
           "anger",
           "@user timid but determined version of the rabid beasts<br>beyond the land. Growling beneath my restrained breath, I<br>//rip// myself --"
          ],
          [
           "sadness",
           "Back in Cardiff after an amazing 10 days away 😭 #depressing"
          ],
          [
           "happiness",
           "At 12:01, Tumblr became sentient. At 1.:02, Tumblr posted gn<br>animated gif about it. At 12:03, Tumblr shipped itself."
          ],
          [
           "happiness",
           "Nutella is pine green forget me nots are ivory frozen is<br>god"
          ],
          [
           "sadness",
           "Feeling worthless as always"
          ],
          [
           "happiness",
           "@user AWH tiff you're such a great friend I love you :((<br>thank you"
          ],
          [
           "optimism",
           "A good head and a good heart are always a formidable<br>combination.' - Nelson Mandela"
          ],
          [
           "anger",
           "Rt @user i need that one back, that whole cd was hard, the<br>one with a #rage flew through, rhyme flow, n the 1 u speak<br>on the dollar"
          ],
          [
           "sadness",
           "@user why? Do you have depression?"
          ],
          [
           "sadness",
           "Most days, I don't know what my heart beats for. #depressio-<br>n"
          ],
          [
           "happiness",
           "Got to be up in 4 hours to go back to work #cantsleep<br>#excited"
          ],
          [
           "sadness",
           "It's just the lack of company and liveliness out here that<br>makes me bored."
          ],
          [
           "sadness",
           "life is hard., its harder if ur stupid #life #love <br>#sadderness #moreofsad #howdoestears #whatislife"
          ],
          [
           "anger",
           "Having a nail half hanging off is absolutely fucking grim,<br>even with my acrylic holding it on 😷😷"
          ],
          [
           "anger",
           "@user @user Yeah, it was sooo horrific, I needed to sit<br>down"
          ],
          [
           "anger",
           "Michelle is one of the worst players in bb history #bb18<br>#bbfinale"
          ],
          [
           "anger",
           "@user - frustration, looking up at Elphaba in a frown of<br>aggravation. Her high pitched voice was growing more and<br>more --"
          ],
          [
           "happiness",
           "@user \\nWho nose where those scent roses went\\nTo a spot in<br>the Orient\\nMummified\\nIn rapeseed oil fried\\nEating<br>drinking &amp; merriment."
          ],
          [
           "optimism",
           "630am meeting Olympic House #10golds24 .  #relentless<br>#neverquit #believe #dreambig #TeamTTO #going4gold"
          ],
          [
           "sadness",
           "Fewer and fewer good horror offerings from Hollywood every<br>year. Or have I just gotten too old for this shit?"
          ],
          [
           "sadness",
           "i is sad"
          ],
          [
           "happiness",
           "@user the bantz are absolutely top notch, inconsolable I was<br>when I realised"
          ],
          [
           "optimism",
           "Everywhere I go, the air I breathe in tastes like home.' -<br>@user"
          ],
          [
           "sadness",
           "where broken hearted lovers do cry away their gloom"
          ],
          [
           "anger",
           "@user impossible to say. We can only hope that I don’t<br>unwittingly trigger her ferocious side again. Hell hath no<br>fury.."
          ],
          [
           "anger",
           "@user @user he has BAD TEMPERAMENT #tantrums #HissyFits"
          ],
          [
           "sadness",
           "I'm so old next Friday. So super old😩💔 I dread birthdays"
          ],
          [
           "optimism",
           "Avoiding #fears only makes them scarier. Whatever your<br>#fear, if you face it, it should start to fade. #courage"
          ],
          [
           "anger",
           "@user @user fingers of fury!"
          ],
          [
           "anger",
           "Hey @user why can I only see 15 sent emails? Where's the<br>thousands gone?"
          ],
          [
           "happiness",
           "last nigt i dreamt \\nthat somebody loved me\\nno hope no<br>harm\\njust another false alarm"
          ],
          [
           "optimism",
           "I want my highlight to be so bright that if I ever get lost<br>and someone is looking for me in the dark, they'll find me."
          ],
          [
           "optimism",
           "It's about time I start taking my own advice"
          ],
          [
           "anger",
           "Traditionalists say it should be bored by or bored with, but<br>not bored of, a 'rule' cheerfully ignored"
          ],
          [
           "anger",
           "That way ur so angry you can literally feel ur blood<br>boiling"
          ],
          [
           "happiness",
           "Twitter is a font of endless hilarity."
          ],
          [
           "anger",
           "When someone tells you they're going to 'tear you apart' and<br>all they have to say is 'why are you so tall?' #shocking"
          ],
          [
           "anger",
           "@user @user fuming"
          ],
          [
           "sadness",
           "Just Laying Here, Can't Sleep 4 Some Reason #restless"
          ],
          [
           "happiness",
           "We stayed up all night long\\nMade our drinks too strong\\nFee-<br>ling ten feet tall\\nRopes swinging into the water\\nIn the<br>middle of the night"
          ],
          [
           "happiness",
           "Queen Bey will be smiling over sixth this afternoon"
          ],
          [
           "anger",
           "@user We should be ignoring these rioters like the current<br>administration ignores #terrorism. This will obviously make<br>it stop."
          ],
          [
           "anger",
           "ethan was with someone in the car when he did his revenge on<br>grayson"
          ],
          [
           "anger",
           "@user @user @user @user @user terrorist attack and terrorism<br>already exists in the history of islam."
          ],
          [
           "sadness",
           "@user @user included for maximum #sadness"
          ],
          [
           "happiness",
           "Dad asked if I was too hungover to function today. Little<br>does he know I stayed sober last night so i could get shit<br>faced tonight 😅"
          ],
          [
           "optimism",
           "Hope was an instinct only the reasoning human mind could<br>kill. An animal never knew despair."
          ],
          [
           "happiness",
           "Sharpened a pencil today, haven't sharpened once since 1999.<br>✏️ #exhilarating"
          ],
          [
           "happiness",
           "her fingers slide along your thighs, caressing the skin<br>before she's leaning down, down, down and the first lick is<br>teasing n playful."
          ],
          [
           "anger",
           "why are people so angry toward veggie burgers at in n out<br>wtf"
          ],
          [
           "happiness",
           "Hi guys! I now do lessons via Skype! Contact me for more<br>info. #skype #lesson #basslessons #teacher #free lesson<br>#music #groove #rock #blues"
          ],
          [
           "anger",
           "@user Virtually every statement by other countries at #UN<br>has referred to #terror as main threat to peace, #Pak still<br>in denial."
          ],
          [
           "anger",
           "@user Madrid is playing awful and no modric but 90 minutes<br>in Bernabéu stadium are so so long. Viallreal never won<br>there"
          ],
          [
           "sadness",
           "It'd probably be useful to more than women, but I'm dealing<br>with re-reading an article about a woman being harassed on<br>the subway."
          ],
          [
           "happiness",
           "I watch Amyah throw temper tantrums when she gets mad at<br>something and I'm just like damnit that is me and I can't do<br>nothing but laugh 😅"
          ],
          [
           "sadness",
           "@user my heart just sunk."
          ],
          [
           "happiness",
           "Historically Japanese have always been into #jazz and<br>#blues. The 70s dark age of jazz big names like C.C. &amp;<br>M.D. were surviving on Tokyo."
          ],
          [
           "anger",
           "A Lysol can got stuck in spray position and we're all slowly<br>suffocating from the trash can that smells like a Febreeze<br>factory."
          ],
          [
           "optimism",
           "@user door and cleared his throat, trying to dispel any<br>nervousness he had left."
          ],
          [
           "optimism",
           "The ecosystem is meant to break thru the wall of #apprehensi-<br>on. It's easy to follow a fave music star &amp; watch their<br>goings on–but #dentists?"
          ],
          [
           "happiness",
           "Dark, dense, and exhilarating come the finale, #HellOrHighWa-<br>ter is a gripping watch."
          ],
          [
           "anger",
           "Just had to reverse half way up the woods to collect the dog<br>n I've never even reverse parked in my life 🙄"
          ],
          [
           "anger",
           "So fucking mad my blood boiling."
          ],
          [
           "anger",
           "@user They wanna bully the Inhuman."
          ],
          [
           "anger",
           "A black female LEO💙 was shot 8 times and died in Philadelphi-<br>a --Where's the #outrage black people? @user #Sharpton #blm<br>#TheFive"
          ],
          [
           "optimism",
           "@user otherwise you're committing a crime against your soul<br>only sober ppl know what is good or bad for themselves"
          ],
          [
           "optimism",
           "World wants #peace from #terrorism #WorldPeaceDay #internati-<br>onaldayofpeace"
          ],
          [
           "happiness",
           "I found #marmite in Australia. `:)"
          ],
          [
           "happiness",
           "Miami proficiency is like pleasing by what name miami<br>beaches: pIkxb"
          ],
          [
           "anger",
           "#GADOT please put a left turn signal at Williams and Ivan<br>Allen Jr Blvd. This is absolutely ridiculous #ATLtraffic<br>#horrible"
          ],
          [
           "sadness",
           "Police: Atlanta rapper Shawty Lo killed in fiery car crash"
          ],
          [
           "optimism",
           "Are you #serious that #fredsirieix lives in Peckham......Sou-<br>th London's own #Love Guru(big up)"
          ],
          [
           "anger",
           ".\\nWe express our deep concern about the suspension of  <br>\\n@MohammedSomaa01  please reactivate it. he never violated<br>T.roles @user"
          ],
          [
           "anger",
           "@user i'm actually offended by it.  naming the most<br>fattening sandwich after a man who died of coronary disease<br>likely due to his diet?"
          ],
          [
           "optimism",
           "Blessed are those who mourn, for they will be comforted \\n  <br>Mt 5:4"
          ],
          [
           "anger",
           "Candice's pout is gonna take someone eye out mate! #GBBO"
          ],
          [
           "happiness",
           "Season 3 of penny dreadful is on Netflix...well my afternoon<br>is filled"
          ],
          [
           "optimism",
           "You have to find a way to top yourself."
          ],
          [
           "optimism",
           "Inner conflict happens when we are at odds with ourselves.<br>Honor your values and priorities.  #innerconflict #conflict<br>#values"
          ],
          [
           "anger",
           "@user  pls dont insult the word 'Molna'"
          ],
          [
           "optimism",
           "$100 says Teufel is 'reassigned' within the organization<br>before next year, but I wish it was sooner... #Mets<br>#thirdbasecoach  #lgm"
          ],
          [
           "sadness",
           "Imagine celtic burst the net wae every attempt, but nutt<br>same old dain it hard way usual"
          ],
          [
           "anger",
           "i am revolting."
          ],
          [
           "happiness",
           "I love swimming for the same reason I love meditating...the<br>feeling of weightlessness."
          ],
          [
           "happiness",
           "@user happy birthday machaaaa 🎈🎉🎊 stay awesome and murah<br>rezeki selalu 👍🏻"
          ],
          [
           "optimism",
           "“Let us not become weary in doing good, for at the proper<br>time we will reap a harvest if we do not give up.”\\nGalatian-<br>s 6:9 NIV"
          ],
          [
           "happiness",
           "🔝 #love #instagood #photooftheday @user #photoeveryday #cute<br>#picture #beautiful #followme #happy #follow #fashion #pic<br>#picoftheday"
          ],
          [
           "sadness",
           "watching that video and realizing that I've gotten uglier<br>#depressed"
          ],
          [
           "sadness",
           "I hung up on my manager last night 😭"
          ],
          [
           "optimism",
           "@user Although I have a nice vulva, I choose not to<br>intimidate other women with it."
          ],
          [
           "anger",
           "Just know USA, all Canadians don't agree with what Khadr's<br>settlement and his unwillingness to take responsibility for<br>his actions. #outrage"
          ],
          [
           "sadness",
           "and every time i cry hard, fear blankets me"
          ],
          [
           "anger",
           "@user @user @user You need a new tactic post-Trump/Brexit.<br>Hurling that insult around no longer works I'm afraid."
          ],
          [
           "anger",
           "this one lady literally parked next to me and scared the<br>shit out of me 🙃"
          ],
          [
           "sadness",
           "Every day I dread doing an 8 hour shift in retail 🙂"
          ],
          [
           "sadness",
           "#AmarnathTerrorAttack @user @user cn u plz ans wt u r afrd<br>of or wt stpng u to end #terrorism wn whol #India is stndng<br>wth u"
          ],
          [
           "anger",
           "Thousands of pickled dunder-headed anthracites ! #furious"
          ],
          [
           "sadness",
           "I dreamt that my dog, Snoopy, came back to life. Man I miss<br>that dog 🙁"
          ],
          [
           "happiness",
           "#note8 #animated said pen. Amazing. Wife loves this one"
          ],
          [
           "sadness",
           "My main concern are the children and his wife thats if she<br>is still stuck with him and if she is, then she's strong af.<br>Jeez 😟"
          ],
          [
           "happiness",
           "I finally got my drivers permit #yes #readytodrive #nervous<br>#scared"
          ],
          [
           "optimism",
           "@user use the F word as much as you need to. People may<br>start to listen. :)"
          ],
          [
           "anger",
           "blood rage"
          ],
          [
           "anger",
           "Dirty Den returns, bursting forth from his grave to deliver<br>a horrible vengeance."
          ],
          [
           "optimism",
           "You won't find #excuses if you seek #optimism. #realtalk"
          ],
          [
           "happiness",
           "Me: How much price for this poster of this sexy man? Sales<br>Clerk: That's a mirror, sir.\\n #LaughOutLoud"
          ],
          [
           "sadness",
           "And now that Im having the other way around, i feel so upset<br>and sad"
          ],
          [
           "happiness",
           "He is very playful and can hardly stay in one spot."
          ],
          [
           "happiness",
           "@user #awesome news for the blues"
          ],
          [
           "sadness",
           "although I laugh and I act like a clown beneath this mask I<br>am wearing a frown my tears are falling like rain from the<br>sky"
          ],
          [
           "happiness",
           "@user &amp; @user THANK YOU for the retweets. Much<br>#appreciated!!! #horror #monsters #MonsterBrawl @user"
          ],
          [
           "anger",
           "We cannot let @user #bully any #indiedev into paying them<br>for a 'faster lane'. Most indie devs don't have these funds.<br>But @user does!"
          ],
          [
           "happiness",
           "@user 'I spent so looking want to look like a Kardashian I<br>don't give even give a f**k it's the dad'😂😂😂😂 omfg😂😭😭😂<br>#hilarious"
          ],
          [
           "happiness",
           "Shall rest by day, a fiery gleam by night;"
          ],
          [
           "anger",
           "on July 13th,1989 in #Vienna , #Ghassemlou &amp; his fellows<br>was #terror by the agents of the #Iranian regime\\n#Iran<br>#Terrorism \\n#twitterkurds"
          ],
          [
           "happiness",
           "Thx @user for hosting us @user ❤️ my boys @user @user @user<br>😍 #great #nite"
          ],
          [
           "anger",
           "The second type of #anger is named 'settled and deliberate'<br>and is a reaction to perceived deliberate harm or unfair<br>treatment by others."
          ],
          [
           "sadness",
           "Thought It was a joke so sad anyway #biwott"
          ],
          [
           "happiness",
           "Horny. Anyone? #horny #bi #sex #london #snapchat #gaysnap<br>#hornysnap #snapchatgay #snapchathorny #gaysnapchat<br>#hornysnapchat #snapgay #snap"
          ],
          [
           "happiness",
           "Frick! @user is hilarious! Lovin his portrayal of a rancher<br>picking up feed bags &amp; climbing over the panel! 😂😂<br>#peedalittle #laugh"
          ],
          [
           "anger",
           "@user leave it kanna. same thing happened after Uri too.<br>outrage and outrage until Sept 30. anyways re.. will be out<br>today too."
          ],
          [
           "optimism",
           "There is much in the world to make us #afraid. There is much<br>more in our faith to make us #unafraid."
          ],
          [
           "sadness",
           "@user The little details in life can build up to things that<br>could affect you negatively and eventually make unhappy and<br>lonely."
          ],
          [
           "anger",
           "what does one do with all the bitterness + anger of lack of<br>job security, esp. when one has no obvious manoeuvres to<br>remedy the situation"
          ],
          [
           "anger",
           "Rage, rage against the dying of the light"
          ],
          [
           "anger",
           "@user it's awful!"
          ],
          [
           "happiness",
           "Daughter, her husband and kids caught a boatload of red<br>snapper &amp; mackerel off Port Aransas... we enjoyed the<br>#fish feast #delicious"
          ],
          [
           "anger",
           "I respect facebook and them killing Snapchat. If you can't<br>buy em, beat em #fb"
          ],
          [
           "sadness",
           "@user what are the current statistics concerning 'backdoor<br>abortions'. If alarming, what preemptive measures are in<br>place?"
          ],
          [
           "anger",
           "@user #shows how #irritated @user #brandkrk is #feeling for<br>his #community #brothers! So #Helpless 🙈🙈🙈 #ShameOnBhakts"
          ],
          [
           "happiness",
           "@user Im terrific thanks.\\nI hope you managed to get even if<br>it's just 40 winks of 😴. It was a crushing defeat. He was so<br>dejected"
          ],
          [
           "sadness",
           "I keep getting so worried about the amount of plastic that<br>gets thrown away atm as if I didn't panic enough about the<br>environment already :)"
          ],
          [
           "happiness",
           "@user I'd just whip up a cake batter or cookies &amp; throw<br>it in 😀 bakewell, frangipani is made with almonds"
          ],
          [
           "happiness",
           "I thought he cried over some of his relative death or<br>something but when i know the truth . I just wanna burst out<br>😂"
          ],
          [
           "happiness",
           "@user @user Billy Joel is in huge danger, he's so brave<br>#inspiring"
          ],
          [
           "anger",
           "@user Humanist &amp; sailor!? 😂😂😂😂😂😂😂😂  You forgot to add<br>big time loser! #arsehole 🇬🇧"
          ],
          [
           "sadness",
           "School duties. 😧 good night ppl"
          ],
          [
           "sadness",
           "@user Then dont disappoint them 😂"
          ],
          [
           "sadness",
           "@user Always saddens me when marriage doesn't work. It's<br>never helps when people get involved and start twisting<br>things too.."
          ],
          [
           "happiness",
           "Happy bday @user . You legit the big sister I never had 😌<br>have an amazing day dude 🙏🏽"
          ],
          [
           "optimism",
           "'First they #ignore you , then they #laugh at you , then<br>they #fight you , then you #win' #Gandhi"
          ],
          [
           "sadness",
           "Majka didn't start  :("
          ],
          [
           "anger",
           "Trump's a Magician.\\nBut the Prestige keeps being NOTHINGBUR-<br>GERS AGAIN\\nAnd the idiots keep foaming at the mouth in<br>packs over it.."
          ],
          [
           "sadness",
           "It's not length, it's A #gnawing #sense of #dread."
          ],
          [
           "anger",
           "#MiamiBryce asks Buck about Dak Prescott live during ASG.<br>And DC sports talk radio producers get to take the rest of<br>the night off. #outrage"
          ],
          [
           "anger",
           "@user @user Where's the picture? 😰"
          ],
          [
           "sadness",
           "Once she said you are my world, now she is saying not only<br>you exist in the earth. #pain  #heartbreaking"
          ],
          [
           "optimism",
           "Never stay silent or let anyone intimidate you into silence.<br>Lets make the world a better, safer place for kids<br>#wallofsilence"
          ],
          [
           "anger",
           "Why is an alarm clock going 'off' when it actually turns on?<br>#alarm #alarmclock #ThursdayThoughts"
          ],
          [
           "optimism",
           "@user Indeed 😲\\nAlways a #worry for our #homeland #Gibraltar<br>#Spain \\n#Tale or #foretelling #future\\n#great #short<br>#story"
          ],
          [
           "anger",
           "@user Sir, people need revenge"
          ],
          [
           "sadness",
           "@user This thread is a bunch of Putin lovers rejoicing over<br>a video posted by Iranian state television. Sad!"
          ],
          [
           "sadness",
           "Been so active these days. That now that I have a day off, I<br>am soooo restless. :P Haven't been restless in months."
          ],
          [
           "anger",
           "Article 370 must be abolished. Human rights must be denied<br>to these NGOs, Separatist n terrorists who advocate peace n<br>terrorism. @user"
          ],
          [
           "anger",
           "@user Muslims r justifying terror attacks on Hindus citing<br>babri, but who is hurting Hindu sentiments time and again by<br>killing cows?"
          ],
          [
           "anger",
           "@user just because you married money doesn't mean you have<br>class it just means you are a high prices prostitute. <br>#adorable"
          ],
          [
           "sadness",
           "@user This isn't about the UK government, sadly: reading<br>what I can of the article, it's coverage of the Irish law<br>review."
          ],
          [
           "anger",
           "Feeling full of existential dread? Bash mass surveillance 🌱"
          ],
          [
           "sadness",
           "@user Sorry to burst your bubble, but opposition research is<br>part of every political campaign.  Doesn't matter where it<br>comes from."
          ],
          [
           "sadness",
           "Would love to stop crying sometime today, on my tenth cry 🙄<br>deep sadness on top of food poisoning do not mix. #miserabl-<br>e"
          ],
          [
           "anger",
           "Few things more frustrating that organisations who don't<br>have media contact numbers and request you 'fill out our<br>online form' #rage"
          ],
          [
           "anger",
           "Grumpy AF today #badsleep  #grumpy"
          ],
          [
           "sadness",
           "I don't know how much longer I can play stupid 😒😔 #heartbrok-<br>en #stupid #sadness"
          ],
          [
           "happiness",
           "Cool and dreary in the orchard this morning. If you're a die<br>hard picker and still want to come out please dress<br>accordingly."
          ],
          [
           "happiness",
           "@user @user @user Well that's funny cause we all know she is<br>a serious Russian mafia atty"
          ]
         ],
         "hovertemplate": "<b>%{hovertext}</b><br><br>Dataset=Test<br>Reduced Embedding (0)=%{x}<br>Reduced Embedding (1)=%{y}<br>Label=%{customdata[0]}<br>Sample=%{customdata[1]}<extra></extra>",
         "hovertext": [
          "Test",
          "Test",
          "Test",
          "Test",
          "Test",
          "Test",
          "Test",
          "Test",
          "Test",
          "Test",
          "Test",
          "Test",
          "Test",
          "Test",
          "Test",
          "Test",
          "Test",
          "Test",
          "Test",
          "Test",
          "Test",
          "Test",
          "Test",
          "Test",
          "Test",
          "Test",
          "Test",
          "Test",
          "Test",
          "Test",
          "Test",
          "Test",
          "Test",
          "Test",
          "Test",
          "Test",
          "Test",
          "Test",
          "Test",
          "Test",
          "Test",
          "Test",
          "Test",
          "Test",
          "Test",
          "Test",
          "Test",
          "Test",
          "Test",
          "Test",
          "Test",
          "Test",
          "Test",
          "Test",
          "Test",
          "Test",
          "Test",
          "Test",
          "Test",
          "Test",
          "Test",
          "Test",
          "Test",
          "Test",
          "Test",
          "Test",
          "Test",
          "Test",
          "Test",
          "Test",
          "Test",
          "Test",
          "Test",
          "Test",
          "Test",
          "Test",
          "Test",
          "Test",
          "Test",
          "Test",
          "Test",
          "Test",
          "Test",
          "Test",
          "Test",
          "Test",
          "Test",
          "Test",
          "Test",
          "Test",
          "Test",
          "Test",
          "Test",
          "Test",
          "Test",
          "Test",
          "Test",
          "Test",
          "Test",
          "Test",
          "Test",
          "Test",
          "Test",
          "Test",
          "Test",
          "Test",
          "Test",
          "Test",
          "Test",
          "Test",
          "Test",
          "Test",
          "Test",
          "Test",
          "Test",
          "Test",
          "Test",
          "Test",
          "Test",
          "Test",
          "Test",
          "Test",
          "Test",
          "Test",
          "Test",
          "Test",
          "Test",
          "Test",
          "Test",
          "Test",
          "Test",
          "Test",
          "Test",
          "Test",
          "Test",
          "Test",
          "Test",
          "Test",
          "Test",
          "Test",
          "Test",
          "Test",
          "Test",
          "Test",
          "Test",
          "Test",
          "Test",
          "Test",
          "Test",
          "Test",
          "Test",
          "Test",
          "Test",
          "Test",
          "Test",
          "Test",
          "Test",
          "Test",
          "Test",
          "Test",
          "Test",
          "Test",
          "Test",
          "Test",
          "Test",
          "Test",
          "Test",
          "Test",
          "Test",
          "Test",
          "Test",
          "Test",
          "Test",
          "Test",
          "Test",
          "Test",
          "Test",
          "Test",
          "Test",
          "Test",
          "Test",
          "Test",
          "Test",
          "Test",
          "Test",
          "Test",
          "Test",
          "Test",
          "Test",
          "Test",
          "Test",
          "Test",
          "Test",
          "Test",
          "Test",
          "Test",
          "Test",
          "Test",
          "Test",
          "Test",
          "Test",
          "Test",
          "Test",
          "Test",
          "Test",
          "Test",
          "Test",
          "Test",
          "Test",
          "Test",
          "Test",
          "Test",
          "Test",
          "Test",
          "Test",
          "Test",
          "Test",
          "Test",
          "Test",
          "Test",
          "Test",
          "Test",
          "Test",
          "Test",
          "Test",
          "Test",
          "Test",
          "Test",
          "Test",
          "Test",
          "Test",
          "Test",
          "Test",
          "Test",
          "Test",
          "Test",
          "Test",
          "Test",
          "Test",
          "Test",
          "Test",
          "Test",
          "Test",
          "Test",
          "Test",
          "Test",
          "Test",
          "Test",
          "Test",
          "Test"
         ],
         "legendgroup": "Test",
         "marker": {
          "color": "#69b3a2",
          "line": {
           "color": "DarkSlateGrey",
           "width": 1
          },
          "opacity": 0.4,
          "size": 8,
          "symbol": "circle"
         },
         "mode": "markers",
         "name": "Test",
         "orientation": "v",
         "showlegend": true,
         "type": "scatter",
         "uid": "a9ee350c-205a-428a-bf36-13f6a577b77f",
         "x": {
          "dtype": "float32",
          "shape": [
           250
          ]
         },
         "xaxis": "x",
         "y": {
          "dtype": "float32",
          "shape": [
           250
          ]
         },
         "yaxis": "y"
        }
       ],
       "_js2py_pointsCallback": {},
       "_js2py_relayout": {},
       "_js2py_restyle": {},
       "_js2py_update": {},
       "_layout": {
        "height": 600,
        "legend": {
         "title": {
          "text": "Dataset"
         },
         "tracegroupgap": 0
        },
        "template": {
         "data": {
          "bar": [
           {
            "error_x": {
             "color": "#2a3f5f"
            },
            "error_y": {
             "color": "#2a3f5f"
            },
            "marker": {
             "line": {
              "color": "#E5ECF6",
              "width": 0.5
             },
             "pattern": {
              "fillmode": "overlay",
              "size": 10,
              "solidity": 0.2
             }
            },
            "type": "bar"
           }
          ],
          "barpolar": [
           {
            "marker": {
             "line": {
              "color": "#E5ECF6",
              "width": 0.5
             },
             "pattern": {
              "fillmode": "overlay",
              "size": 10,
              "solidity": 0.2
             }
            },
            "type": "barpolar"
           }
          ],
          "carpet": [
           {
            "aaxis": {
             "endlinecolor": "#2a3f5f",
             "gridcolor": "white",
             "linecolor": "white",
             "minorgridcolor": "white",
             "startlinecolor": "#2a3f5f"
            },
            "baxis": {
             "endlinecolor": "#2a3f5f",
             "gridcolor": "white",
             "linecolor": "white",
             "minorgridcolor": "white",
             "startlinecolor": "#2a3f5f"
            },
            "type": "carpet"
           }
          ],
          "choropleth": [
           {
            "colorbar": {
             "outlinewidth": 0,
             "ticks": ""
            },
            "type": "choropleth"
           }
          ],
          "contour": [
           {
            "colorbar": {
             "outlinewidth": 0,
             "ticks": ""
            },
            "colorscale": [
             [
              0,
              "#0d0887"
             ],
             [
              0.1111111111111111,
              "#46039f"
             ],
             [
              0.2222222222222222,
              "#7201a8"
             ],
             [
              0.3333333333333333,
              "#9c179e"
             ],
             [
              0.4444444444444444,
              "#bd3786"
             ],
             [
              0.5555555555555556,
              "#d8576b"
             ],
             [
              0.6666666666666666,
              "#ed7953"
             ],
             [
              0.7777777777777778,
              "#fb9f3a"
             ],
             [
              0.8888888888888888,
              "#fdca26"
             ],
             [
              1,
              "#f0f921"
             ]
            ],
            "type": "contour"
           }
          ],
          "contourcarpet": [
           {
            "colorbar": {
             "outlinewidth": 0,
             "ticks": ""
            },
            "type": "contourcarpet"
           }
          ],
          "heatmap": [
           {
            "colorbar": {
             "outlinewidth": 0,
             "ticks": ""
            },
            "colorscale": [
             [
              0,
              "#0d0887"
             ],
             [
              0.1111111111111111,
              "#46039f"
             ],
             [
              0.2222222222222222,
              "#7201a8"
             ],
             [
              0.3333333333333333,
              "#9c179e"
             ],
             [
              0.4444444444444444,
              "#bd3786"
             ],
             [
              0.5555555555555556,
              "#d8576b"
             ],
             [
              0.6666666666666666,
              "#ed7953"
             ],
             [
              0.7777777777777778,
              "#fb9f3a"
             ],
             [
              0.8888888888888888,
              "#fdca26"
             ],
             [
              1,
              "#f0f921"
             ]
            ],
            "type": "heatmap"
           }
          ],
          "heatmapgl": [
           {
            "colorbar": {
             "outlinewidth": 0,
             "ticks": ""
            },
            "colorscale": [
             [
              0,
              "#0d0887"
             ],
             [
              0.1111111111111111,
              "#46039f"
             ],
             [
              0.2222222222222222,
              "#7201a8"
             ],
             [
              0.3333333333333333,
              "#9c179e"
             ],
             [
              0.4444444444444444,
              "#bd3786"
             ],
             [
              0.5555555555555556,
              "#d8576b"
             ],
             [
              0.6666666666666666,
              "#ed7953"
             ],
             [
              0.7777777777777778,
              "#fb9f3a"
             ],
             [
              0.8888888888888888,
              "#fdca26"
             ],
             [
              1,
              "#f0f921"
             ]
            ],
            "type": "heatmapgl"
           }
          ],
          "histogram": [
           {
            "marker": {
             "pattern": {
              "fillmode": "overlay",
              "size": 10,
              "solidity": 0.2
             }
            },
            "type": "histogram"
           }
          ],
          "histogram2d": [
           {
            "colorbar": {
             "outlinewidth": 0,
             "ticks": ""
            },
            "colorscale": [
             [
              0,
              "#0d0887"
             ],
             [
              0.1111111111111111,
              "#46039f"
             ],
             [
              0.2222222222222222,
              "#7201a8"
             ],
             [
              0.3333333333333333,
              "#9c179e"
             ],
             [
              0.4444444444444444,
              "#bd3786"
             ],
             [
              0.5555555555555556,
              "#d8576b"
             ],
             [
              0.6666666666666666,
              "#ed7953"
             ],
             [
              0.7777777777777778,
              "#fb9f3a"
             ],
             [
              0.8888888888888888,
              "#fdca26"
             ],
             [
              1,
              "#f0f921"
             ]
            ],
            "type": "histogram2d"
           }
          ],
          "histogram2dcontour": [
           {
            "colorbar": {
             "outlinewidth": 0,
             "ticks": ""
            },
            "colorscale": [
             [
              0,
              "#0d0887"
             ],
             [
              0.1111111111111111,
              "#46039f"
             ],
             [
              0.2222222222222222,
              "#7201a8"
             ],
             [
              0.3333333333333333,
              "#9c179e"
             ],
             [
              0.4444444444444444,
              "#bd3786"
             ],
             [
              0.5555555555555556,
              "#d8576b"
             ],
             [
              0.6666666666666666,
              "#ed7953"
             ],
             [
              0.7777777777777778,
              "#fb9f3a"
             ],
             [
              0.8888888888888888,
              "#fdca26"
             ],
             [
              1,
              "#f0f921"
             ]
            ],
            "type": "histogram2dcontour"
           }
          ],
          "mesh3d": [
           {
            "colorbar": {
             "outlinewidth": 0,
             "ticks": ""
            },
            "type": "mesh3d"
           }
          ],
          "parcoords": [
           {
            "line": {
             "colorbar": {
              "outlinewidth": 0,
              "ticks": ""
             }
            },
            "type": "parcoords"
           }
          ],
          "pie": [
           {
            "automargin": true,
            "type": "pie"
           }
          ],
          "scatter": [
           {
            "fillpattern": {
             "fillmode": "overlay",
             "size": 10,
             "solidity": 0.2
            },
            "type": "scatter"
           }
          ],
          "scatter3d": [
           {
            "line": {
             "colorbar": {
              "outlinewidth": 0,
              "ticks": ""
             }
            },
            "marker": {
             "colorbar": {
              "outlinewidth": 0,
              "ticks": ""
             }
            },
            "type": "scatter3d"
           }
          ],
          "scattercarpet": [
           {
            "marker": {
             "colorbar": {
              "outlinewidth": 0,
              "ticks": ""
             }
            },
            "type": "scattercarpet"
           }
          ],
          "scattergeo": [
           {
            "marker": {
             "colorbar": {
              "outlinewidth": 0,
              "ticks": ""
             }
            },
            "type": "scattergeo"
           }
          ],
          "scattergl": [
           {
            "marker": {
             "colorbar": {
              "outlinewidth": 0,
              "ticks": ""
             }
            },
            "type": "scattergl"
           }
          ],
          "scattermapbox": [
           {
            "marker": {
             "colorbar": {
              "outlinewidth": 0,
              "ticks": ""
             }
            },
            "type": "scattermapbox"
           }
          ],
          "scatterpolar": [
           {
            "marker": {
             "colorbar": {
              "outlinewidth": 0,
              "ticks": ""
             }
            },
            "type": "scatterpolar"
           }
          ],
          "scatterpolargl": [
           {
            "marker": {
             "colorbar": {
              "outlinewidth": 0,
              "ticks": ""
             }
            },
            "type": "scatterpolargl"
           }
          ],
          "scatterternary": [
           {
            "marker": {
             "colorbar": {
              "outlinewidth": 0,
              "ticks": ""
             }
            },
            "type": "scatterternary"
           }
          ],
          "surface": [
           {
            "colorbar": {
             "outlinewidth": 0,
             "ticks": ""
            },
            "colorscale": [
             [
              0,
              "#0d0887"
             ],
             [
              0.1111111111111111,
              "#46039f"
             ],
             [
              0.2222222222222222,
              "#7201a8"
             ],
             [
              0.3333333333333333,
              "#9c179e"
             ],
             [
              0.4444444444444444,
              "#bd3786"
             ],
             [
              0.5555555555555556,
              "#d8576b"
             ],
             [
              0.6666666666666666,
              "#ed7953"
             ],
             [
              0.7777777777777778,
              "#fb9f3a"
             ],
             [
              0.8888888888888888,
              "#fdca26"
             ],
             [
              1,
              "#f0f921"
             ]
            ],
            "type": "surface"
           }
          ],
          "table": [
           {
            "cells": {
             "fill": {
              "color": "#EBF0F8"
             },
             "line": {
              "color": "white"
             }
            },
            "header": {
             "fill": {
              "color": "#C8D4E3"
             },
             "line": {
              "color": "white"
             }
            },
            "type": "table"
           }
          ]
         },
         "layout": {
          "annotationdefaults": {
           "arrowcolor": "#2a3f5f",
           "arrowhead": 0,
           "arrowwidth": 1
          },
          "autotypenumbers": "strict",
          "coloraxis": {
           "colorbar": {
            "outlinewidth": 0,
            "ticks": ""
           }
          },
          "colorscale": {
           "diverging": [
            [
             0,
             "#8e0152"
            ],
            [
             0.1,
             "#c51b7d"
            ],
            [
             0.2,
             "#de77ae"
            ],
            [
             0.3,
             "#f1b6da"
            ],
            [
             0.4,
             "#fde0ef"
            ],
            [
             0.5,
             "#f7f7f7"
            ],
            [
             0.6,
             "#e6f5d0"
            ],
            [
             0.7,
             "#b8e186"
            ],
            [
             0.8,
             "#7fbc41"
            ],
            [
             0.9,
             "#4d9221"
            ],
            [
             1,
             "#276419"
            ]
           ],
           "sequential": [
            [
             0,
             "#0d0887"
            ],
            [
             0.1111111111111111,
             "#46039f"
            ],
            [
             0.2222222222222222,
             "#7201a8"
            ],
            [
             0.3333333333333333,
             "#9c179e"
            ],
            [
             0.4444444444444444,
             "#bd3786"
            ],
            [
             0.5555555555555556,
             "#d8576b"
            ],
            [
             0.6666666666666666,
             "#ed7953"
            ],
            [
             0.7777777777777778,
             "#fb9f3a"
            ],
            [
             0.8888888888888888,
             "#fdca26"
            ],
            [
             1,
             "#f0f921"
            ]
           ],
           "sequentialminus": [
            [
             0,
             "#0d0887"
            ],
            [
             0.1111111111111111,
             "#46039f"
            ],
            [
             0.2222222222222222,
             "#7201a8"
            ],
            [
             0.3333333333333333,
             "#9c179e"
            ],
            [
             0.4444444444444444,
             "#bd3786"
            ],
            [
             0.5555555555555556,
             "#d8576b"
            ],
            [
             0.6666666666666666,
             "#ed7953"
            ],
            [
             0.7777777777777778,
             "#fb9f3a"
            ],
            [
             0.8888888888888888,
             "#fdca26"
            ],
            [
             1,
             "#f0f921"
            ]
           ]
          },
          "colorway": [
           "#636efa",
           "#EF553B",
           "#00cc96",
           "#ab63fa",
           "#FFA15A",
           "#19d3f3",
           "#FF6692",
           "#B6E880",
           "#FF97FF",
           "#FECB52"
          ],
          "font": {
           "color": "#2a3f5f"
          },
          "geo": {
           "bgcolor": "white",
           "lakecolor": "white",
           "landcolor": "#E5ECF6",
           "showlakes": true,
           "showland": true,
           "subunitcolor": "white"
          },
          "hoverlabel": {
           "align": "left"
          },
          "hovermode": "closest",
          "mapbox": {
           "style": "light"
          },
          "paper_bgcolor": "white",
          "plot_bgcolor": "#E5ECF6",
          "polar": {
           "angularaxis": {
            "gridcolor": "white",
            "linecolor": "white",
            "ticks": ""
           },
           "bgcolor": "#E5ECF6",
           "radialaxis": {
            "gridcolor": "white",
            "linecolor": "white",
            "ticks": ""
           }
          },
          "scene": {
           "xaxis": {
            "backgroundcolor": "#E5ECF6",
            "gridcolor": "white",
            "gridwidth": 2,
            "linecolor": "white",
            "showbackground": true,
            "ticks": "",
            "zerolinecolor": "white"
           },
           "yaxis": {
            "backgroundcolor": "#E5ECF6",
            "gridcolor": "white",
            "gridwidth": 2,
            "linecolor": "white",
            "showbackground": true,
            "ticks": "",
            "zerolinecolor": "white"
           },
           "zaxis": {
            "backgroundcolor": "#E5ECF6",
            "gridcolor": "white",
            "gridwidth": 2,
            "linecolor": "white",
            "showbackground": true,
            "ticks": "",
            "zerolinecolor": "white"
           }
          },
          "shapedefaults": {
           "line": {
            "color": "#2a3f5f"
           }
          },
          "ternary": {
           "aaxis": {
            "gridcolor": "white",
            "linecolor": "white",
            "ticks": ""
           },
           "baxis": {
            "gridcolor": "white",
            "linecolor": "white",
            "ticks": ""
           },
           "bgcolor": "#E5ECF6",
           "caxis": {
            "gridcolor": "white",
            "linecolor": "white",
            "ticks": ""
           }
          },
          "title": {
           "x": 0.05
          },
          "xaxis": {
           "automargin": true,
           "gridcolor": "white",
           "linecolor": "white",
           "ticks": "",
           "title": {
            "standoff": 15
           },
           "zerolinecolor": "white",
           "zerolinewidth": 2
          },
          "yaxis": {
           "automargin": true,
           "gridcolor": "white",
           "linecolor": "white",
           "ticks": "",
           "title": {
            "standoff": 15
           },
           "zerolinecolor": "white",
           "zerolinewidth": 2
          }
         }
        },
        "title": {
         "text": "Scatter Plot of Embeddings Space (reduced to 2 dimensions)"
        },
        "width": 1000,
        "xaxis": {
         "anchor": "y",
         "domain": [
          0,
          1
         ],
         "title": {
          "text": "Reduced Embedding (0)"
         }
        },
        "yaxis": {
         "anchor": "x",
         "domain": [
          0,
          1
         ],
         "title": {
          "text": "Reduced Embedding (1)"
         }
        }
       },
       "_py2js_addTraces": {},
       "_py2js_animate": {},
       "_py2js_deleteTraces": {},
       "_py2js_moveTraces": {},
       "_py2js_relayout": {},
       "_py2js_removeLayoutProps": {},
       "_py2js_removeTraceProps": {},
       "_py2js_restyle": {},
       "_py2js_update": {},
       "_view_count": 0
      }
     },
     "23f4b819067c474a8e81813a8b729cac": {
      "model_module": "@jupyter-widgets/controls",
      "model_module_version": "1.5.0",
      "model_name": "HTMLModel",
      "state": {
       "layout": "IPY_MODEL_0b71af3f5142450ca879c06fc8fb7d44",
       "style": "IPY_MODEL_108dc7e96e3e4a8899743f2980b6380b",
       "value": "<p>    Calculate drift between the train and test datasets using a model trained to distinguish between their embeddings. <a href=\"https://docs.deepchecks.com/stable/nlp/auto_checks/train_test_validation/plot_text_embeddings_drift.html?utm_source=display_output&utm_medium=referral&utm_campaign=check_link\" target=\"_blank\">Read More...</a></p>"
      }
     },
     "2c529e58e35a440492f74afaf18c4a62": {
      "model_module": "@jupyter-widgets/base",
      "model_module_version": "1.2.0",
      "model_name": "LayoutModel",
      "state": {}
     },
     "3cef324288584012aaf43fd9ee839f99": {
      "model_module": "@jupyter-widgets/base",
      "model_module_version": "1.2.0",
      "model_name": "LayoutModel",
      "state": {}
     },
     "41f20b8a88624a0cb606090f8ff763ba": {
      "model_module": "@jupyter-widgets/controls",
      "model_module_version": "1.5.0",
      "model_name": "DescriptionStyleModel",
      "state": {
       "description_width": ""
      }
     },
     "5106d9193de6449e998b65cde0b9b107": {
      "model_module": "@jupyter-widgets/controls",
      "model_module_version": "1.5.0",
      "model_name": "DescriptionStyleModel",
      "state": {
       "description_width": ""
      }
     },
     "7451ce7430da4f23a04903d1a8164a15": {
      "model_module": "@jupyter-widgets/controls",
      "model_module_version": "1.5.0",
      "model_name": "HTMLModel",
      "state": {
       "layout": "IPY_MODEL_a4144a0984c0428280680d668240bc2d",
       "style": "IPY_MODEL_b7da996090fc475eb53ae5a52dfed35d",
       "value": "<h5><b>Additional Outputs</b></h5>"
      }
     },
     "7da439545c4142b1a67069c7a841d1d4": {
      "model_module": "@jupyter-widgets/controls",
      "model_module_version": "1.5.0",
      "model_name": "VBoxModel",
      "state": {
       "_dom_classes": [
        "rendered_html",
        "jp-RenderedHTMLCommon",
        "jp-RenderedHTML",
        "jp-OutputArea-output"
       ],
       "children": [
        "IPY_MODEL_0ca771857fdb4836bc78e77b9b7509c0",
        "IPY_MODEL_23f4b819067c474a8e81813a8b729cac",
        "IPY_MODEL_aa37d42c94784c5ca09cc69b29ddaebc",
        "IPY_MODEL_b5b59e5e812b42ac881b7b56e32ed81e"
       ],
       "layout": "IPY_MODEL_ec764e1ef3ba482d9de5be9f61808dfe"
      }
     },
     "8109e17912fa446bb542f52521d31166": {
      "model_module": "@jupyter-widgets/base",
      "model_module_version": "1.2.0",
      "model_name": "LayoutModel",
      "state": {}
     },
     "83ba172e0d584e15a6011d02330c0b81": {
      "model_module": "@jupyter-widgets/controls",
      "model_module_version": "1.5.0",
      "model_name": "DescriptionStyleModel",
      "state": {
       "description_width": ""
      }
     },
     "892466a4f50c46cbb04f69281dc0aa41": {
      "model_module": "@jupyter-widgets/controls",
      "model_module_version": "1.5.0",
      "model_name": "DescriptionStyleModel",
      "state": {
       "description_width": ""
      }
     },
     "91e03238b75242fb8653f815b46700da": {
      "model_module": "@jupyter-widgets/base",
      "model_module_version": "1.2.0",
      "model_name": "LayoutModel",
      "state": {}
     },
     "98ebab6acdfd4d1eb7bcf4dcfd614b23": {
      "model_module": "@jupyter-widgets/controls",
      "model_module_version": "1.5.0",
      "model_name": "HTMLModel",
      "state": {
       "layout": "IPY_MODEL_bb7d5fe4985042fda1115233c916a9cc",
       "style": "IPY_MODEL_a92d6e46d7d24e0caeffb27cc861841e",
       "value": "<h5><b>Additional Outputs</b></h5>"
      }
     },
     "9eede9199114462e8ed93c399fd19e4a": {
      "model_module": "@jupyter-widgets/base",
      "model_module_version": "1.2.0",
      "model_name": "LayoutModel",
      "state": {}
     },
     "a1c7c0dd6a7143848f9b229add3f1849": {
      "model_module": "@jupyter-widgets/base",
      "model_module_version": "1.2.0",
      "model_name": "LayoutModel",
      "state": {}
     },
     "a4144a0984c0428280680d668240bc2d": {
      "model_module": "@jupyter-widgets/base",
      "model_module_version": "1.2.0",
      "model_name": "LayoutModel",
      "state": {}
     },
     "a92d6e46d7d24e0caeffb27cc861841e": {
      "model_module": "@jupyter-widgets/controls",
      "model_module_version": "1.5.0",
      "model_name": "DescriptionStyleModel",
      "state": {
       "description_width": ""
      }
     },
     "a979b38bd68e444c9f8f2fa410566bac": {
      "model_module": "@jupyter-widgets/controls",
      "model_module_version": "1.5.0",
      "model_name": "HTMLModel",
      "state": {
       "layout": "IPY_MODEL_8109e17912fa446bb542f52521d31166",
       "style": "IPY_MODEL_c04f7352328f4d1099da0aba1e986ed7"
      }
     },
     "aa37d42c94784c5ca09cc69b29ddaebc": {
      "model_module": "@jupyter-widgets/controls",
      "model_module_version": "1.5.0",
      "model_name": "HTMLModel",
      "state": {
       "layout": "IPY_MODEL_9eede9199114462e8ed93c399fd19e4a",
       "style": "IPY_MODEL_41f20b8a88624a0cb606090f8ff763ba"
      }
     },
     "b18459afd00542e38aa0e99595e9e218": {
      "model_module": "jupyterlab-plotly",
      "model_module_version": "^5.13.1",
      "model_name": "FigureModel",
      "state": {
       "_config": {
        "editSelection": false,
        "plotlyServerURL": "https://plot.ly"
       },
       "_data": [
        {
         "base": 0,
         "marker": {
          "color": "#01B8AA"
         },
         "offsetgroup": "0",
         "orientation": "h",
         "showlegend": false,
         "type": "bar",
         "uid": "dedc94bb-025e-4c84-a63d-60db84a985e0",
         "x": [
          0.1
         ],
         "y": [
          "Drift Score"
         ]
        },
        {
         "base": 0.1,
         "marker": {
          "color": "#F2C80F"
         },
         "offsetgroup": "0",
         "orientation": "h",
         "showlegend": false,
         "type": "bar",
         "uid": "a376b49d-4e19-412e-a7b6-ec96ef766b76",
         "x": [
          0.1
         ],
         "y": [
          "Drift Score"
         ]
        },
        {
         "base": 0.2,
         "marker": {
          "color": "#FE9666"
         },
         "offsetgroup": "0",
         "orientation": "h",
         "showlegend": false,
         "type": "bar",
         "uid": "388e0452-ea80-4973-bd13-bdedac789f73",
         "x": [
          0.03631480629794298
         ],
         "y": [
          "Drift Score"
         ]
        }
       ],
       "_js2py_pointsCallback": {},
       "_js2py_restyle": {},
       "_js2py_update": {},
       "_last_layout_edit_id": 1,
       "_layout": {
        "autosize": true,
        "height": 200,
        "template": {
         "data": {
          "bar": [
           {
            "error_x": {
             "color": "#2a3f5f"
            },
            "error_y": {
             "color": "#2a3f5f"
            },
            "marker": {
             "line": {
              "color": "#E5ECF6",
              "width": 0.5
             },
             "pattern": {
              "fillmode": "overlay",
              "size": 10,
              "solidity": 0.2
             }
            },
            "type": "bar"
           }
          ],
          "barpolar": [
           {
            "marker": {
             "line": {
              "color": "#E5ECF6",
              "width": 0.5
             },
             "pattern": {
              "fillmode": "overlay",
              "size": 10,
              "solidity": 0.2
             }
            },
            "type": "barpolar"
           }
          ],
          "carpet": [
           {
            "aaxis": {
             "endlinecolor": "#2a3f5f",
             "gridcolor": "white",
             "linecolor": "white",
             "minorgridcolor": "white",
             "startlinecolor": "#2a3f5f"
            },
            "baxis": {
             "endlinecolor": "#2a3f5f",
             "gridcolor": "white",
             "linecolor": "white",
             "minorgridcolor": "white",
             "startlinecolor": "#2a3f5f"
            },
            "type": "carpet"
           }
          ],
          "choropleth": [
           {
            "colorbar": {
             "outlinewidth": 0,
             "ticks": ""
            },
            "type": "choropleth"
           }
          ],
          "contour": [
           {
            "colorbar": {
             "outlinewidth": 0,
             "ticks": ""
            },
            "colorscale": [
             [
              0,
              "#0d0887"
             ],
             [
              0.1111111111111111,
              "#46039f"
             ],
             [
              0.2222222222222222,
              "#7201a8"
             ],
             [
              0.3333333333333333,
              "#9c179e"
             ],
             [
              0.4444444444444444,
              "#bd3786"
             ],
             [
              0.5555555555555556,
              "#d8576b"
             ],
             [
              0.6666666666666666,
              "#ed7953"
             ],
             [
              0.7777777777777778,
              "#fb9f3a"
             ],
             [
              0.8888888888888888,
              "#fdca26"
             ],
             [
              1,
              "#f0f921"
             ]
            ],
            "type": "contour"
           }
          ],
          "contourcarpet": [
           {
            "colorbar": {
             "outlinewidth": 0,
             "ticks": ""
            },
            "type": "contourcarpet"
           }
          ],
          "heatmap": [
           {
            "colorbar": {
             "outlinewidth": 0,
             "ticks": ""
            },
            "colorscale": [
             [
              0,
              "#0d0887"
             ],
             [
              0.1111111111111111,
              "#46039f"
             ],
             [
              0.2222222222222222,
              "#7201a8"
             ],
             [
              0.3333333333333333,
              "#9c179e"
             ],
             [
              0.4444444444444444,
              "#bd3786"
             ],
             [
              0.5555555555555556,
              "#d8576b"
             ],
             [
              0.6666666666666666,
              "#ed7953"
             ],
             [
              0.7777777777777778,
              "#fb9f3a"
             ],
             [
              0.8888888888888888,
              "#fdca26"
             ],
             [
              1,
              "#f0f921"
             ]
            ],
            "type": "heatmap"
           }
          ],
          "heatmapgl": [
           {
            "colorbar": {
             "outlinewidth": 0,
             "ticks": ""
            },
            "colorscale": [
             [
              0,
              "#0d0887"
             ],
             [
              0.1111111111111111,
              "#46039f"
             ],
             [
              0.2222222222222222,
              "#7201a8"
             ],
             [
              0.3333333333333333,
              "#9c179e"
             ],
             [
              0.4444444444444444,
              "#bd3786"
             ],
             [
              0.5555555555555556,
              "#d8576b"
             ],
             [
              0.6666666666666666,
              "#ed7953"
             ],
             [
              0.7777777777777778,
              "#fb9f3a"
             ],
             [
              0.8888888888888888,
              "#fdca26"
             ],
             [
              1,
              "#f0f921"
             ]
            ],
            "type": "heatmapgl"
           }
          ],
          "histogram": [
           {
            "marker": {
             "pattern": {
              "fillmode": "overlay",
              "size": 10,
              "solidity": 0.2
             }
            },
            "type": "histogram"
           }
          ],
          "histogram2d": [
           {
            "colorbar": {
             "outlinewidth": 0,
             "ticks": ""
            },
            "colorscale": [
             [
              0,
              "#0d0887"
             ],
             [
              0.1111111111111111,
              "#46039f"
             ],
             [
              0.2222222222222222,
              "#7201a8"
             ],
             [
              0.3333333333333333,
              "#9c179e"
             ],
             [
              0.4444444444444444,
              "#bd3786"
             ],
             [
              0.5555555555555556,
              "#d8576b"
             ],
             [
              0.6666666666666666,
              "#ed7953"
             ],
             [
              0.7777777777777778,
              "#fb9f3a"
             ],
             [
              0.8888888888888888,
              "#fdca26"
             ],
             [
              1,
              "#f0f921"
             ]
            ],
            "type": "histogram2d"
           }
          ],
          "histogram2dcontour": [
           {
            "colorbar": {
             "outlinewidth": 0,
             "ticks": ""
            },
            "colorscale": [
             [
              0,
              "#0d0887"
             ],
             [
              0.1111111111111111,
              "#46039f"
             ],
             [
              0.2222222222222222,
              "#7201a8"
             ],
             [
              0.3333333333333333,
              "#9c179e"
             ],
             [
              0.4444444444444444,
              "#bd3786"
             ],
             [
              0.5555555555555556,
              "#d8576b"
             ],
             [
              0.6666666666666666,
              "#ed7953"
             ],
             [
              0.7777777777777778,
              "#fb9f3a"
             ],
             [
              0.8888888888888888,
              "#fdca26"
             ],
             [
              1,
              "#f0f921"
             ]
            ],
            "type": "histogram2dcontour"
           }
          ],
          "mesh3d": [
           {
            "colorbar": {
             "outlinewidth": 0,
             "ticks": ""
            },
            "type": "mesh3d"
           }
          ],
          "parcoords": [
           {
            "line": {
             "colorbar": {
              "outlinewidth": 0,
              "ticks": ""
             }
            },
            "type": "parcoords"
           }
          ],
          "pie": [
           {
            "automargin": true,
            "type": "pie"
           }
          ],
          "scatter": [
           {
            "fillpattern": {
             "fillmode": "overlay",
             "size": 10,
             "solidity": 0.2
            },
            "type": "scatter"
           }
          ],
          "scatter3d": [
           {
            "line": {
             "colorbar": {
              "outlinewidth": 0,
              "ticks": ""
             }
            },
            "marker": {
             "colorbar": {
              "outlinewidth": 0,
              "ticks": ""
             }
            },
            "type": "scatter3d"
           }
          ],
          "scattercarpet": [
           {
            "marker": {
             "colorbar": {
              "outlinewidth": 0,
              "ticks": ""
             }
            },
            "type": "scattercarpet"
           }
          ],
          "scattergeo": [
           {
            "marker": {
             "colorbar": {
              "outlinewidth": 0,
              "ticks": ""
             }
            },
            "type": "scattergeo"
           }
          ],
          "scattergl": [
           {
            "marker": {
             "colorbar": {
              "outlinewidth": 0,
              "ticks": ""
             }
            },
            "type": "scattergl"
           }
          ],
          "scattermapbox": [
           {
            "marker": {
             "colorbar": {
              "outlinewidth": 0,
              "ticks": ""
             }
            },
            "type": "scattermapbox"
           }
          ],
          "scatterpolar": [
           {
            "marker": {
             "colorbar": {
              "outlinewidth": 0,
              "ticks": ""
             }
            },
            "type": "scatterpolar"
           }
          ],
          "scatterpolargl": [
           {
            "marker": {
             "colorbar": {
              "outlinewidth": 0,
              "ticks": ""
             }
            },
            "type": "scatterpolargl"
           }
          ],
          "scatterternary": [
           {
            "marker": {
             "colorbar": {
              "outlinewidth": 0,
              "ticks": ""
             }
            },
            "type": "scatterternary"
           }
          ],
          "surface": [
           {
            "colorbar": {
             "outlinewidth": 0,
             "ticks": ""
            },
            "colorscale": [
             [
              0,
              "#0d0887"
             ],
             [
              0.1111111111111111,
              "#46039f"
             ],
             [
              0.2222222222222222,
              "#7201a8"
             ],
             [
              0.3333333333333333,
              "#9c179e"
             ],
             [
              0.4444444444444444,
              "#bd3786"
             ],
             [
              0.5555555555555556,
              "#d8576b"
             ],
             [
              0.6666666666666666,
              "#ed7953"
             ],
             [
              0.7777777777777778,
              "#fb9f3a"
             ],
             [
              0.8888888888888888,
              "#fdca26"
             ],
             [
              1,
              "#f0f921"
             ]
            ],
            "type": "surface"
           }
          ],
          "table": [
           {
            "cells": {
             "fill": {
              "color": "#EBF0F8"
             },
             "line": {
              "color": "white"
             }
            },
            "header": {
             "fill": {
              "color": "#C8D4E3"
             },
             "line": {
              "color": "white"
             }
            },
            "type": "table"
           }
          ]
         },
         "layout": {
          "annotationdefaults": {
           "arrowcolor": "#2a3f5f",
           "arrowhead": 0,
           "arrowwidth": 1
          },
          "autotypenumbers": "strict",
          "coloraxis": {
           "colorbar": {
            "outlinewidth": 0,
            "ticks": ""
           }
          },
          "colorscale": {
           "diverging": [
            [
             0,
             "#8e0152"
            ],
            [
             0.1,
             "#c51b7d"
            ],
            [
             0.2,
             "#de77ae"
            ],
            [
             0.3,
             "#f1b6da"
            ],
            [
             0.4,
             "#fde0ef"
            ],
            [
             0.5,
             "#f7f7f7"
            ],
            [
             0.6,
             "#e6f5d0"
            ],
            [
             0.7,
             "#b8e186"
            ],
            [
             0.8,
             "#7fbc41"
            ],
            [
             0.9,
             "#4d9221"
            ],
            [
             1,
             "#276419"
            ]
           ],
           "sequential": [
            [
             0,
             "#0d0887"
            ],
            [
             0.1111111111111111,
             "#46039f"
            ],
            [
             0.2222222222222222,
             "#7201a8"
            ],
            [
             0.3333333333333333,
             "#9c179e"
            ],
            [
             0.4444444444444444,
             "#bd3786"
            ],
            [
             0.5555555555555556,
             "#d8576b"
            ],
            [
             0.6666666666666666,
             "#ed7953"
            ],
            [
             0.7777777777777778,
             "#fb9f3a"
            ],
            [
             0.8888888888888888,
             "#fdca26"
            ],
            [
             1,
             "#f0f921"
            ]
           ],
           "sequentialminus": [
            [
             0,
             "#0d0887"
            ],
            [
             0.1111111111111111,
             "#46039f"
            ],
            [
             0.2222222222222222,
             "#7201a8"
            ],
            [
             0.3333333333333333,
             "#9c179e"
            ],
            [
             0.4444444444444444,
             "#bd3786"
            ],
            [
             0.5555555555555556,
             "#d8576b"
            ],
            [
             0.6666666666666666,
             "#ed7953"
            ],
            [
             0.7777777777777778,
             "#fb9f3a"
            ],
            [
             0.8888888888888888,
             "#fdca26"
            ],
            [
             1,
             "#f0f921"
            ]
           ]
          },
          "colorway": [
           "#636efa",
           "#EF553B",
           "#00cc96",
           "#ab63fa",
           "#FFA15A",
           "#19d3f3",
           "#FF6692",
           "#B6E880",
           "#FF97FF",
           "#FECB52"
          ],
          "font": {
           "color": "#2a3f5f"
          },
          "geo": {
           "bgcolor": "white",
           "lakecolor": "white",
           "landcolor": "#E5ECF6",
           "showlakes": true,
           "showland": true,
           "subunitcolor": "white"
          },
          "hoverlabel": {
           "align": "left"
          },
          "hovermode": "closest",
          "mapbox": {
           "style": "light"
          },
          "paper_bgcolor": "white",
          "plot_bgcolor": "#E5ECF6",
          "polar": {
           "angularaxis": {
            "gridcolor": "white",
            "linecolor": "white",
            "ticks": ""
           },
           "bgcolor": "#E5ECF6",
           "radialaxis": {
            "gridcolor": "white",
            "linecolor": "white",
            "ticks": ""
           }
          },
          "scene": {
           "xaxis": {
            "backgroundcolor": "#E5ECF6",
            "gridcolor": "white",
            "gridwidth": 2,
            "linecolor": "white",
            "showbackground": true,
            "ticks": "",
            "zerolinecolor": "white"
           },
           "yaxis": {
            "backgroundcolor": "#E5ECF6",
            "gridcolor": "white",
            "gridwidth": 2,
            "linecolor": "white",
            "showbackground": true,
            "ticks": "",
            "zerolinecolor": "white"
           },
           "zaxis": {
            "backgroundcolor": "#E5ECF6",
            "gridcolor": "white",
            "gridwidth": 2,
            "linecolor": "white",
            "showbackground": true,
            "ticks": "",
            "zerolinecolor": "white"
           }
          },
          "shapedefaults": {
           "line": {
            "color": "#2a3f5f"
           }
          },
          "ternary": {
           "aaxis": {
            "gridcolor": "white",
            "linecolor": "white",
            "ticks": ""
           },
           "baxis": {
            "gridcolor": "white",
            "linecolor": "white",
            "ticks": ""
           },
           "bgcolor": "#E5ECF6",
           "caxis": {
            "gridcolor": "white",
            "linecolor": "white",
            "ticks": ""
           }
          },
          "title": {
           "x": 0.05
          },
          "xaxis": {
           "automargin": true,
           "gridcolor": "white",
           "linecolor": "white",
           "ticks": "",
           "title": {
            "standoff": 15
           },
           "zerolinecolor": "white",
           "zerolinewidth": 2
          },
          "yaxis": {
           "automargin": true,
           "gridcolor": "white",
           "linecolor": "white",
           "ticks": "",
           "title": {
            "standoff": 15
           },
           "zerolinecolor": "white",
           "zerolinewidth": 2
          }
         }
        },
        "title": {
         "text": "Drift Score - Multivariable"
        },
        "xaxis": {
         "dtick": 0.05,
         "fixedrange": true,
         "gridcolor": "black",
         "linecolor": "black",
         "range": [
          0,
          0.4
         ],
         "showgrid": false,
         "title": {
          "text": "Drift score"
         }
        },
        "yaxis": {
         "autorange": true,
         "color": "black",
         "fixedrange": true,
         "rangemode": "normal",
         "showgrid": false,
         "showline": false,
         "showticklabels": false,
         "zeroline": false
        }
       },
       "_py2js_addTraces": {},
       "_py2js_animate": {},
       "_py2js_deleteTraces": {},
       "_py2js_moveTraces": {},
       "_py2js_removeLayoutProps": {},
       "_py2js_removeTraceProps": {},
       "_py2js_restyle": {},
       "_py2js_update": {},
       "_view_count": 0
      }
     },
     "b38c50f357004c51986f7da02c5e80cd": {
      "model_module": "@jupyter-widgets/controls",
      "model_module_version": "1.5.0",
      "model_name": "HTMLModel",
      "state": {
       "layout": "IPY_MODEL_2c529e58e35a440492f74afaf18c4a62",
       "style": "IPY_MODEL_892466a4f50c46cbb04f69281dc0aa41",
       "value": "<p>    Calculate drift between the train and test datasets using a model trained to distinguish between their embeddings. <a href=\"https://docs.deepchecks.com/stable/nlp/auto_checks/train_test_validation/plot_text_embeddings_drift.html?utm_source=display_output&utm_medium=referral&utm_campaign=check_link\" target=\"_blank\">Read More...</a></p>"
      }
     },
     "b5b59e5e812b42ac881b7b56e32ed81e": {
      "model_module": "@jupyter-widgets/controls",
      "model_module_version": "1.5.0",
      "model_name": "VBoxModel",
      "state": {
       "children": [
        "IPY_MODEL_98ebab6acdfd4d1eb7bcf4dcfd614b23",
        "IPY_MODEL_b18459afd00542e38aa0e99595e9e218",
        "IPY_MODEL_d5fc46c068964f199e26e6d377df0d71"
       ],
       "layout": "IPY_MODEL_074881032ec740f9b65fb9dd6220c287"
      }
     },
     "b7da996090fc475eb53ae5a52dfed35d": {
      "model_module": "@jupyter-widgets/controls",
      "model_module_version": "1.5.0",
      "model_name": "DescriptionStyleModel",
      "state": {
       "description_width": ""
      }
     },
     "bb7d5fe4985042fda1115233c916a9cc": {
      "model_module": "@jupyter-widgets/base",
      "model_module_version": "1.2.0",
      "model_name": "LayoutModel",
      "state": {}
     },
     "bb87cf2873264c6fb8ba4b841ce72461": {
      "model_module": "@jupyter-widgets/base",
      "model_module_version": "1.2.0",
      "model_name": "LayoutModel",
      "state": {}
     },
     "c04f7352328f4d1099da0aba1e986ed7": {
      "model_module": "@jupyter-widgets/controls",
      "model_module_version": "1.5.0",
      "model_name": "DescriptionStyleModel",
      "state": {
       "description_width": ""
      }
     },
     "cd3ae95d305f43a0b910b16e91dfa075": {
      "model_module": "jupyterlab-plotly",
      "model_module_version": "^5.13.1",
      "model_name": "FigureModel",
      "state": {
       "_config": {
        "editSelection": false,
        "plotlyServerURL": "https://plot.ly"
       },
       "_data": [
        {
         "base": 0,
         "marker": {
          "color": "#01B8AA"
         },
         "offsetgroup": "0",
         "orientation": "h",
         "showlegend": false,
         "type": "bar",
         "uid": "ec95aa1a-8c43-425d-b049-d67e50e6849f",
         "x": [
          0.1
         ],
         "y": [
          "Drift Score"
         ]
        },
        {
         "base": 0.1,
         "marker": {
          "color": "#F2C80F"
         },
         "offsetgroup": "0",
         "orientation": "h",
         "showlegend": false,
         "type": "bar",
         "uid": "0885910f-b33d-48fa-a70f-b246df509133",
         "x": [
          0.1
         ],
         "y": [
          "Drift Score"
         ]
        },
        {
         "base": 0.2,
         "marker": {
          "color": "#FE9666"
         },
         "offsetgroup": "0",
         "orientation": "h",
         "showlegend": false,
         "type": "bar",
         "uid": "726fddf3-3e7e-4ac2-bec4-eacbdb976654",
         "x": [
          0.03631480629794298
         ],
         "y": [
          "Drift Score"
         ]
        }
       ],
       "_js2py_pointsCallback": {},
       "_js2py_restyle": {},
       "_js2py_update": {},
       "_last_layout_edit_id": 1,
       "_layout": {
        "autosize": true,
        "height": 200,
        "template": {
         "data": {
          "bar": [
           {
            "error_x": {
             "color": "#2a3f5f"
            },
            "error_y": {
             "color": "#2a3f5f"
            },
            "marker": {
             "line": {
              "color": "#E5ECF6",
              "width": 0.5
             },
             "pattern": {
              "fillmode": "overlay",
              "size": 10,
              "solidity": 0.2
             }
            },
            "type": "bar"
           }
          ],
          "barpolar": [
           {
            "marker": {
             "line": {
              "color": "#E5ECF6",
              "width": 0.5
             },
             "pattern": {
              "fillmode": "overlay",
              "size": 10,
              "solidity": 0.2
             }
            },
            "type": "barpolar"
           }
          ],
          "carpet": [
           {
            "aaxis": {
             "endlinecolor": "#2a3f5f",
             "gridcolor": "white",
             "linecolor": "white",
             "minorgridcolor": "white",
             "startlinecolor": "#2a3f5f"
            },
            "baxis": {
             "endlinecolor": "#2a3f5f",
             "gridcolor": "white",
             "linecolor": "white",
             "minorgridcolor": "white",
             "startlinecolor": "#2a3f5f"
            },
            "type": "carpet"
           }
          ],
          "choropleth": [
           {
            "colorbar": {
             "outlinewidth": 0,
             "ticks": ""
            },
            "type": "choropleth"
           }
          ],
          "contour": [
           {
            "colorbar": {
             "outlinewidth": 0,
             "ticks": ""
            },
            "colorscale": [
             [
              0,
              "#0d0887"
             ],
             [
              0.1111111111111111,
              "#46039f"
             ],
             [
              0.2222222222222222,
              "#7201a8"
             ],
             [
              0.3333333333333333,
              "#9c179e"
             ],
             [
              0.4444444444444444,
              "#bd3786"
             ],
             [
              0.5555555555555556,
              "#d8576b"
             ],
             [
              0.6666666666666666,
              "#ed7953"
             ],
             [
              0.7777777777777778,
              "#fb9f3a"
             ],
             [
              0.8888888888888888,
              "#fdca26"
             ],
             [
              1,
              "#f0f921"
             ]
            ],
            "type": "contour"
           }
          ],
          "contourcarpet": [
           {
            "colorbar": {
             "outlinewidth": 0,
             "ticks": ""
            },
            "type": "contourcarpet"
           }
          ],
          "heatmap": [
           {
            "colorbar": {
             "outlinewidth": 0,
             "ticks": ""
            },
            "colorscale": [
             [
              0,
              "#0d0887"
             ],
             [
              0.1111111111111111,
              "#46039f"
             ],
             [
              0.2222222222222222,
              "#7201a8"
             ],
             [
              0.3333333333333333,
              "#9c179e"
             ],
             [
              0.4444444444444444,
              "#bd3786"
             ],
             [
              0.5555555555555556,
              "#d8576b"
             ],
             [
              0.6666666666666666,
              "#ed7953"
             ],
             [
              0.7777777777777778,
              "#fb9f3a"
             ],
             [
              0.8888888888888888,
              "#fdca26"
             ],
             [
              1,
              "#f0f921"
             ]
            ],
            "type": "heatmap"
           }
          ],
          "heatmapgl": [
           {
            "colorbar": {
             "outlinewidth": 0,
             "ticks": ""
            },
            "colorscale": [
             [
              0,
              "#0d0887"
             ],
             [
              0.1111111111111111,
              "#46039f"
             ],
             [
              0.2222222222222222,
              "#7201a8"
             ],
             [
              0.3333333333333333,
              "#9c179e"
             ],
             [
              0.4444444444444444,
              "#bd3786"
             ],
             [
              0.5555555555555556,
              "#d8576b"
             ],
             [
              0.6666666666666666,
              "#ed7953"
             ],
             [
              0.7777777777777778,
              "#fb9f3a"
             ],
             [
              0.8888888888888888,
              "#fdca26"
             ],
             [
              1,
              "#f0f921"
             ]
            ],
            "type": "heatmapgl"
           }
          ],
          "histogram": [
           {
            "marker": {
             "pattern": {
              "fillmode": "overlay",
              "size": 10,
              "solidity": 0.2
             }
            },
            "type": "histogram"
           }
          ],
          "histogram2d": [
           {
            "colorbar": {
             "outlinewidth": 0,
             "ticks": ""
            },
            "colorscale": [
             [
              0,
              "#0d0887"
             ],
             [
              0.1111111111111111,
              "#46039f"
             ],
             [
              0.2222222222222222,
              "#7201a8"
             ],
             [
              0.3333333333333333,
              "#9c179e"
             ],
             [
              0.4444444444444444,
              "#bd3786"
             ],
             [
              0.5555555555555556,
              "#d8576b"
             ],
             [
              0.6666666666666666,
              "#ed7953"
             ],
             [
              0.7777777777777778,
              "#fb9f3a"
             ],
             [
              0.8888888888888888,
              "#fdca26"
             ],
             [
              1,
              "#f0f921"
             ]
            ],
            "type": "histogram2d"
           }
          ],
          "histogram2dcontour": [
           {
            "colorbar": {
             "outlinewidth": 0,
             "ticks": ""
            },
            "colorscale": [
             [
              0,
              "#0d0887"
             ],
             [
              0.1111111111111111,
              "#46039f"
             ],
             [
              0.2222222222222222,
              "#7201a8"
             ],
             [
              0.3333333333333333,
              "#9c179e"
             ],
             [
              0.4444444444444444,
              "#bd3786"
             ],
             [
              0.5555555555555556,
              "#d8576b"
             ],
             [
              0.6666666666666666,
              "#ed7953"
             ],
             [
              0.7777777777777778,
              "#fb9f3a"
             ],
             [
              0.8888888888888888,
              "#fdca26"
             ],
             [
              1,
              "#f0f921"
             ]
            ],
            "type": "histogram2dcontour"
           }
          ],
          "mesh3d": [
           {
            "colorbar": {
             "outlinewidth": 0,
             "ticks": ""
            },
            "type": "mesh3d"
           }
          ],
          "parcoords": [
           {
            "line": {
             "colorbar": {
              "outlinewidth": 0,
              "ticks": ""
             }
            },
            "type": "parcoords"
           }
          ],
          "pie": [
           {
            "automargin": true,
            "type": "pie"
           }
          ],
          "scatter": [
           {
            "fillpattern": {
             "fillmode": "overlay",
             "size": 10,
             "solidity": 0.2
            },
            "type": "scatter"
           }
          ],
          "scatter3d": [
           {
            "line": {
             "colorbar": {
              "outlinewidth": 0,
              "ticks": ""
             }
            },
            "marker": {
             "colorbar": {
              "outlinewidth": 0,
              "ticks": ""
             }
            },
            "type": "scatter3d"
           }
          ],
          "scattercarpet": [
           {
            "marker": {
             "colorbar": {
              "outlinewidth": 0,
              "ticks": ""
             }
            },
            "type": "scattercarpet"
           }
          ],
          "scattergeo": [
           {
            "marker": {
             "colorbar": {
              "outlinewidth": 0,
              "ticks": ""
             }
            },
            "type": "scattergeo"
           }
          ],
          "scattergl": [
           {
            "marker": {
             "colorbar": {
              "outlinewidth": 0,
              "ticks": ""
             }
            },
            "type": "scattergl"
           }
          ],
          "scattermapbox": [
           {
            "marker": {
             "colorbar": {
              "outlinewidth": 0,
              "ticks": ""
             }
            },
            "type": "scattermapbox"
           }
          ],
          "scatterpolar": [
           {
            "marker": {
             "colorbar": {
              "outlinewidth": 0,
              "ticks": ""
             }
            },
            "type": "scatterpolar"
           }
          ],
          "scatterpolargl": [
           {
            "marker": {
             "colorbar": {
              "outlinewidth": 0,
              "ticks": ""
             }
            },
            "type": "scatterpolargl"
           }
          ],
          "scatterternary": [
           {
            "marker": {
             "colorbar": {
              "outlinewidth": 0,
              "ticks": ""
             }
            },
            "type": "scatterternary"
           }
          ],
          "surface": [
           {
            "colorbar": {
             "outlinewidth": 0,
             "ticks": ""
            },
            "colorscale": [
             [
              0,
              "#0d0887"
             ],
             [
              0.1111111111111111,
              "#46039f"
             ],
             [
              0.2222222222222222,
              "#7201a8"
             ],
             [
              0.3333333333333333,
              "#9c179e"
             ],
             [
              0.4444444444444444,
              "#bd3786"
             ],
             [
              0.5555555555555556,
              "#d8576b"
             ],
             [
              0.6666666666666666,
              "#ed7953"
             ],
             [
              0.7777777777777778,
              "#fb9f3a"
             ],
             [
              0.8888888888888888,
              "#fdca26"
             ],
             [
              1,
              "#f0f921"
             ]
            ],
            "type": "surface"
           }
          ],
          "table": [
           {
            "cells": {
             "fill": {
              "color": "#EBF0F8"
             },
             "line": {
              "color": "white"
             }
            },
            "header": {
             "fill": {
              "color": "#C8D4E3"
             },
             "line": {
              "color": "white"
             }
            },
            "type": "table"
           }
          ]
         },
         "layout": {
          "annotationdefaults": {
           "arrowcolor": "#2a3f5f",
           "arrowhead": 0,
           "arrowwidth": 1
          },
          "autotypenumbers": "strict",
          "coloraxis": {
           "colorbar": {
            "outlinewidth": 0,
            "ticks": ""
           }
          },
          "colorscale": {
           "diverging": [
            [
             0,
             "#8e0152"
            ],
            [
             0.1,
             "#c51b7d"
            ],
            [
             0.2,
             "#de77ae"
            ],
            [
             0.3,
             "#f1b6da"
            ],
            [
             0.4,
             "#fde0ef"
            ],
            [
             0.5,
             "#f7f7f7"
            ],
            [
             0.6,
             "#e6f5d0"
            ],
            [
             0.7,
             "#b8e186"
            ],
            [
             0.8,
             "#7fbc41"
            ],
            [
             0.9,
             "#4d9221"
            ],
            [
             1,
             "#276419"
            ]
           ],
           "sequential": [
            [
             0,
             "#0d0887"
            ],
            [
             0.1111111111111111,
             "#46039f"
            ],
            [
             0.2222222222222222,
             "#7201a8"
            ],
            [
             0.3333333333333333,
             "#9c179e"
            ],
            [
             0.4444444444444444,
             "#bd3786"
            ],
            [
             0.5555555555555556,
             "#d8576b"
            ],
            [
             0.6666666666666666,
             "#ed7953"
            ],
            [
             0.7777777777777778,
             "#fb9f3a"
            ],
            [
             0.8888888888888888,
             "#fdca26"
            ],
            [
             1,
             "#f0f921"
            ]
           ],
           "sequentialminus": [
            [
             0,
             "#0d0887"
            ],
            [
             0.1111111111111111,
             "#46039f"
            ],
            [
             0.2222222222222222,
             "#7201a8"
            ],
            [
             0.3333333333333333,
             "#9c179e"
            ],
            [
             0.4444444444444444,
             "#bd3786"
            ],
            [
             0.5555555555555556,
             "#d8576b"
            ],
            [
             0.6666666666666666,
             "#ed7953"
            ],
            [
             0.7777777777777778,
             "#fb9f3a"
            ],
            [
             0.8888888888888888,
             "#fdca26"
            ],
            [
             1,
             "#f0f921"
            ]
           ]
          },
          "colorway": [
           "#636efa",
           "#EF553B",
           "#00cc96",
           "#ab63fa",
           "#FFA15A",
           "#19d3f3",
           "#FF6692",
           "#B6E880",
           "#FF97FF",
           "#FECB52"
          ],
          "font": {
           "color": "#2a3f5f"
          },
          "geo": {
           "bgcolor": "white",
           "lakecolor": "white",
           "landcolor": "#E5ECF6",
           "showlakes": true,
           "showland": true,
           "subunitcolor": "white"
          },
          "hoverlabel": {
           "align": "left"
          },
          "hovermode": "closest",
          "mapbox": {
           "style": "light"
          },
          "paper_bgcolor": "white",
          "plot_bgcolor": "#E5ECF6",
          "polar": {
           "angularaxis": {
            "gridcolor": "white",
            "linecolor": "white",
            "ticks": ""
           },
           "bgcolor": "#E5ECF6",
           "radialaxis": {
            "gridcolor": "white",
            "linecolor": "white",
            "ticks": ""
           }
          },
          "scene": {
           "xaxis": {
            "backgroundcolor": "#E5ECF6",
            "gridcolor": "white",
            "gridwidth": 2,
            "linecolor": "white",
            "showbackground": true,
            "ticks": "",
            "zerolinecolor": "white"
           },
           "yaxis": {
            "backgroundcolor": "#E5ECF6",
            "gridcolor": "white",
            "gridwidth": 2,
            "linecolor": "white",
            "showbackground": true,
            "ticks": "",
            "zerolinecolor": "white"
           },
           "zaxis": {
            "backgroundcolor": "#E5ECF6",
            "gridcolor": "white",
            "gridwidth": 2,
            "linecolor": "white",
            "showbackground": true,
            "ticks": "",
            "zerolinecolor": "white"
           }
          },
          "shapedefaults": {
           "line": {
            "color": "#2a3f5f"
           }
          },
          "ternary": {
           "aaxis": {
            "gridcolor": "white",
            "linecolor": "white",
            "ticks": ""
           },
           "baxis": {
            "gridcolor": "white",
            "linecolor": "white",
            "ticks": ""
           },
           "bgcolor": "#E5ECF6",
           "caxis": {
            "gridcolor": "white",
            "linecolor": "white",
            "ticks": ""
           }
          },
          "title": {
           "x": 0.05
          },
          "xaxis": {
           "automargin": true,
           "gridcolor": "white",
           "linecolor": "white",
           "ticks": "",
           "title": {
            "standoff": 15
           },
           "zerolinecolor": "white",
           "zerolinewidth": 2
          },
          "yaxis": {
           "automargin": true,
           "gridcolor": "white",
           "linecolor": "white",
           "ticks": "",
           "title": {
            "standoff": 15
           },
           "zerolinecolor": "white",
           "zerolinewidth": 2
          }
         }
        },
        "title": {
         "text": "Drift Score - Multivariable"
        },
        "xaxis": {
         "dtick": 0.05,
         "fixedrange": true,
         "gridcolor": "black",
         "linecolor": "black",
         "range": [
          0,
          0.4
         ],
         "showgrid": false,
         "title": {
          "text": "Drift score"
         }
        },
        "yaxis": {
         "autorange": true,
         "color": "black",
         "fixedrange": true,
         "rangemode": "normal",
         "showgrid": false,
         "showline": false,
         "showticklabels": false,
         "zeroline": false
        }
       },
       "_py2js_addTraces": {},
       "_py2js_animate": {},
       "_py2js_deleteTraces": {},
       "_py2js_moveTraces": {},
       "_py2js_removeLayoutProps": {},
       "_py2js_removeTraceProps": {},
       "_py2js_restyle": {},
       "_py2js_update": {},
       "_view_count": 0
      }
     },
     "d4deab9281474c15a70168e14044e9c7": {
      "model_module": "@jupyter-widgets/controls",
      "model_module_version": "1.5.0",
      "model_name": "VBoxModel",
      "state": {
       "children": [
        "IPY_MODEL_7451ce7430da4f23a04903d1a8164a15",
        "IPY_MODEL_cd3ae95d305f43a0b910b16e91dfa075",
        "IPY_MODEL_161f94e76d434bcd9dfa5798c724139c"
       ],
       "layout": "IPY_MODEL_3cef324288584012aaf43fd9ee839f99"
      }
     },
     "d5fc46c068964f199e26e6d377df0d71": {
      "buffers": [
       {
        "data": "dLskQWFCMEFWdLRAYC4iwMGbDEHASJ4/WA7wPyRAmUH7U2pAR8/yQMH+Q0BHHKTAPx8aQQwOM0Eihd9A6BniQIs2OUH3M2M/PixEQUwxHcC4ZPFAUurnQE++WEAZGjy/DysMQJCTKUH6vH1B68cnQYHSE0Gt0SVBAjQHQUFdrz/EXl9BmnchwEkMHD/9mRJBO/1VQSTqzz8cav9AKBNfQQWVjEF8voVBxvSRv5NY38GkJDNBgF1iwFWDL0HwxiJBUmbPQOQBKEHgb4i+gFidQDBFOkF6+r5AtulfwNdkUMCYAXRBgGF1QJFJYEH2Nh1BWKsgQTbSm8DcrQdB0ysdQJKNc0H6eOK9PxQ0QXFtk0HdB0s/qG8AwNi8hUE3HA9BKZpzQThWEUF4I75AAAVxv7b91r8J6Q7Ay5mDQdRMNEAlMRVADXQfwKKdNkE6hYlBaJYnwCdynECCIy9BXYHBv1Xw60Ckxr4/IX8fQf1xREETWLNA1ij8QIp3kMAjWnTA64ehP/RQREEBpXPA6/a5QHh0AUE//XtBSXyfv3oNXkGn0pZB8Y9oQXv0lkHJw4JAhXhAQLvklEHf++5AYysUQXK4j0HPDmdBEkCWwHBf9MAsIExBxIXgwcRJc0F6TRfAMSgrQfQ01UCpjAVBQOIwQTkOdUHNx4lAipvfQOQTq0CX5xNB+BtowPVz9b8S5zVBflmzP/96O0Hrb1BAaOgdQYgKDT/K+QNBxWDZPygOP0DpwCRBe08xQcwblkHpEBhByY9aP4/slkGkdtNAMcQ5vuJij8AJ89BAqpGvv5alVkAdAI9B2epGQBmajkCRqQBBeQdLwJzx67/TmeFAL80kQSbTPEFqcQVAaH0hQUaG90A0uW6/T3PjvvyRHkH9KyxB/o8MQNRHWMAoaoJBGPeVQL/Cyr/MmupABfJgQU8b4UDyVIfAow0GQfkh3b7lCllBBlCGwHei/0CyfXFBtn/8v/9RIEDlDwJBtCHnwEVtJkE3w07AZsE8wL8nr0CFoIBAuv2dwNWEmEHI0TxBZh8KP9pPtUBNPV5ANEeQvwcP+UAbnBxBgugGQbURDT8ff0k/KswSQSMbWEHgu6I/iILOQLqtCEEhxPJAcmo3wAUU+UAqMPnAEMceQQoQq8B15gdBl2UAQXGzH0C3EiFBkzpJwC1MZkDcQTtBPQzrQBc60EBNIytAZo9CQTriKUFjSALAYAcpQcSUMEFyjZLAAKPkQEVlaUD6S5NB6NaLwMs0RkFRZkFATr6YPnIVOEGEgzhBaOFWwAAWOkE4bQ9BhqgqQdeth0Gx/k1APn/MP9eq50D92fRAiFJEQA==",
        "encoding": "base64",
        "path": [
         "_data",
         0,
         "x",
         "value"
        ]
       },
       {
        "data": "+rUNwMuPkL9sSbRAO6Y7QWOKGUFK5ddAmwcAQRgAmcECvPg/a3MsQbk7IUFgiiNB1pH3P5tRjb8p7ZFA8mI9QU0eS782XBxB3lx8QcgtPUF7AfI/f+sjQeNCIcAUCRNB/1wUwPYAX0ArOn0+DIOQQLDODUCVqCZBvKbxPrgoHUEvzzhA1K4IQd1wb0Dtt59A3r5dQMOU3UAnKzlBXMIbQKqnBkFfogtBEIVjQXHRl0GFUaxAZNlKPVr9S0CPoLJA+icaQLljH0BYYAtAadx0QIikj0FopxNBrEDnvQvUb0CU5oE/dekewE7cxD81x8pA3w3zQO0+QUG7wTBAIPprQeM8+EDGwRpBLDYfQNaHSUBLwTtB6fBrQXv940D1m+tAVzwEP/P6NEHaWKdAUygUQTcmaEFi1V9BlDsNQVBFHEDewBVBc8IYQAB8ZUCbUJ9A3v+oQL7v4kCbxPg/7WEjQa56CkGDEjtBer/ZQPIedkHkXC9Bc58HQTXo/UDHMQpBz8/UQESncEHtMTVBwP7uPzXFGEF+Xrw9Bh8lQalE5ED1e4/BwognQaPZEkCCAiZBz0AmQLzTCkCZ3/ZAsNh4QWJ4PUAajgBA13ISQf+/xEDYqvhAxv6YQbQYFD8dhkVBQAA8wIXpckDU3h9A208aQXIUIkHUhwVB65ErQZDcfEAXG4w/4RSgQAxQEUCUg41B70S2QAKYL0B3dPJAyeY6QTt98EBZ/+tAlhq7QDJvZUEDRQRB/9abQBLvl8GIIPtA+BFuQdm0msFh3DZBlbrGQNdmI0EKjghBNWdBQcArsL8N44VAn5STQM5Cwz8tzsZAqpxFQWNZ50BGjk1AnCr8QMlbj0FmFAJBz0JlQe8TNz+AeFpBZEEBQKm7G0GOfOJAHwPkvqdTKEDrQw1B7IuiP6BeZkFIUdNAH67dPyuq/UChAaRB2VFAP8BOC0GWP/w/z4yoQE4PQUGfmClBpaCzQL6KSUBL2whAaxLmQKztPUAvGdpA/q0avk3+vz8+ozA/pwQUQVA/ncHr5+hAzjmRQEeKZUB0fPK/m19zQV7dNUHN+0FBFEowQdI3b0ElbmBBcWEZQEFw80C1NzlBEEssQY3u7T7xBJhASh9kQNvPJ0F+tupApoknQfB6BkHtDZw/4oegQO713b+2GFtAdERFP0dTkkDGNwlBrFk+QfSfP0DHT3m/Th9+QauGrz/QjQ1BTyQ7QWb4BsA0zKZBTiMSQMLjpEBLXCFAx0sOQdxq60Caz4W/JGN9QVoR10A4ogrA4WSVQPcLGUCedwdBhfmYQIBfo0BD3gzA3vTpQAl1RkEp/L5ApdMAwA==",
        "encoding": "base64",
        "path": [
         "_data",
         0,
         "y",
         "value"
        ]
       },
       {
        "data": "Zfu+v0Wa58Br0iJB7KmCwJ3U30CtfmLAq7WBQGSq9kDyARVB11JGP6Vw079b6RdBy3KCwH0VlEG02qXABGwnQTsrs0Eh9LRA7sCFwCz3/8BQfI9AV34NvnJ6KkEOX+dAkf5gwOwMGEFHDeHBe5m3wIK7pz6pq7dAMuOxQXhFRr8xUh2/q5r7P0XUJ0Fk8YxBf/uxQYQAP0EOJblACyVDQaOBBEG7JUNAs2CHQYZbnMAKnrNBf35BwClAnkC2p8FAEYq2QbG2sEC4d4JBSsJfQXGBLkE3/YdBYGoYQcBqLUGcJ1M+pzAPQXmoAsCUeK9BwmfawOprVMAW81M/bmbtQPAu0T/ADnDAW3eDv2mSOEA9TT5B+CfxQAiOikGstjjAjuAfQVE8iEAunulAV3gDwRcbW0EylALAPQeQQb6p9kBS6rNAHTFBQSrKHb/XkKdAnlQ4QSsvbj6N072/eH4yQYN7xT+mUDhBKBglQeg4CMHnr/1A87s1QfDZM0GqfJLAyaWPwIEpS8CI9iRAvD65QNY+3cFWARRBwIoFQaP5rMBLPX0+mNipwN03UEESahpAPiSKv0X900BklztB+bNxwMHNvMDUkwBBeRjIQKIz3kBgRO6/O5Q+wA8E/0DcfGa+8h3WQGlFC0FgmCtBZTuYwI8l57+YxZTAS+OCQZ22Gr6AMhNBnq/EQHZ+uz9G2oS/UQOMP5G2qEDc/CRAXQc0QYmatkG4YnpBRsYCQaWFkr9V2ZtAMLYqQW3DBz99SppAEEmyQOBxVb4koE9AaMt9v3zhaEHrpZdB/UzHQG/wEkHIgwVBXr+DPyFYVUD+Q5RB9wYwQeBLSkGA1zVBCoTrwDFYCkH3D0TAIGrlwGRpi8Bh4jhBMNtdQXc1aUHhnZq/MGHjv/Vwi8DvuAfBJqv6QFfL3b+xqpPAsRkKQVj/cUHVxSXAThSGQQ8XPUAgMxBAbUu0QTBXLb3NPyHAUlToQMCnDUFOqWvAhe4BQduJ6z6/muy9Rb7vwJeQPEHUyrDA19AVP0ZcN0FkkhK/BPYFQZpwVkFlNS1BcXoQwGliEEGvBBxBcUw7QFYnGkEywZxATVEuQZzSQEHKz6bA1a9EQL4jY0DWSuk/p9o9QWvq7T509qBAcp1hQdasTkEEoVJBrB5SwPZm/kBVH5rAsRfNQPpLbEF3Sa7ABeshQUFQikCowZnACCnNwL6KDkBtnoxBSagvP3UsUEH9Rg1BT+eUQMGLl0G/hFTAnkTvQH1mHUHnCIpBxWyBwCSNtEHks69BRyYUQRQUbEF/Wg7AnlOKQXxHXcCbho9AoTKtwH93qsCxUrq+xjp9QQ==",
        "encoding": "base64",
        "path": [
         "_data",
         1,
         "x",
         "value"
        ]
       },
       {
        "data": "W0jxP6ef3ED0BZRAoNcsQb5JQkA//SRAqVMLQcGHN0FTXSxBlj4PQeU+A0Ez+QJB67qoQJGmj8HZu8NA+JVCQerdjj9ciwJBP5ujQQ+9yEB77zI/m4sCQaZ0qL/zcYlAttNAQdPWKEBLhplBG1C5QCVXTEDJOxBBSzvmPwqn4kDifB9B0hwCwLMxSUE4uaZANRy1vRyPUUBULRNBJoQNQfx3d0DxcXJBok34QEksUEFK9Co+0tSsQIU5LUEKoAxBgAlTPp3eJEFWqsRAHFwjQQ8KNECX0txAUv5sQUhXIEGhWTxBjXbVQDA29ECBUwhAS+a/QLXzCkEibSZBc1l8QDEy9EDbksNAboELQC8QTkCCVohBQNTmQC+6D0HsNHw92d91QUs290Ap3ehABvqxQB4KGUHtWy9AxWhgQPeXHEFB19JAkNHrQOeYUUGPMLY/kj+EQeSF4UBgIBJBB5/xQKW+w0DDWX5B+DpGQT4IwEByzJ1AerKSQW5DikE4wDJB9OBUQTw7CkED8NFAjCA3QQu5lUE88IpAC5KKQCNnQEHOAzJAbWcWQfvd40DQ/vRAoLUKQUbXBkEf1MRAxX4nQYIWvUDPjaxAkZHpP34gP0FAzsZAtrC0QBtLD0FuR3lBcyYZQXkpv0BsBK1AY8hMQe0d6kBhW6dBoE0WQRsZR0H843lBexntQCvIP0HusMRArZ4GQUPiSEByLfK/b3ZOwCSQMj/dhWQ/EwHJQApKYUHHUt9Au0dAwI8xKEHVjl1AREeRQB3sEkDxSapAB8hrQc4QHkGf+ZPBbYGXQDISaUHPcNZA2/mYQFlTtUALlI/BysYdv8OwBEFpwcVAmtTpQMUKgECDIAdAtAyvQPQ9nUCGThdBaCZEQMssjD/2lF9BMandQGkHpUGzhMpAgBvLPjyTHkG1qydBvdcrQSZx20AtqcJAGMOyQNgJqEBOtSBBTh27PxgzeEE4iURAb46RPzK1CkGObQxA/NH3QJxrc0Gy9NRAn2CrQBjzLkA7DRlBx4XZQCrwIsArwBVBPRJBQYOnIEFk/VxA3T3sQMEfcUHv3EpBOhJuQSVLa0CldxFBmdEBQK/kAkEnlrZAkx0FQZHybEGNl2ZBOPKQQKFqg0DCOhZBUC7oQKmmFEEV+VhAs5QAvzhgX0B37wNBKE4JQTxkLEHQW0dBU+wiQY34BEEwnKhBiwG2QINhFkG4lYtAhUbsQIUj70BAA6w/VP4IQd2LDkDKCyhBvjYhQbiu8UDxeAhB1UxPQYsozz8wrAZAGE8xQe9h7kDBM8RAaJ/0QOUb/UCrCKk/bbFIQbO7C0GPQSFB8WsCQQ==",
        "encoding": "base64",
        "path": [
         "_data",
         1,
         "y",
         "value"
        ]
       }
      ],
      "model_module": "jupyterlab-plotly",
      "model_module_version": "^5.13.1",
      "model_name": "FigureModel",
      "state": {
       "_config": {
        "editSelection": false,
        "plotlyServerURL": "https://plot.ly"
       },
       "_data": [
        {
         "customdata": [
          [
           "happiness",
           "Tiller and breezy should do a collab album. Rapping and<br>singing prolly be fire"
          ],
          [
           "anger",
           "Puzzle investing opening portland feodal population is<br>correlative straight a snorting infuriate: XLzjYhG"
          ],
          [
           "sadness",
           "so gutted i dropped one of my earrings down the sink at<br>school"
          ],
          [
           "sadness",
           "I'm so bored and fat and full and ridiculously overweight<br>and rolls galore"
          ],
          [
           "sadness",
           "@user I so wish you could someday come to Spain with the<br>play, I can't believe I'm not going to see it #sad"
          ],
          [
           "happiness",
           "Val got a little too big for her hiking boots with that<br>bakewell, the little terror #GBBO"
          ],
          [
           "happiness",
           "@user bts' 화양연화 trilogy MV is my all time fav🙌 quite gloomy<br>but beautiful as well✨"
          ],
          [
           "anger",
           "Why are people even debating on race inequality within our<br>justice system like it's non existent? They're just trying<br>to aggravate us."
          ],
          [
           "anger",
           "@user @user don't get me started on town centre. Used to go<br>every week.... not been for 18 months #horrible"
          ],
          [
           "anger",
           "@user ur road rage gives me anxiety."
          ],
          [
           "happiness",
           "Well stock finished &amp; listed, living room moved around,<br>new editing done &amp; fitted in a visit to the in-laws.<br>#productivityatitsfinest #happy"
          ],
          [
           "sadness",
           "nooooo. Poor Blue Bell! not again. #sad"
          ],
          [
           "anger",
           "@user snap, seems to be a problem here"
          ],
          [
           "happiness",
           "@user #ldf16 what shall we do this weekend?  #spraypainting<br>in #greenwichmarket with @user #core246 #lilylou #fret &amp;<br>#benoakley"
          ],
          [
           "anger",
           "@user now you gotta do that with fast n furious"
          ],
          [
           "anger",
           "Ffs 🙈 when things come back to haunt you... cringe bad<br>cringe 🙋🏼👀🔫 👈 what a terrible gun that is"
          ],
          [
           "happiness",
           "Another joyful encounter in Tribez &amp; Castlez! I just met<br>Bartolomeo! Do you want to know who that is? Download the<br>game and find out!"
          ],
          [
           "anger",
           "Nothing else could possibly put a damper on my day other<br>than doing X-rays on someone with kickinnnnn ass breath 😿"
          ],
          [
           "sadness",
           "Migraine hangover all day. Stood up to do dishes and now I'm<br>exhausted again. GAD, depression &amp; chronic pain #anxiety<br>#depression #pain"
          ],
          [
           "sadness",
           "Drop Snapchat names #bored #snap #swap #pics"
          ],
          [
           "happiness",
           "@user @user @user @user gotta shake the booty instead<br>though, makes sure it's all good 🙂"
          ],
          [
           "sadness",
           "@user @user Horrid disease! My maternal grandmother and each<br>of her sisters suffered from this affliction. It's hard on<br>all."
          ],
          [
           "anger",
           "Side chick's be trying to fuck u like your going to forget<br>about your wife when your done."
          ],
          [
           "sadness",
           "Don't get too close it's dark inside 🌫🌊"
          ],
          [
           "sadness",
           "I am often disturbed by what some people find appropriate or<br>acceptable. It's not funny nor cute that adults find this<br>stuff humorous. #sad"
          ],
          [
           "happiness",
           "@user ehhh I guess. I want to everyone I've ever burst out<br>laughing in front of😂"
          ],
          [
           "anger",
           "So Rangers v Celtic ll #revenge"
          ],
          [
           "happiness",
           "@user she looks completely #rabid @user"
          ],
          [
           "anger",
           "@user @user candy corn is the greatest candy in the world<br>when it comes to being objectively terrible"
          ],
          [
           "anger",
           "You insult the late Sherri Martel"
          ],
          [
           "happiness",
           "@user @user YES! I am rejoicing"
          ],
          [
           "sadness",
           "Forgot to plug the phone in overnight #nightmare"
          ],
          [
           "anger",
           "Damnnit! Gonna be 1400 pts shy on Chiefs Rewards of getting<br>a post game photo."
          ],
          [
           "sadness",
           "Overwhelming sadness.  This too shall pass.  #lonley<br>#startingover"
          ],
          [
           "happiness",
           "i love that tay &amp; tiff are just sitting at my house<br>while i'm at work 🙃"
          ],
          [
           "anger",
           "@user I was talking about further in the expansion, with<br>more gear - fury always does well towards the end"
          ],
          [
           "anger",
           "I can't believe @user can't put up even 3 points on @user<br>#horrible #hugeletdown"
          ],
          [
           "happiness",
           "Time to go hit up the library - I have a lovely PILE of book<br>reservations to collect this morning... #glee #books<br>#reading"
          ],
          [
           "happiness",
           "#nana 4 hoco bc my dream since freshman year awe 😙❤❤❤ @user"
          ],
          [
           "anger",
           "@user @user the refs are in GT's favor tonight. #terrible"
          ],
          [
           "anger",
           "@user where's your outrage that your party nominated a<br>lying, corrupt person? And received donations from nations<br>who support terror"
          ],
          [
           "anger",
           "@user What? Hillary has 27 different controversies and she<br>gets asked NOTHING about any of them. Truth is she's a<br>horrible candidate"
          ],
          [
           "anger",
           "Finally uploaded the file I needed to the university<br>server's drop box. It took like half an hour and a lot of<br>cursing and anger on my part"
          ],
          [
           "sadness",
           "@user @user I cancelled by CBS all access live feeds before<br>JC even said Vic won AFP. Paul.should have won IMO"
          ],
          [
           "happiness",
           "I added Paul Walker on Xbox but he just spends all of his<br>time on the dashboard. #dark #humor #funny"
          ],
          [
           "sadness",
           "Breaking out in hives for the first time since college<br>finals. #anxiety sucks"
          ],
          [
           "happiness",
           "@user made me laugh, that quote. In a sort of rueful way."
          ],
          [
           "anger",
           "@user can you please not have Canadian players play US<br>players, that lag  is atrocious. #fixthisgame #trash<br>#sfvrefund"
          ],
          [
           "anger",
           "@user I've been disconnected whilst on holiday 😤 but I don't<br>move house until the 1st October 🤔"
          ],
          [
           "happiness",
           "@user @user It's hilarious"
          ],
          [
           "happiness",
           "Friday is here, and we are open tonight and tomorrow. Get a<br>jump on your Halloween and come play with us. #hauntedattrac-<br>tion #tulsa #haunt"
          ],
          [
           "happiness",
           "@user [he gives a gleeful squeak and wraps around you] All<br>mine!"
          ],
          [
           "sadness",
           "@user See your primary care doctor. They can prescribe meds<br>and refer you to a psychiatrist for eval. Don't mess with<br>depression."
          ],
          [
           "optimism",
           "@user So I worry about emphasis on 'keeping family together'<br>as a guiding principle, due to my own experiences"
          ],
          [
           "anger",
           "So I've decided to go talk to Mr. Smithrud about that creepy<br>fucking guy since he gave me a fucking anxiety attack this<br>morning"
          ],
          [
           "sadness",
           "Idk why but this Time around its so hard that it hurts, I<br>already miss them all so much #silly #family #friends<br>#nervous"
          ],
          [
           "sadness",
           "If Payet goes either in Jan or @ the seasons end, can't say<br>I blame him. The boy must b so disheartened by what he's<br>seeing at the mo."
          ],
          [
           "happiness",
           "I like cycling because I get to intimidate people with my<br>powerful calves &amp; horrendous tan lines."
          ],
          [
           "anger",
           "@user be nice if the Texans could hold onto the ball to give<br>fuller and Hopkins a chance!!! #awful #TNF"
          ],
          [
           "anger",
           "@user add tracking but resent them"
          ],
          [
           "anger",
           "@user ...specifically are the cause of it all, and they<br>resent being considered the enemy."
          ],
          [
           "sadness",
           "Haven't gotten one hour of sleep... Today is going to be a<br>fun day 😐"
          ],
          [
           "sadness",
           "not near my kitchen so unfortunately I cannot do a cooking<br>snap series 🍳"
          ],
          [
           "happiness",
           "Clash of the titans and wrath of the titans 🙌🏾🙌🏾🙌🏾 🔥"
          ],
          [
           "anger",
           "@user This is it. The complete illiteracy around the role,<br>nature and extent of British agents is shocking."
          ],
          [
           "happiness",
           "It's a beautiful day today. Cloudy but sunny and breezy."
          ],
          [
           "happiness",
           "@user I'll be there!! Can't wait for all the #mirth!"
          ],
          [
           "anger",
           "Donnie trumpeter is a vapid and vacant vile viper slithering<br>through the landscape and playing on the gears of the<br>fearful and afraid."
          ],
          [
           "anger",
           "Hate being sober so I popped two"
          ],
          [
           "anger",
           "I'm just a fuming ball of anger today 🙃"
          ],
          [
           "anger",
           "@user negative campaign of doom and gloom don't win<br>elections"
          ],
          [
           "sadness",
           "@user @user Start mournful then kick into major key in last<br>verse where good guys win? (Or just change words in existing<br>song?)"
          ],
          [
           "anger",
           "I remember when Rooney wanted to leave United and the fans<br>threaten to kill the man and bare junk... wanna regretting<br>that now? 😂😂"
          ],
          [
           "anger",
           "God knows why you'd wanna go with a girl who's slept with<br>half ya mates #grim"
          ],
          [
           "anger",
           "because a kitchen sink to you is not a kitchen sink to me,<br>okay friend?"
          ],
          [
           "sadness",
           "At my age all I see is gray. Is it gray because of my bad<br>eyes or my perspective #depression  #healingjustice"
          ],
          [
           "anger",
           "I can't even right now #bb18 #rage"
          ],
          [
           "anger",
           "ICQ is just making me mad!!!😤 #icq"
          ],
          [
           "sadness",
           "Has anyone noticed that @user stories in recent days all<br>paint positive accomplishments for Trump and challenges for<br>Hillary? #surprised #sad"
          ],
          [
           "anger",
           "Checked-in for my flight to Toronto. Took seat 3D just to<br>infuriate @user"
          ],
          [
           "anger",
           "If Monday had a face I would punch it #monday #horrible<br>#face #punch #fight #joke #like #firstworldproblems #need<br>#coffee #asap #follow"
          ],
          [
           "sadness",
           "It's my last week at CN! I'm gonna be sad to leave, but this<br>will also be my first planned break since going into<br>animation!"
          ],
          [
           "happiness",
           "@user can you at least just walk past her and break out into<br>laughter"
          ],
          [
           "anger",
           "@user Anything is better than a Trump ramble. He is awful.<br>Truly truly awful."
          ],
          [
           "anger",
           "when you find out the initiative isn't even a thing 😧<br>#revenge"
          ],
          [
           "sadness",
           "you make my heart shake, bend and break.'"
          ],
          [
           "happiness",
           "How wonderful to see a show with a token man for once!<br>#GlasgowGirls was uproarious, gleeful, important &amp;<br>uplifting. Go see @user"
          ],
          [
           "sadness",
           "I haven't watched my favorite youtubers in months and it's<br>honestly made my depression so much worse"
          ],
          [
           "anger",
           "I am going to make it my life's mission to discourage anyone<br>from using @user They will rob you blind"
          ],
          [
           "sadness",
           "I'll just have to #eat my way to #sobriety. This'll be a<br>hell of a journey back to #sober"
          ],
          [
           "happiness",
           "@user @user grim should find broken Matt hardy because he<br>can delete everything lol"
          ],
          [
           "sadness",
           "Panic attacks are the worst. Feeling really sick and still<br>shaking. I should be a sleep.  #depression"
          ],
          [
           "anger",
           "@user @user @user @user @user How did that chop feel? You<br>still feel the sting of it? Looks brutal!"
          ],
          [
           "anger",
           "some of the casuals tweets that Vic has faved are making me<br>gag #bitter"
          ],
          [
           "sadness",
           "After a nervous couple of days test results now confirm my<br>life will be no different whatsoever as the result of two<br>actors divorcing, phew!"
          ],
          [
           "sadness",
           "Trial result #sadness"
          ],
          [
           "happiness",
           "Google caffeine-an sprightly lengthening into the corridor<br>re seo: WgJ"
          ],
          [
           "sadness",
           "Andrew's hands start shaking and he says 'I hope I die..<br>like right now'"
          ],
          [
           "anger",
           "When your body says FUCK YOU BITCH, You ain't sleeping\\n#sle-<br>ep #cantsleep #drained #restless"
          ],
          [
           "sadness",
           "#Facebook is #depressing without even being there. Two apps<br>want it for logging in, I have missed at least two<br>interesting #events and they"
          ],
          [
           "sadness",
           "Mom you remember when Narley died? You cried like a baby!<br>#bully"
          ],
          [
           "anger",
           "How had Matty Dawson not scored there!!!!!"
          ],
          [
           "anger",
           "TVGirl is like I'm really pretty and melancholic about life<br>and this is why I hate myself"
          ],
          [
           "anger",
           "@user why should I listen to someone with a tie like that?"
          ],
          [
           "sadness",
           "Too many are on their 'yeah, the thing going on with cops<br>shooting innocent people is sad - but just not in my<br>backyard, so..' #sad #blm"
          ],
          [
           "anger",
           "im what a 90s tv bully would call 'a nerd' but i would<br>rather shove one thousand nickels into my right earhole than<br>go to new york comic con"
          ],
          [
           "anger",
           "They're like the rape apologists who (inadvertently?) make<br>men sound like rabid, mindless beasts. With friends like<br>these..."
          ],
          [
           "happiness",
           "One time I saw Rachel from glee tell someone their job was<br>on a pole and I said that in 5th grade to a boy and he look<br>confused"
          ],
          [
           "anger",
           "@user correction 26 ppl. Checked in. Standing at the gate.<br>&amp; Flt 1449 took off without us."
          ],
          [
           "happiness",
           "A 'non-permissive environment' is also called a 'battlegroun-<br>d' - #MilSpeak #hilarious"
          ],
          [
           "anger",
           "@user @user annoyed by the good loving fans of Onision<br>including myself Is really annoyed at how people just are<br>too cheerful."
          ],
          [
           "anger",
           "For the last 2 years the U.S. has been averaging about 4<br>terrorist attacks a month. Good debate topic. #Trump<br>#Hillary #terror"
          ],
          [
           "anger",
           "I mean, is she supposed to seem joyous when she's talking<br>Rodrigo Duterte, ISIS, the American economy, etc.? Think<br>about what you're saying."
          ],
          [
           "anger",
           "History repeating itself..GAA is our culture how dare anyone<br>think it's ok to discourage any Irish person from attending<br>any match or final"
          ],
          [
           "sadness",
           "Finally watched #hungergamesmockingjay2 this morning, sadly<br>I feel a little disappointed #toomuchhype"
          ],
          [
           "optimism",
           "Don't let worry get you down.  Remember that Moses started<br>out as a basket case.  #lol \\nToday, choose #faith over <br>#Moses"
          ],
          [
           "anger",
           "@user I had to unfollow, he got trolled by trolls. His<br>revenge trolling just caused a lot of collateral damage."
          ],
          [
           "anger",
           "James: no 500k, no 50k, no 25k, no 10k. You fucked up. #bb18<br>#shouldofVotedforNicole"
          ],
          [
           "anger",
           "Stop tracking back you fucking potato faced cunt errrr<br>infuriating 😠😠😠😠😠 #angry #Rooney #mufc"
          ],
          [
           "sadness",
           "Snores on TL. Boredom sunk in."
          ],
          [
           "happiness",
           "Listening to old school house music kentphonic-sunday<br>showers 'hanging around' 'sing it back' #blues"
          ],
          [
           "sadness",
           "@user @user sadly not !! One less hour drinking time 😢🍻"
          ],
          [
           "happiness",
           "@user + returned her joyous focus to the pastel-haired girl.<br>'Wawa's okay, tooooo~!' She squealed before raising her<br>eyebrows at the +"
          ],
          [
           "anger",
           "@user Don't ask, you don't get. Apologies if I've offended<br>you. All due respect Alan, I think you've been fed duff<br>info."
          ],
          [
           "anger",
           "@user a multimillionaire spoiled brat who gets In a self<br>righteous huff bc his friend is Muslim is a non starter<br>bye!"
          ],
          [
           "sadness",
           "Just heard what happen at grandad hometown last night such a<br>terrible news 💔, hope everyone okay 😢"
          ],
          [
           "sadness",
           "@user cum and despair"
          ],
          [
           "optimism",
           "@user If you don't love yourself... Honesty is the best<br>policy"
          ],
          [
           "happiness",
           "@user after such a heavy 2 days this has given much needed<br>levity. Thanks bro"
          ],
          [
           "anger",
           "(Sam) Brown's Law: Never offend people with style when you<br>can fake that, you have to break us in this Island."
          ],
          [
           "happiness",
           "#Trends thread;'P)..it was in my #drafts&amp;now #posted 2<br>mins after my #birthday..so #close:'O!:''/...but anyway it<br>#really was the #start of"
          ],
          [
           "sadness",
           "Shantosh: How crazy would it be to walk past and talk to a<br>person everyday never realizing he is suffering from<br>depression or such? …"
          ],
          [
           "anger",
           "#GBBO is such a homely pure piece of tv gold. Channel 4 will<br>attempt to tart it up. Mary, Sue and Mel gone. It's over.<br>I'm out. 👋"
          ],
          [
           "anger",
           "@user you should be criminalized for posting a pic of that<br>brown frown.... Get a pic of some jack, or cookies, or<br>diesel, Join up @user"
          ],
          [
           "happiness",
           "@user yep &amp; I stayed in pjs all day too lol x"
          ],
          [
           "happiness",
           "@user You are beyond wonderful.  Your singing prowess is<br>phenomenal but damn... I'm just elated to watch you act<br>again. #ThisIsUs 珞"
          ],
          [
           "happiness",
           "having a pet store worker ask 'do you want to play with<br>them?' is the most exhilarating feeling"
          ],
          [
           "optimism",
           "If you really care like you state @user @user then I would<br>seriously address sensitivity training to your employees"
          ],
          [
           "sadness",
           "So Mary Berry, Mel and Sue have gone with their principles,<br>and @user  has gone with the fame and fortune. #GBBO <br>#depressing"
          ],
          [
           "anger",
           "resentment is rlly my shit."
          ],
          [
           "anger",
           "not to be That Person™ but i get bitter seeing some ravi<br>stans"
          ],
          [
           "anger",
           "Cam cannot be serious with that IG post and that stupid ass<br>font he uses. Would've been better to just say nothing."
          ],
          [
           "anger",
           "So they #threaten to kill #kapernick for KNEELING. I say<br>every athlete just stop playing until social justice and<br>equality comes forth."
          ],
          [
           "anger",
           "@user Yikes. The wrath of Maddie..."
          ],
          [
           "anger",
           "Ever put your fist through your laptops screen? If so its<br>time for a new one lmao #rage #anger #hp"
          ],
          [
           "anger",
           "Some of these fb comments and/or tweets should make some<br>people realize why black Americans feel the way they do 😳"
          ],
          [
           "sadness",
           "@user ew omg that is so grim"
          ],
          [
           "happiness",
           "I wanna go to fright fest with squad"
          ],
          [
           "sadness",
           "Came in to work today 1.5 hours late.1st thing I hear:<br>'Ma'am,the big boss has been waiting for you in his office.'<br>#panic #hateBeingLate 😩😪"
          ],
          [
           "sadness",
           "@user @user it's sad but now we are making our own children<br>vulnerable to the same terror."
          ],
          [
           "happiness",
           "Stk is expensive but i'f rather take a bigger female there<br>than tiff. You all see how slim she is and how she loves to<br>eat."
          ],
          [
           "anger",
           "These people irritate tf out of me I swear 🙄 I'm goin to<br>sleep ✌🏾️"
          ],
          [
           "anger",
           "@user #VoteYourConscience or succumb to #fear? 'He is<br>#scary, he is #dangerous!' -@HillaryClinton's #alarmist<br>#PATRIOTACT platform."
          ],
          [
           "anger",
           "When you forget to mention you were bought dreamboys tickets<br>🙄😂 #raging"
          ],
          [
           "anger",
           "@user who do I contact about a shocking experience with<br>Clear Sky Holidays booked through you guys?? #customerservic-<br>efail #dreadful"
          ],
          [
           "sadness",
           "@user @user It is very specific areas only. I care like 0%<br>about clothes, much to my mother's dismay."
          ],
          [
           "sadness",
           "—but he just can't. He feels tired but also restless. So<br>here he now, scrolling his own music player, playing some<br>music through his—"
          ],
          [
           "sadness",
           "Synth backing tracks = sadness\\n#depresspop #dark #+++ #alt<br>#fuckingmeup"
          ],
          [
           "anger",
           "Panpiper playing Big River outside The Bridges in SR1<br>#outrage"
          ],
          [
           "anger",
           "@user @user   Hell hath no fury like a women scorned.   <br>It's the affair.  Not the parenting"
          ],
          [
           "sadness",
           "@user I think sadness is felt very strongly physically and<br>mentally.  It feels like it takes over and it's hard to<br>focus at work #MHChat"
          ],
          [
           "sadness",
           "@user I'm confident they will NEVER experience our successes<br>of last 50yrs. Best they can hope for is to be another<br>Bournemouth #sad"
          ],
          [
           "sadness",
           "Our soldiers in war zones are held to a higher level of<br>rules of engagement than our police officers."
          ],
          [
           "happiness",
           "@user breezy luvvvv"
          ],
          [
           "sadness",
           "Ffs clan... seriously never been so disheartened"
          ],
          [
           "happiness",
           "Halloween party coming soon! #turnt #ruinT #lit #firesauce<br>#hotsauce #mildsauce #getsauced #champagnedreams #scary<br>#haunt #kittens"
          ],
          [
           "sadness",
           "@user I knew you were going to do that. I would definitely<br>buy if I didn't live in Texas where you can't play DFS. ...<br>so depress"
          ],
          [
           "anger",
           "@user Far from safe and staid I found it horribly OTT at<br>times while everyone seemed to be trying just a little too<br>hard. Not for me"
          ],
          [
           "sadness",
           "she's always so insensitive whenever i grieve idgi"
          ],
          [
           "anger",
           "So not pumped for this interview"
          ],
          [
           "anger",
           "@user And you're cheerfully defending a group of unchecked,<br>armed thugs who've shown a history of racism, violence, and<br>lies."
          ],
          [
           "anger",
           "Staff on @user FR1005. Asked for info and told to look<br>online. You get what you pay for. #Ryanair @user #Compensati-<br>on"
          ],
          [
           "anger",
           "Your twitter picture just makes me fume."
          ],
          [
           "anger",
           "some people leave toilets in fucking grim states"
          ],
          [
           "sadness",
           "If i could just get my line to block! #germantownbroncos<br>#lilleague #popwarner #Broncos #usafootball  #lineman"
          ],
          [
           "anger",
           "@user @user a serious character flaw. Nowhere close to<br>@user"
          ],
          [
           "happiness",
           "#happy #birthday #day trip #great day #super nice weather<br>#blue sky #good mood #fun #love #ice cream #lycklig<br>#födelsedag #öland"
          ],
          [
           "happiness",
           "@user Yeah funny and sexy 😍"
          ],
          [
           "sadness",
           "@user It's an evening for lying around doing feck all. Looks<br>like an October evening down here #miserable"
          ],
          [
           "anger",
           "@user So are you saying there's a good chance that two teams<br>might *gasp* finish last? One in the East and one in the<br>West? #offended"
          ],
          [
           "anger",
           "@user keep your head clear an focused. Do not let T<br>intimidate you or use your children to silence you! Hate<br>when a man does that!"
          ],
          [
           "happiness",
           "@user The best of make up horror story..."
          ],
          [
           "anger",
           "we will send video to proper agency ,state workers harass<br>the public to fuel the ego of Scott Arniel  and trial court<br>what the bleep #bully"
          ],
          [
           "anger",
           "Fools! Little did you know that getting angry and trusting<br>your instincts by walking right into my trap was a mistake!"
          ],
          [
           "anger",
           "So apparently one of your bus drivers has a grudge against<br>me @user I was passed while waiting for it to stop. Real<br>service there.."
          ],
          [
           "anger",
           "@user Support Qld and you'd never be #angry"
          ],
          [
           "anger",
           "Psalm 2:12 Kiss the Son, lest He be angry, And you perish in<br>the way, When His wrath is kindled but a little."
          ],
          [
           "anger",
           "@user This is goin to be as good as rocky vs hogan #terrible<br>#ohnowhatisyoudoingbaby"
          ],
          [
           "sadness",
           "Said it once and I'll probably say it again, anything more<br>depressing than making your sandwiches for work the next day<br>#cry"
          ],
          [
           "sadness",
           "I hate these crippling anxiety. :("
          ],
          [
           "anger",
           "@user @user My shirt did not arrive today as promised, I<br>even pre-ordered it in June, who do I make my complaint to<br>?"
          ],
          [
           "anger",
           "@user I've tried to get through 3 times today and waited 20<br>mins each time, what do I have to do to get through?!"
          ],
          [
           "sadness",
           "My heart is hurting because I had to pour my milk out<br>because something was in it 😭"
          ],
          [
           "anger",
           "Did they offend us and they want it to sound new?"
          ],
          [
           "anger",
           "@user Nope we don't have it. It's an #outrage"
          ],
          [
           "happiness",
           "Carlsbad #Rouladen is one #delicious, hearty, home-style<br>dish! Stop by and let us know how you like it! #getdtl<br>#ldnont #chaucers #marienbad"
          ],
          [
           "sadness",
           "@user he knows wonwoo can't hold any longer when his fingers<br>trembling uncontrollably :( so sol gives his mask for wonwoo<br>and"
          ],
          [
           "anger",
           "It bugs me that people concern themselves so much with what<br>other people CHOOSE to do with their money 😂🙈"
          ],
          [
           "anger",
           "Up early. Kicking ass and taking names. #offense."
          ],
          [
           "sadness",
           "@user I woke up in dread too. #2017"
          ],
          [
           "happiness",
           "@user Thanks bby 💚 tiff got a pair too so I'll probably<br>steal hers lol"
          ],
          [
           "happiness",
           "@user at his best.... Great to watch u go big sir.<br>#tremendous hits \\nDts boom boom Afridi 😍"
          ],
          [
           "anger",
           "Today if i was a colour it would be red !!! #rage"
          ],
          [
           "anger",
           "I rage quit on Minecraft and I deleted the game. #rage"
          ],
          [
           "optimism",
           "@user @user Sort it out @user"
          ],
          [
           "anger",
           "#ATO hacking into your phone calls and text messages!<br>#privacylaws #invasion I knew they did it but hearing them<br>get approval !"
          ],
          [
           "sadness",
           "Thing is ... It's hard to be sober"
          ],
          [
           "sadness",
           "@user It's grim 😝"
          ],
          [
           "happiness",
           "@user Looks beautiful 😘"
          ],
          [
           "anger",
           "#ColorFabb #Ngen Worst filament for me :( Good finish but so<br>fragile :'( cc @user"
          ],
          [
           "sadness",
           "also had a dream i got to see my friend who's at basic rn<br>and woke up super sad because i won't see her until next<br>summer.. :("
          ],
          [
           "happiness",
           "Ten: Amazing the snap power @user gets off such a short<br>back-swing! #threat @user Rd of 16 #ATP 🎾🎾"
          ],
          [
           "optimism",
           "#worry leads to tension and pressure #prayer leads to peace"
          ],
          [
           "anger",
           "@user I didn't. We all went out and got pissed down the<br>local instead. 😄"
          ],
          [
           "sadness",
           "nothing happened to make me sad but i almost burst into<br>tears like 3 times today¿"
          ],
          [
           "happiness",
           "@user @user Told you ! It's basically another iron man but a<br>cheaper version 😂"
          ],
          [
           "anger",
           "@user This is the most fucking cursed FEHeroes unit I've<br>ever had the displeasure of seeing"
          ],
          [
           "sadness",
           "Not all people are #concern, some are just enjoying seeing<br>people in #miserable."
          ],
          [
           "sadness",
           "@user @user Why is this even a thing? #lost"
          ],
          [
           "anger",
           "3 hours of hell again. #anxiety. At this point I'm convinced<br>I'll never get an on site job again or play keyboards live."
          ],
          [
           "anger",
           "Boom pagod 😡"
          ],
          [
           "anger",
           "@user how could you put this show on air !! Disrespectful to<br>so many mums and families 😡"
          ],
          [
           "optimism",
           "@user @user Yes I also wrote to them cause my friend was<br>getting nervous about it. Hope we get what we want &gt;&lt;"
          ],
          [
           "happiness",
           "The lecturer tonight had such a muppet frown it was great."
          ],
          [
           "anger",
           "Mothafuckas wanna adopt the dark, but I was born in it"
          ],
          [
           "sadness",
           "Shitty is the worst feeling ever #depressed #anxiety"
          ],
          [
           "happiness",
           "@user 5000 likes. There are 300 million people in the U.S.<br>Ha. You are Real popular 😅"
          ],
          [
           "sadness",
           "better care about yourself than about others because others<br>wont care about you #lonely #sad #depressed"
          ],
          [
           "happiness",
           "@user Well, thank you. Sincerely 😊"
          ],
          [
           "happiness",
           "You can clearly appreciate the sub-harmonics in both...-ONE💯-<br>😂😂😂👍🏿"
          ],
          [
           "happiness",
           "Should I be flattered that locals keep asking if Im Swedish?<br>#Swedish #beautiful #Europe"
          ],
          [
           "anger",
           "Skyq is 👌🏼 but it's about time @user sorted there internet<br>out! #dreadful"
          ],
          [
           "anger",
           "Nothing fuels my daily anger and hatred like a bus driver<br>who stops at a yellow light"
          ],
          [
           "anger",
           "Why am I listening to Trump when #BachelorInParadise is<br>suppose to be on...get this crap off my TV! #ugh"
          ],
          [
           "sadness",
           "I start my day thanking my stars. Then I see my colleague<br>walk away early (notice period- honeymoon scenes) and I<br>wonder 'WHY GOD WHY !'"
          ],
          [
           "sadness",
           "@user  #DeMario was a player but even an allegation of<br>#sexualassault will ruin a life. Be damned sure it's true.<br>#heartbreaking"
          ],
          [
           "anger",
           "Are people becoming more annoying or am I becoming more<br>angry?! 😩😒😕\\n#introvertproblems"
          ],
          [
           "anger",
           "Thousands of pickled certified ostrogoths ! #angry"
          ],
          [
           "anger",
           "@user Who even knew that the Eu could be vindictive."
          ],
          [
           "happiness",
           "Yaaaaaaaaaaaas!!!! Scotty Sinclair #wonderful #magical"
          ],
          [
           "sadness",
           "I miss my friends so badly 😢"
          ],
          [
           "happiness",
           "@user But his mannerisms are hilarious !!"
          ],
          [
           "anger",
           "Nobody *assumed* what role you should play. It was a dream<br>cast. It's not real life. Get over yourself and pipe down.<br>#rage"
          ],
          [
           "anger",
           "@user Yeah I've had that, l say hopefully you'll never get<br>it then you horrific waste of skin."
          ],
          [
           "anger",
           "@user @user And using political power to exact #revenge when<br>they don't get what they want. #Kushner"
          ],
          [
           "anger",
           "see, that shit would irritate me so much. don't save my<br>picture and then have a secret circle jerk on twitter about<br>how you DONT like me"
          ],
          [
           "sadness",
           "As included in the Villalta scale, people living with #PTS<br>experienced heaviness of the leg and pretibial oedema.<br>#ISTH2017"
          ],
          [
           "sadness",
           "Definitely crying from the worst nightmare I've had in a<br>awhile"
          ],
          [
           "anger",
           "shaft abrasions from panties merely shifted to the<br>side\\n\\n#theoldsideshift #annoyance #humansoflatecapitalism"
          ],
          [
           "anger",
           "All this fake outrage. Y'all need to stop 🤣"
          ]
         ],
         "hovertemplate": "<b>%{hovertext}</b><br><br>Dataset=Train<br>Reduced Embedding (0)=%{x}<br>Reduced Embedding (1)=%{y}<br>Label=%{customdata[0]}<br>Sample=%{customdata[1]}<extra></extra>",
         "hovertext": [
          "Train",
          "Train",
          "Train",
          "Train",
          "Train",
          "Train",
          "Train",
          "Train",
          "Train",
          "Train",
          "Train",
          "Train",
          "Train",
          "Train",
          "Train",
          "Train",
          "Train",
          "Train",
          "Train",
          "Train",
          "Train",
          "Train",
          "Train",
          "Train",
          "Train",
          "Train",
          "Train",
          "Train",
          "Train",
          "Train",
          "Train",
          "Train",
          "Train",
          "Train",
          "Train",
          "Train",
          "Train",
          "Train",
          "Train",
          "Train",
          "Train",
          "Train",
          "Train",
          "Train",
          "Train",
          "Train",
          "Train",
          "Train",
          "Train",
          "Train",
          "Train",
          "Train",
          "Train",
          "Train",
          "Train",
          "Train",
          "Train",
          "Train",
          "Train",
          "Train",
          "Train",
          "Train",
          "Train",
          "Train",
          "Train",
          "Train",
          "Train",
          "Train",
          "Train",
          "Train",
          "Train",
          "Train",
          "Train",
          "Train",
          "Train",
          "Train",
          "Train",
          "Train",
          "Train",
          "Train",
          "Train",
          "Train",
          "Train",
          "Train",
          "Train",
          "Train",
          "Train",
          "Train",
          "Train",
          "Train",
          "Train",
          "Train",
          "Train",
          "Train",
          "Train",
          "Train",
          "Train",
          "Train",
          "Train",
          "Train",
          "Train",
          "Train",
          "Train",
          "Train",
          "Train",
          "Train",
          "Train",
          "Train",
          "Train",
          "Train",
          "Train",
          "Train",
          "Train",
          "Train",
          "Train",
          "Train",
          "Train",
          "Train",
          "Train",
          "Train",
          "Train",
          "Train",
          "Train",
          "Train",
          "Train",
          "Train",
          "Train",
          "Train",
          "Train",
          "Train",
          "Train",
          "Train",
          "Train",
          "Train",
          "Train",
          "Train",
          "Train",
          "Train",
          "Train",
          "Train",
          "Train",
          "Train",
          "Train",
          "Train",
          "Train",
          "Train",
          "Train",
          "Train",
          "Train",
          "Train",
          "Train",
          "Train",
          "Train",
          "Train",
          "Train",
          "Train",
          "Train",
          "Train",
          "Train",
          "Train",
          "Train",
          "Train",
          "Train",
          "Train",
          "Train",
          "Train",
          "Train",
          "Train",
          "Train",
          "Train",
          "Train",
          "Train",
          "Train",
          "Train",
          "Train",
          "Train",
          "Train",
          "Train",
          "Train",
          "Train",
          "Train",
          "Train",
          "Train",
          "Train",
          "Train",
          "Train",
          "Train",
          "Train",
          "Train",
          "Train",
          "Train",
          "Train",
          "Train",
          "Train",
          "Train",
          "Train",
          "Train",
          "Train",
          "Train",
          "Train",
          "Train",
          "Train",
          "Train",
          "Train",
          "Train",
          "Train",
          "Train",
          "Train",
          "Train",
          "Train",
          "Train",
          "Train",
          "Train",
          "Train",
          "Train",
          "Train",
          "Train",
          "Train",
          "Train",
          "Train",
          "Train",
          "Train",
          "Train",
          "Train",
          "Train",
          "Train",
          "Train",
          "Train",
          "Train",
          "Train",
          "Train",
          "Train",
          "Train",
          "Train",
          "Train",
          "Train",
          "Train",
          "Train",
          "Train",
          "Train",
          "Train",
          "Train",
          "Train",
          "Train",
          "Train",
          "Train",
          "Train",
          "Train",
          "Train",
          "Train"
         ],
         "legendgroup": "Train",
         "marker": {
          "color": "#00008b",
          "line": {
           "color": "DarkSlateGrey",
           "width": 1
          },
          "opacity": 0.4,
          "size": 8,
          "symbol": "circle"
         },
         "mode": "markers",
         "name": "Train",
         "orientation": "v",
         "showlegend": true,
         "type": "scatter",
         "uid": "f2c904b3-797d-4565-a928-114eed5fa5ff",
         "x": {
          "dtype": "float32",
          "shape": [
           250
          ]
         },
         "xaxis": "x",
         "y": {
          "dtype": "float32",
          "shape": [
           250
          ]
         },
         "yaxis": "y"
        },
        {
         "customdata": [
          [
           "anger",
           "My roommate: it's okay that we can't spell because we have<br>autocorrect. #terrible #firstworldprobs"
          ],
          [
           "optimism",
           "Love is when all your happiness and all your sadness and all<br>your feelings are dependent on another person."
          ],
          [
           "happiness",
           "@user @user wow. not heard this in forever. Random but.<br>great #sting #xph"
          ],
          [
           "happiness",
           "On the bright side, my music theory teacher just pocket<br>dabbed and said, 'I know what's hip.' And walked away 😂😭"
          ],
          [
           "anger",
           "@user I assure you there is no laughter, but increasing<br>anger at the costs, and arrogance of Westminster."
          ],
          [
           "sadness",
           "i'm... nervous about this test rip"
          ],
          [
           "sadness",
           "Wow... One of my dads top favorite throwback rappers just<br>died in a fiery car crash today in Atlanta, so sad so sad<br>😷😷"
          ],
          [
           "sadness",
           "and I'm up from a dream where I said something really<br>retarded on twitter and it got like 10000 retweets<br>#nightmare"
          ],
          [
           "happiness",
           "@user people have so much negativity filled inside them but<br>im always happy that in such a gloomy world someone like u<br>exists Namjoon"
          ],
          [
           "happiness",
           "When something makes you excited, terrified, thrilled,<br>nervous, elated &amp; like you've been kicked in the guts<br>all at once. Need word for that"
          ],
          [
           "optimism",
           "Carry on my wayward son, there'll be peace when you are<br>done. Lay your weary head to rest. Don't you cry no more.<br>#Supernatural"
          ],
          [
           "anger",
           "Did we miss the fact that #BurkeRamsey swung &amp;hit his<br>sister #JonBenet in the face with a golf club previously out<br>of a fit of ?"
          ],
          [
           "optimism",
           "If you think you're good to go already, don't worry about<br>it."
          ],
          [
           "happiness",
           "As I remember and reflect on Reginald Denny on a night much<br>like this (like #Charlotte) I think to myself, the gun lobby<br>must be rejoicing."
          ],
          [
           "optimism",
           "You can't fight the elephants until you have wrestled the<br>pigs. #quoteoftheday"
          ],
          [
           "sadness",
           "@user awe man, when are you free then? ☹️️☹️️☹️️💘💘💘"
          ],
          [
           "anger",
           "A country that gave safe house to #Osama Bin #Laden is<br>dangerous if not contained. #Pakistan is a #terror heaven,<br>declare so @user"
          ],
          [
           "sadness",
           "@user Very thought provoking &amp; leads one to question<br>what really happened.Very sad for all."
          ],
          [
           "happiness",
           "Happy Birthday @user  #cheerchick #jeep #jeepgirl #IDriveAJe-<br>ep #jeepjeep #Cheer"
          ],
          [
           "sadness",
           "two major banking stocks down almost 15 to 20 % from their<br>highs while benchmarks still close to top it is a sure<br>#worry for markets"
          ],
          [
           "anger",
           "How hard is it to get in touch with @user One simple<br>question I can't find answer to on website and 1 hour<br>waiting for online chat"
          ],
          [
           "sadness",
           "I mourn the creativity lost."
          ],
          [
           "happiness",
           "Professor: introduce yourselves and say one interesting<br>fact\\n\\nHi I'm Ethan and the Sun will engulf our planet in a<br>fiery explosion one day"
          ],
          [
           "anger",
           "@user haha! She did well today. I can't get beyond her pout<br>annoying me I'm afraid."
          ],
          [
           "sadness",
           "I just want to be in Canada rn 😭 awe"
          ],
          [
           "happiness",
           "@user  cheering for @user and @user"
          ],
          [
           "sadness",
           "#BB18 Michelle crying  again #shocking #bitter He's  just<br>not that into you 😢#TeamNicole"
          ],
          [
           "optimism",
           "Step out of your comfort zone. \\nGo for risks.\\nFace things<br>you fear. \\n\\nThis is when life starts to happen.\\n\\n#cpd"
          ],
          [
           "sadness",
           "@user Wow, did you get a really good buy on a bunch of '70's<br>movies? There were bad then and are worse now! #awful"
          ],
          [
           "happiness",
           "Yo there's a kid on my snap chat from LA &amp; they get high<br>off helium gas lmao.... I am like why the fuck lol"
          ],
          [
           "sadness",
           "@user Really sad &amp; surprising. 1 side #Russia fighting<br>against #IS &amp; on the other supporting #Pak which is epic<br>centre 4"
          ],
          [
           "sadness",
           "So @user those of us born in 85 have no generation! Where is<br>the gen-less tribe! Ha! #survivor #lost soles"
          ],
          [
           "anger",
           "It is too fucking bright &amp; too fucking hot outside"
          ],
          [
           "anger",
           "Their engine runs on fuel called whining :-)\\n\\nU jst  hv 2b<br>observant..\\nHar din Rona dhona &amp; complain. \\nHappy news<br>makes them unhappy :-)"
          ],
          [
           "optimism",
           "@user thank u so much! we just finished another #mindfulness<br>film called #release about #anxiety - plz share!"
          ],
          [
           "anger",
           "@user @user It's no secret: personal dislike of Trump &amp;<br>animosity has always been present..now magnified with<br>bigotry/racism etc."
          ],
          [
           "anger",
           "@user  #UNGA no talks should be carried out with Pakistan<br>now ... His mouth stinks of #terrorism #UriAttack"
          ],
          [
           "happiness",
           "@user lmao! I can only imagine the frown across that face of<br>yours. #Hilarity"
          ],
          [
           "optimism",
           "@user I know if I wasn't an optimist I would despair."
          ],
          [
           "sadness",
           "We express our deep concern about the suspension of   @user <br>please reactivate it. he never violated T.roles @user"
          ],
          [
           "anger",
           "Candice's pout gets more preposterous by the week. This week<br>it's gone a bit Jack Nicholson's Joker. #GBBO"
          ],
          [
           "anger",
           "Projection is perception. See it in someone else? You also<br>at some level have that within you. #anger #worry"
          ],
          [
           "anger",
           "@user Think about it if he need white peoples votes wouldn't<br>just reach out about things that only concern them &amp;<br>leave out rest?"
          ],
          [
           "sadness",
           "I know this is going to be one of those nights where it<br>takes an Act of God to fall asleep.  #restless"
          ],
          [
           "anger",
           "#NawazSharif says lets end #terror. Sure, let #IndianArmedFo-<br>rces target the bases without #Pakistan interference<br>#Karma?"
          ],
          [
           "sadness",
           "how maybe it was with you and your parents..that I would<br>understand you and your fear of indifference from your own<br>mom and dad.."
          ],
          [
           "sadness",
           "my school photo is honestly horrid, i look so ew😅"
          ],
          [
           "optimism",
           "a #monster is only a #monster if you view him through #fear"
          ],
          [
           "sadness",
           "The whole idea f a nation revolves around Kashmir &amp;<br>global terrorism: evrn don't care their kids dying of<br>hunger. #NawazFightsForKashmir"
          ],
          [
           "anger",
           "The Apocalypse has hit our gym and it's  nothing what I<br>thought it would be...\\n\\nEveryone is wearing vests! What if<br>it's contagious?"
          ],
          [
           "anger",
           ".@RepDelBene: 'Today's proceedings and the entire process is<br>an insult to our constituents.'"
          ],
          [
           "anger",
           "@user first you take the room now you wanna beat me up<br>#bully"
          ],
          [
           "happiness",
           "@user @user @user I still can't get jimmy garoppolo out of<br>my head and it's been almost 3 weeks. Thanks a lot!<br>#hilarious"
          ],
          [
           "anger",
           "Americans as a whole are, for the most part, feeling<br>borderline despair at the very least. Looking at a situation<br>out of control."
          ],
          [
           "anger",
           "Why does #terrorism exist in the first place? #AskTrumpOneQu-<br>estion"
          ],
          [
           "anger",
           "@user oh so that's where Brian was! Where was my invite?<br>#offended"
          ],
          [
           "anger",
           "Me: *sees incense burner* is this for drugs?"
          ],
          [
           "anger",
           "there are magpies gathering around me help I'm going to be<br>swooped ! #terrorism"
          ],
          [
           "sadness",
           "Light of day per heyday popularization backfire cinematograp-<br>hy: XUcQb"
          ],
          [
           "sadness",
           "@user but sadly he missed some crucial and important points.<br>Indian terrorism in pk,  kal Boshan,  etc..  Raw involvemen-<br>t"
          ],
          [
           "optimism",
           "Accept the challenges so that you can feel the exhilaration<br>of victory.' - George S. Patton"
          ],
          [
           "sadness",
           "life is hard., its harder if ur stupid #life #love #sadness<br>#sadderness #moreofsad #howdoestears #whatislife"
          ],
          [
           "sadness",
           "The smell of freshly cut grass didn't even cheer me up...boy<br>oh boy"
          ],
          [
           "anger",
           "@user @user I need it today! Do u know how many fuckin<br>French plaits I had to do this morn with a stroppy 9 yr<br>old!"
          ],
          [
           "anger",
           "Pro Tip: Go back to work when your kid reaches 20 mos old. <br>Stay home any longer, and you'll be absolutely miserable<br>with the #tantrums."
          ],
          [
           "sadness",
           "What terrible thing to see and have no vision-\\n\\nHelen<br>Keller-\\n\\n-Begin with the end in mind-\\n\\nStephen<br>Covey-\\n\\n #whereareugoing"
          ],
          [
           "happiness",
           "second episode of AHS 6 here i go"
          ],
          [
           "anger",
           "Just joined #pottermore and was sorted into HUFFLEPUFF 😡😡😡<br>#fuming"
          ],
          [
           "optimism",
           "@user i know i don't know u, but physiatrists are seriously<br>the number one best thing for people with anxiety."
          ],
          [
           "happiness",
           "Literally dying &amp; living at the same time as I catch up<br>on @user 's twitter. If you aren't following him your life<br>is BASIC. #hilarity"
          ],
          [
           "anger",
           "@user can be as indignant as he wants but the world knows<br>Obama will do nothing and Putin will just do what he wants<br>#Aleppo #Syria"
          ],
          [
           "sadness",
           "There goes the butterflies in my stomach.  #anxietyproblems"
          ],
          [
           "anger",
           "@user What if the supposed animosity is all bullshit to con<br>the Iranians?"
          ],
          [
           "sadness",
           "@user im pretty sure cause ever since saturday ive just been<br>super sad lol"
          ],
          [
           "happiness",
           "Tweeting from the sporadic wifi on the tube"
          ],
          [
           "optimism",
           "Never fear the want of business. A man who qualifies himself<br>well for his calling, never fails of employment."
          ],
          [
           "anger",
           "@user  The solution is to punish the criminals. That's the<br>only way to discourage crime. or the circle will continue."
          ],
          [
           "sadness",
           "I don't think I can go to work tomorrow since val has left<br>#GBBO I need a day to mourn"
          ],
          [
           "anger",
           "Trump supports reach another level of irritation within me"
          ],
          [
           "anger",
           "@user @user @user @user so you were owned by losers on<br>Twitter"
          ],
          [
           "anger",
           "@user @user like going to a so called cardiac arrest that<br>turned out to be a cut finger! #fuming #medchat"
          ],
          [
           "anger",
           "@user I don't read articles by people who rage about how<br>horrible 'Cybernats' are. Got it?"
          ],
          [
           "anger",
           "Like he really just fucking asked me that."
          ],
          [
           "anger",
           "@user I've contacted @user @user  #service #whathappenedtocu-<br>stomerservice"
          ],
          [
           "sadness",
           "A night where depression is winning... #depression #fml<br>#help"
          ],
          [
           "anger",
           "@user timid but determined version of the rabid beasts<br>beyond the land. Growling beneath my restrained breath, I<br>//rip// myself --"
          ],
          [
           "sadness",
           "Back in Cardiff after an amazing 10 days away 😭 #depressing"
          ],
          [
           "happiness",
           "At 12:01, Tumblr became sentient. At 1.:02, Tumblr posted gn<br>animated gif about it. At 12:03, Tumblr shipped itself."
          ],
          [
           "happiness",
           "Nutella is pine green forget me nots are ivory frozen is<br>god"
          ],
          [
           "sadness",
           "Feeling worthless as always"
          ],
          [
           "happiness",
           "@user AWH tiff you're such a great friend I love you :((<br>thank you"
          ],
          [
           "optimism",
           "A good head and a good heart are always a formidable<br>combination.' - Nelson Mandela"
          ],
          [
           "anger",
           "Rt @user i need that one back, that whole cd was hard, the<br>one with a #rage flew through, rhyme flow, n the 1 u speak<br>on the dollar"
          ],
          [
           "sadness",
           "@user why? Do you have depression?"
          ],
          [
           "sadness",
           "Most days, I don't know what my heart beats for. #depressio-<br>n"
          ],
          [
           "happiness",
           "Got to be up in 4 hours to go back to work #cantsleep<br>#excited"
          ],
          [
           "sadness",
           "It's just the lack of company and liveliness out here that<br>makes me bored."
          ],
          [
           "sadness",
           "life is hard., its harder if ur stupid #life #love <br>#sadderness #moreofsad #howdoestears #whatislife"
          ],
          [
           "anger",
           "Having a nail half hanging off is absolutely fucking grim,<br>even with my acrylic holding it on 😷😷"
          ],
          [
           "anger",
           "@user @user Yeah, it was sooo horrific, I needed to sit<br>down"
          ],
          [
           "anger",
           "Michelle is one of the worst players in bb history #bb18<br>#bbfinale"
          ],
          [
           "anger",
           "@user - frustration, looking up at Elphaba in a frown of<br>aggravation. Her high pitched voice was growing more and<br>more --"
          ],
          [
           "happiness",
           "@user \\nWho nose where those scent roses went\\nTo a spot in<br>the Orient\\nMummified\\nIn rapeseed oil fried\\nEating<br>drinking &amp; merriment."
          ],
          [
           "optimism",
           "630am meeting Olympic House #10golds24 .  #relentless<br>#neverquit #believe #dreambig #TeamTTO #going4gold"
          ],
          [
           "sadness",
           "Fewer and fewer good horror offerings from Hollywood every<br>year. Or have I just gotten too old for this shit?"
          ],
          [
           "sadness",
           "i is sad"
          ],
          [
           "happiness",
           "@user the bantz are absolutely top notch, inconsolable I was<br>when I realised"
          ],
          [
           "optimism",
           "Everywhere I go, the air I breathe in tastes like home.' -<br>@user"
          ],
          [
           "sadness",
           "where broken hearted lovers do cry away their gloom"
          ],
          [
           "anger",
           "@user impossible to say. We can only hope that I don’t<br>unwittingly trigger her ferocious side again. Hell hath no<br>fury.."
          ],
          [
           "anger",
           "@user @user he has BAD TEMPERAMENT #tantrums #HissyFits"
          ],
          [
           "sadness",
           "I'm so old next Friday. So super old😩💔 I dread birthdays"
          ],
          [
           "optimism",
           "Avoiding #fears only makes them scarier. Whatever your<br>#fear, if you face it, it should start to fade. #courage"
          ],
          [
           "anger",
           "@user @user fingers of fury!"
          ],
          [
           "anger",
           "Hey @user why can I only see 15 sent emails? Where's the<br>thousands gone?"
          ],
          [
           "happiness",
           "last nigt i dreamt \\nthat somebody loved me\\nno hope no<br>harm\\njust another false alarm"
          ],
          [
           "optimism",
           "I want my highlight to be so bright that if I ever get lost<br>and someone is looking for me in the dark, they'll find me."
          ],
          [
           "optimism",
           "It's about time I start taking my own advice"
          ],
          [
           "anger",
           "Traditionalists say it should be bored by or bored with, but<br>not bored of, a 'rule' cheerfully ignored"
          ],
          [
           "anger",
           "That way ur so angry you can literally feel ur blood<br>boiling"
          ],
          [
           "happiness",
           "Twitter is a font of endless hilarity."
          ],
          [
           "anger",
           "When someone tells you they're going to 'tear you apart' and<br>all they have to say is 'why are you so tall?' #shocking"
          ],
          [
           "anger",
           "@user @user fuming"
          ],
          [
           "sadness",
           "Just Laying Here, Can't Sleep 4 Some Reason #restless"
          ],
          [
           "happiness",
           "We stayed up all night long\\nMade our drinks too strong\\nFee-<br>ling ten feet tall\\nRopes swinging into the water\\nIn the<br>middle of the night"
          ],
          [
           "happiness",
           "Queen Bey will be smiling over sixth this afternoon"
          ],
          [
           "anger",
           "@user We should be ignoring these rioters like the current<br>administration ignores #terrorism. This will obviously make<br>it stop."
          ],
          [
           "anger",
           "ethan was with someone in the car when he did his revenge on<br>grayson"
          ],
          [
           "anger",
           "@user @user @user @user @user terrorist attack and terrorism<br>already exists in the history of islam."
          ],
          [
           "sadness",
           "@user @user included for maximum #sadness"
          ],
          [
           "happiness",
           "Dad asked if I was too hungover to function today. Little<br>does he know I stayed sober last night so i could get shit<br>faced tonight 😅"
          ],
          [
           "optimism",
           "Hope was an instinct only the reasoning human mind could<br>kill. An animal never knew despair."
          ],
          [
           "happiness",
           "Sharpened a pencil today, haven't sharpened once since 1999.<br>✏️ #exhilarating"
          ],
          [
           "happiness",
           "her fingers slide along your thighs, caressing the skin<br>before she's leaning down, down, down and the first lick is<br>teasing n playful."
          ],
          [
           "anger",
           "why are people so angry toward veggie burgers at in n out<br>wtf"
          ],
          [
           "happiness",
           "Hi guys! I now do lessons via Skype! Contact me for more<br>info. #skype #lesson #basslessons #teacher #free lesson<br>#music #groove #rock #blues"
          ],
          [
           "anger",
           "@user Virtually every statement by other countries at #UN<br>has referred to #terror as main threat to peace, #Pak still<br>in denial."
          ],
          [
           "anger",
           "@user Madrid is playing awful and no modric but 90 minutes<br>in Bernabéu stadium are so so long. Viallreal never won<br>there"
          ],
          [
           "sadness",
           "It'd probably be useful to more than women, but I'm dealing<br>with re-reading an article about a woman being harassed on<br>the subway."
          ],
          [
           "happiness",
           "I watch Amyah throw temper tantrums when she gets mad at<br>something and I'm just like damnit that is me and I can't do<br>nothing but laugh 😅"
          ],
          [
           "sadness",
           "@user my heart just sunk."
          ],
          [
           "happiness",
           "Historically Japanese have always been into #jazz and<br>#blues. The 70s dark age of jazz big names like C.C. &amp;<br>M.D. were surviving on Tokyo."
          ],
          [
           "anger",
           "A Lysol can got stuck in spray position and we're all slowly<br>suffocating from the trash can that smells like a Febreeze<br>factory."
          ],
          [
           "optimism",
           "@user door and cleared his throat, trying to dispel any<br>nervousness he had left."
          ],
          [
           "optimism",
           "The ecosystem is meant to break thru the wall of #apprehensi-<br>on. It's easy to follow a fave music star &amp; watch their<br>goings on–but #dentists?"
          ],
          [
           "happiness",
           "Dark, dense, and exhilarating come the finale, #HellOrHighWa-<br>ter is a gripping watch."
          ],
          [
           "anger",
           "Just had to reverse half way up the woods to collect the dog<br>n I've never even reverse parked in my life 🙄"
          ],
          [
           "anger",
           "So fucking mad my blood boiling."
          ],
          [
           "anger",
           "@user They wanna bully the Inhuman."
          ],
          [
           "anger",
           "A black female LEO💙 was shot 8 times and died in Philadelphi-<br>a --Where's the #outrage black people? @user #Sharpton #blm<br>#TheFive"
          ],
          [
           "optimism",
           "@user otherwise you're committing a crime against your soul<br>only sober ppl know what is good or bad for themselves"
          ],
          [
           "optimism",
           "World wants #peace from #terrorism #WorldPeaceDay #internati-<br>onaldayofpeace"
          ],
          [
           "happiness",
           "I found #marmite in Australia. `:)"
          ],
          [
           "happiness",
           "Miami proficiency is like pleasing by what name miami<br>beaches: pIkxb"
          ],
          [
           "anger",
           "#GADOT please put a left turn signal at Williams and Ivan<br>Allen Jr Blvd. This is absolutely ridiculous #ATLtraffic<br>#horrible"
          ],
          [
           "sadness",
           "Police: Atlanta rapper Shawty Lo killed in fiery car crash"
          ],
          [
           "optimism",
           "Are you #serious that #fredsirieix lives in Peckham......Sou-<br>th London's own #Love Guru(big up)"
          ],
          [
           "anger",
           ".\\nWe express our deep concern about the suspension of  <br>\\n@MohammedSomaa01  please reactivate it. he never violated<br>T.roles @user"
          ],
          [
           "anger",
           "@user i'm actually offended by it.  naming the most<br>fattening sandwich after a man who died of coronary disease<br>likely due to his diet?"
          ],
          [
           "optimism",
           "Blessed are those who mourn, for they will be comforted \\n  <br>Mt 5:4"
          ],
          [
           "anger",
           "Candice's pout is gonna take someone eye out mate! #GBBO"
          ],
          [
           "happiness",
           "Season 3 of penny dreadful is on Netflix...well my afternoon<br>is filled"
          ],
          [
           "optimism",
           "You have to find a way to top yourself."
          ],
          [
           "optimism",
           "Inner conflict happens when we are at odds with ourselves.<br>Honor your values and priorities.  #innerconflict #conflict<br>#values"
          ],
          [
           "anger",
           "@user  pls dont insult the word 'Molna'"
          ],
          [
           "optimism",
           "$100 says Teufel is 'reassigned' within the organization<br>before next year, but I wish it was sooner... #Mets<br>#thirdbasecoach  #lgm"
          ],
          [
           "sadness",
           "Imagine celtic burst the net wae every attempt, but nutt<br>same old dain it hard way usual"
          ],
          [
           "anger",
           "i am revolting."
          ],
          [
           "happiness",
           "I love swimming for the same reason I love meditating...the<br>feeling of weightlessness."
          ],
          [
           "happiness",
           "@user happy birthday machaaaa 🎈🎉🎊 stay awesome and murah<br>rezeki selalu 👍🏻"
          ],
          [
           "optimism",
           "“Let us not become weary in doing good, for at the proper<br>time we will reap a harvest if we do not give up.”\\nGalatian-<br>s 6:9 NIV"
          ],
          [
           "happiness",
           "🔝 #love #instagood #photooftheday @user #photoeveryday #cute<br>#picture #beautiful #followme #happy #follow #fashion #pic<br>#picoftheday"
          ],
          [
           "sadness",
           "watching that video and realizing that I've gotten uglier<br>#depressed"
          ],
          [
           "sadness",
           "I hung up on my manager last night 😭"
          ],
          [
           "optimism",
           "@user Although I have a nice vulva, I choose not to<br>intimidate other women with it."
          ],
          [
           "anger",
           "Just know USA, all Canadians don't agree with what Khadr's<br>settlement and his unwillingness to take responsibility for<br>his actions. #outrage"
          ],
          [
           "sadness",
           "and every time i cry hard, fear blankets me"
          ],
          [
           "anger",
           "@user @user @user You need a new tactic post-Trump/Brexit.<br>Hurling that insult around no longer works I'm afraid."
          ],
          [
           "anger",
           "this one lady literally parked next to me and scared the<br>shit out of me 🙃"
          ],
          [
           "sadness",
           "Every day I dread doing an 8 hour shift in retail 🙂"
          ],
          [
           "sadness",
           "#AmarnathTerrorAttack @user @user cn u plz ans wt u r afrd<br>of or wt stpng u to end #terrorism wn whol #India is stndng<br>wth u"
          ],
          [
           "anger",
           "Thousands of pickled dunder-headed anthracites ! #furious"
          ],
          [
           "sadness",
           "I dreamt that my dog, Snoopy, came back to life. Man I miss<br>that dog 🙁"
          ],
          [
           "happiness",
           "#note8 #animated said pen. Amazing. Wife loves this one"
          ],
          [
           "sadness",
           "My main concern are the children and his wife thats if she<br>is still stuck with him and if she is, then she's strong af.<br>Jeez 😟"
          ],
          [
           "happiness",
           "I finally got my drivers permit #yes #readytodrive #nervous<br>#scared"
          ],
          [
           "optimism",
           "@user use the F word as much as you need to. People may<br>start to listen. :)"
          ],
          [
           "anger",
           "blood rage"
          ],
          [
           "anger",
           "Dirty Den returns, bursting forth from his grave to deliver<br>a horrible vengeance."
          ],
          [
           "optimism",
           "You won't find #excuses if you seek #optimism. #realtalk"
          ],
          [
           "happiness",
           "Me: How much price for this poster of this sexy man? Sales<br>Clerk: That's a mirror, sir.\\n #LaughOutLoud"
          ],
          [
           "sadness",
           "And now that Im having the other way around, i feel so upset<br>and sad"
          ],
          [
           "happiness",
           "He is very playful and can hardly stay in one spot."
          ],
          [
           "happiness",
           "@user #awesome news for the blues"
          ],
          [
           "sadness",
           "although I laugh and I act like a clown beneath this mask I<br>am wearing a frown my tears are falling like rain from the<br>sky"
          ],
          [
           "happiness",
           "@user &amp; @user THANK YOU for the retweets. Much<br>#appreciated!!! #horror #monsters #MonsterBrawl @user"
          ],
          [
           "anger",
           "We cannot let @user #bully any #indiedev into paying them<br>for a 'faster lane'. Most indie devs don't have these funds.<br>But @user does!"
          ],
          [
           "happiness",
           "@user 'I spent so looking want to look like a Kardashian I<br>don't give even give a f**k it's the dad'😂😂😂😂 omfg😂😭😭😂<br>#hilarious"
          ],
          [
           "happiness",
           "Shall rest by day, a fiery gleam by night;"
          ],
          [
           "anger",
           "on July 13th,1989 in #Vienna , #Ghassemlou &amp; his fellows<br>was #terror by the agents of the #Iranian regime\\n#Iran<br>#Terrorism \\n#twitterkurds"
          ],
          [
           "happiness",
           "Thx @user for hosting us @user ❤️ my boys @user @user @user<br>😍 #great #nite"
          ],
          [
           "anger",
           "The second type of #anger is named 'settled and deliberate'<br>and is a reaction to perceived deliberate harm or unfair<br>treatment by others."
          ],
          [
           "sadness",
           "Thought It was a joke so sad anyway #biwott"
          ],
          [
           "happiness",
           "Horny. Anyone? #horny #bi #sex #london #snapchat #gaysnap<br>#hornysnap #snapchatgay #snapchathorny #gaysnapchat<br>#hornysnapchat #snapgay #snap"
          ],
          [
           "happiness",
           "Frick! @user is hilarious! Lovin his portrayal of a rancher<br>picking up feed bags &amp; climbing over the panel! 😂😂<br>#peedalittle #laugh"
          ],
          [
           "anger",
           "@user leave it kanna. same thing happened after Uri too.<br>outrage and outrage until Sept 30. anyways re.. will be out<br>today too."
          ],
          [
           "optimism",
           "There is much in the world to make us #afraid. There is much<br>more in our faith to make us #unafraid."
          ],
          [
           "sadness",
           "@user The little details in life can build up to things that<br>could affect you negatively and eventually make unhappy and<br>lonely."
          ],
          [
           "anger",
           "what does one do with all the bitterness + anger of lack of<br>job security, esp. when one has no obvious manoeuvres to<br>remedy the situation"
          ],
          [
           "anger",
           "Rage, rage against the dying of the light"
          ],
          [
           "anger",
           "@user it's awful!"
          ],
          [
           "happiness",
           "Daughter, her husband and kids caught a boatload of red<br>snapper &amp; mackerel off Port Aransas... we enjoyed the<br>#fish feast #delicious"
          ],
          [
           "anger",
           "I respect facebook and them killing Snapchat. If you can't<br>buy em, beat em #fb"
          ],
          [
           "sadness",
           "@user what are the current statistics concerning 'backdoor<br>abortions'. If alarming, what preemptive measures are in<br>place?"
          ],
          [
           "anger",
           "@user #shows how #irritated @user #brandkrk is #feeling for<br>his #community #brothers! So #Helpless 🙈🙈🙈 #ShameOnBhakts"
          ],
          [
           "happiness",
           "@user Im terrific thanks.\\nI hope you managed to get even if<br>it's just 40 winks of 😴. It was a crushing defeat. He was so<br>dejected"
          ],
          [
           "sadness",
           "I keep getting so worried about the amount of plastic that<br>gets thrown away atm as if I didn't panic enough about the<br>environment already :)"
          ],
          [
           "happiness",
           "@user I'd just whip up a cake batter or cookies &amp; throw<br>it in 😀 bakewell, frangipani is made with almonds"
          ],
          [
           "happiness",
           "I thought he cried over some of his relative death or<br>something but when i know the truth . I just wanna burst out<br>😂"
          ],
          [
           "happiness",
           "@user @user Billy Joel is in huge danger, he's so brave<br>#inspiring"
          ],
          [
           "anger",
           "@user Humanist &amp; sailor!? 😂😂😂😂😂😂😂😂  You forgot to add<br>big time loser! #arsehole 🇬🇧"
          ],
          [
           "sadness",
           "School duties. 😧 good night ppl"
          ],
          [
           "sadness",
           "@user Then dont disappoint them 😂"
          ],
          [
           "sadness",
           "@user Always saddens me when marriage doesn't work. It's<br>never helps when people get involved and start twisting<br>things too.."
          ],
          [
           "happiness",
           "Happy bday @user . You legit the big sister I never had 😌<br>have an amazing day dude 🙏🏽"
          ],
          [
           "optimism",
           "'First they #ignore you , then they #laugh at you , then<br>they #fight you , then you #win' #Gandhi"
          ],
          [
           "sadness",
           "Majka didn't start  :("
          ],
          [
           "anger",
           "Trump's a Magician.\\nBut the Prestige keeps being NOTHINGBUR-<br>GERS AGAIN\\nAnd the idiots keep foaming at the mouth in<br>packs over it.."
          ],
          [
           "sadness",
           "It's not length, it's A #gnawing #sense of #dread."
          ],
          [
           "anger",
           "#MiamiBryce asks Buck about Dak Prescott live during ASG.<br>And DC sports talk radio producers get to take the rest of<br>the night off. #outrage"
          ],
          [
           "anger",
           "@user @user Where's the picture? 😰"
          ],
          [
           "sadness",
           "Once she said you are my world, now she is saying not only<br>you exist in the earth. #pain  #heartbreaking"
          ],
          [
           "optimism",
           "Never stay silent or let anyone intimidate you into silence.<br>Lets make the world a better, safer place for kids<br>#wallofsilence"
          ],
          [
           "anger",
           "Why is an alarm clock going 'off' when it actually turns on?<br>#alarm #alarmclock #ThursdayThoughts"
          ],
          [
           "optimism",
           "@user Indeed 😲\\nAlways a #worry for our #homeland #Gibraltar<br>#Spain \\n#Tale or #foretelling #future\\n#great #short<br>#story"
          ],
          [
           "anger",
           "@user Sir, people need revenge"
          ],
          [
           "sadness",
           "@user This thread is a bunch of Putin lovers rejoicing over<br>a video posted by Iranian state television. Sad!"
          ],
          [
           "sadness",
           "Been so active these days. That now that I have a day off, I<br>am soooo restless. :P Haven't been restless in months."
          ],
          [
           "anger",
           "Article 370 must be abolished. Human rights must be denied<br>to these NGOs, Separatist n terrorists who advocate peace n<br>terrorism. @user"
          ],
          [
           "anger",
           "@user Muslims r justifying terror attacks on Hindus citing<br>babri, but who is hurting Hindu sentiments time and again by<br>killing cows?"
          ],
          [
           "anger",
           "@user just because you married money doesn't mean you have<br>class it just means you are a high prices prostitute. <br>#adorable"
          ],
          [
           "sadness",
           "@user This isn't about the UK government, sadly: reading<br>what I can of the article, it's coverage of the Irish law<br>review."
          ],
          [
           "anger",
           "Feeling full of existential dread? Bash mass surveillance 🌱"
          ],
          [
           "sadness",
           "@user Sorry to burst your bubble, but opposition research is<br>part of every political campaign.  Doesn't matter where it<br>comes from."
          ],
          [
           "sadness",
           "Would love to stop crying sometime today, on my tenth cry 🙄<br>deep sadness on top of food poisoning do not mix. #miserabl-<br>e"
          ],
          [
           "anger",
           "Few things more frustrating that organisations who don't<br>have media contact numbers and request you 'fill out our<br>online form' #rage"
          ],
          [
           "anger",
           "Grumpy AF today #badsleep  #grumpy"
          ],
          [
           "sadness",
           "I don't know how much longer I can play stupid 😒😔 #heartbrok-<br>en #stupid #sadness"
          ],
          [
           "happiness",
           "Cool and dreary in the orchard this morning. If you're a die<br>hard picker and still want to come out please dress<br>accordingly."
          ],
          [
           "happiness",
           "@user @user @user Well that's funny cause we all know she is<br>a serious Russian mafia atty"
          ]
         ],
         "hovertemplate": "<b>%{hovertext}</b><br><br>Dataset=Test<br>Reduced Embedding (0)=%{x}<br>Reduced Embedding (1)=%{y}<br>Label=%{customdata[0]}<br>Sample=%{customdata[1]}<extra></extra>",
         "hovertext": [
          "Test",
          "Test",
          "Test",
          "Test",
          "Test",
          "Test",
          "Test",
          "Test",
          "Test",
          "Test",
          "Test",
          "Test",
          "Test",
          "Test",
          "Test",
          "Test",
          "Test",
          "Test",
          "Test",
          "Test",
          "Test",
          "Test",
          "Test",
          "Test",
          "Test",
          "Test",
          "Test",
          "Test",
          "Test",
          "Test",
          "Test",
          "Test",
          "Test",
          "Test",
          "Test",
          "Test",
          "Test",
          "Test",
          "Test",
          "Test",
          "Test",
          "Test",
          "Test",
          "Test",
          "Test",
          "Test",
          "Test",
          "Test",
          "Test",
          "Test",
          "Test",
          "Test",
          "Test",
          "Test",
          "Test",
          "Test",
          "Test",
          "Test",
          "Test",
          "Test",
          "Test",
          "Test",
          "Test",
          "Test",
          "Test",
          "Test",
          "Test",
          "Test",
          "Test",
          "Test",
          "Test",
          "Test",
          "Test",
          "Test",
          "Test",
          "Test",
          "Test",
          "Test",
          "Test",
          "Test",
          "Test",
          "Test",
          "Test",
          "Test",
          "Test",
          "Test",
          "Test",
          "Test",
          "Test",
          "Test",
          "Test",
          "Test",
          "Test",
          "Test",
          "Test",
          "Test",
          "Test",
          "Test",
          "Test",
          "Test",
          "Test",
          "Test",
          "Test",
          "Test",
          "Test",
          "Test",
          "Test",
          "Test",
          "Test",
          "Test",
          "Test",
          "Test",
          "Test",
          "Test",
          "Test",
          "Test",
          "Test",
          "Test",
          "Test",
          "Test",
          "Test",
          "Test",
          "Test",
          "Test",
          "Test",
          "Test",
          "Test",
          "Test",
          "Test",
          "Test",
          "Test",
          "Test",
          "Test",
          "Test",
          "Test",
          "Test",
          "Test",
          "Test",
          "Test",
          "Test",
          "Test",
          "Test",
          "Test",
          "Test",
          "Test",
          "Test",
          "Test",
          "Test",
          "Test",
          "Test",
          "Test",
          "Test",
          "Test",
          "Test",
          "Test",
          "Test",
          "Test",
          "Test",
          "Test",
          "Test",
          "Test",
          "Test",
          "Test",
          "Test",
          "Test",
          "Test",
          "Test",
          "Test",
          "Test",
          "Test",
          "Test",
          "Test",
          "Test",
          "Test",
          "Test",
          "Test",
          "Test",
          "Test",
          "Test",
          "Test",
          "Test",
          "Test",
          "Test",
          "Test",
          "Test",
          "Test",
          "Test",
          "Test",
          "Test",
          "Test",
          "Test",
          "Test",
          "Test",
          "Test",
          "Test",
          "Test",
          "Test",
          "Test",
          "Test",
          "Test",
          "Test",
          "Test",
          "Test",
          "Test",
          "Test",
          "Test",
          "Test",
          "Test",
          "Test",
          "Test",
          "Test",
          "Test",
          "Test",
          "Test",
          "Test",
          "Test",
          "Test",
          "Test",
          "Test",
          "Test",
          "Test",
          "Test",
          "Test",
          "Test",
          "Test",
          "Test",
          "Test",
          "Test",
          "Test",
          "Test",
          "Test",
          "Test",
          "Test",
          "Test",
          "Test",
          "Test",
          "Test",
          "Test",
          "Test",
          "Test",
          "Test",
          "Test",
          "Test",
          "Test",
          "Test",
          "Test",
          "Test",
          "Test",
          "Test",
          "Test"
         ],
         "legendgroup": "Test",
         "marker": {
          "color": "#69b3a2",
          "line": {
           "color": "DarkSlateGrey",
           "width": 1
          },
          "opacity": 0.4,
          "size": 8,
          "symbol": "circle"
         },
         "mode": "markers",
         "name": "Test",
         "orientation": "v",
         "showlegend": true,
         "type": "scatter",
         "uid": "e827def3-0d9d-4ec8-80c2-14cc0e385518",
         "x": {
          "dtype": "float32",
          "shape": [
           250
          ]
         },
         "xaxis": "x",
         "y": {
          "dtype": "float32",
          "shape": [
           250
          ]
         },
         "yaxis": "y"
        }
       ],
       "_js2py_pointsCallback": {},
       "_js2py_relayout": {},
       "_js2py_restyle": {},
       "_js2py_update": {},
       "_layout": {
        "height": 600,
        "legend": {
         "title": {
          "text": "Dataset"
         },
         "tracegroupgap": 0
        },
        "template": {
         "data": {
          "bar": [
           {
            "error_x": {
             "color": "#2a3f5f"
            },
            "error_y": {
             "color": "#2a3f5f"
            },
            "marker": {
             "line": {
              "color": "#E5ECF6",
              "width": 0.5
             },
             "pattern": {
              "fillmode": "overlay",
              "size": 10,
              "solidity": 0.2
             }
            },
            "type": "bar"
           }
          ],
          "barpolar": [
           {
            "marker": {
             "line": {
              "color": "#E5ECF6",
              "width": 0.5
             },
             "pattern": {
              "fillmode": "overlay",
              "size": 10,
              "solidity": 0.2
             }
            },
            "type": "barpolar"
           }
          ],
          "carpet": [
           {
            "aaxis": {
             "endlinecolor": "#2a3f5f",
             "gridcolor": "white",
             "linecolor": "white",
             "minorgridcolor": "white",
             "startlinecolor": "#2a3f5f"
            },
            "baxis": {
             "endlinecolor": "#2a3f5f",
             "gridcolor": "white",
             "linecolor": "white",
             "minorgridcolor": "white",
             "startlinecolor": "#2a3f5f"
            },
            "type": "carpet"
           }
          ],
          "choropleth": [
           {
            "colorbar": {
             "outlinewidth": 0,
             "ticks": ""
            },
            "type": "choropleth"
           }
          ],
          "contour": [
           {
            "colorbar": {
             "outlinewidth": 0,
             "ticks": ""
            },
            "colorscale": [
             [
              0,
              "#0d0887"
             ],
             [
              0.1111111111111111,
              "#46039f"
             ],
             [
              0.2222222222222222,
              "#7201a8"
             ],
             [
              0.3333333333333333,
              "#9c179e"
             ],
             [
              0.4444444444444444,
              "#bd3786"
             ],
             [
              0.5555555555555556,
              "#d8576b"
             ],
             [
              0.6666666666666666,
              "#ed7953"
             ],
             [
              0.7777777777777778,
              "#fb9f3a"
             ],
             [
              0.8888888888888888,
              "#fdca26"
             ],
             [
              1,
              "#f0f921"
             ]
            ],
            "type": "contour"
           }
          ],
          "contourcarpet": [
           {
            "colorbar": {
             "outlinewidth": 0,
             "ticks": ""
            },
            "type": "contourcarpet"
           }
          ],
          "heatmap": [
           {
            "colorbar": {
             "outlinewidth": 0,
             "ticks": ""
            },
            "colorscale": [
             [
              0,
              "#0d0887"
             ],
             [
              0.1111111111111111,
              "#46039f"
             ],
             [
              0.2222222222222222,
              "#7201a8"
             ],
             [
              0.3333333333333333,
              "#9c179e"
             ],
             [
              0.4444444444444444,
              "#bd3786"
             ],
             [
              0.5555555555555556,
              "#d8576b"
             ],
             [
              0.6666666666666666,
              "#ed7953"
             ],
             [
              0.7777777777777778,
              "#fb9f3a"
             ],
             [
              0.8888888888888888,
              "#fdca26"
             ],
             [
              1,
              "#f0f921"
             ]
            ],
            "type": "heatmap"
           }
          ],
          "heatmapgl": [
           {
            "colorbar": {
             "outlinewidth": 0,
             "ticks": ""
            },
            "colorscale": [
             [
              0,
              "#0d0887"
             ],
             [
              0.1111111111111111,
              "#46039f"
             ],
             [
              0.2222222222222222,
              "#7201a8"
             ],
             [
              0.3333333333333333,
              "#9c179e"
             ],
             [
              0.4444444444444444,
              "#bd3786"
             ],
             [
              0.5555555555555556,
              "#d8576b"
             ],
             [
              0.6666666666666666,
              "#ed7953"
             ],
             [
              0.7777777777777778,
              "#fb9f3a"
             ],
             [
              0.8888888888888888,
              "#fdca26"
             ],
             [
              1,
              "#f0f921"
             ]
            ],
            "type": "heatmapgl"
           }
          ],
          "histogram": [
           {
            "marker": {
             "pattern": {
              "fillmode": "overlay",
              "size": 10,
              "solidity": 0.2
             }
            },
            "type": "histogram"
           }
          ],
          "histogram2d": [
           {
            "colorbar": {
             "outlinewidth": 0,
             "ticks": ""
            },
            "colorscale": [
             [
              0,
              "#0d0887"
             ],
             [
              0.1111111111111111,
              "#46039f"
             ],
             [
              0.2222222222222222,
              "#7201a8"
             ],
             [
              0.3333333333333333,
              "#9c179e"
             ],
             [
              0.4444444444444444,
              "#bd3786"
             ],
             [
              0.5555555555555556,
              "#d8576b"
             ],
             [
              0.6666666666666666,
              "#ed7953"
             ],
             [
              0.7777777777777778,
              "#fb9f3a"
             ],
             [
              0.8888888888888888,
              "#fdca26"
             ],
             [
              1,
              "#f0f921"
             ]
            ],
            "type": "histogram2d"
           }
          ],
          "histogram2dcontour": [
           {
            "colorbar": {
             "outlinewidth": 0,
             "ticks": ""
            },
            "colorscale": [
             [
              0,
              "#0d0887"
             ],
             [
              0.1111111111111111,
              "#46039f"
             ],
             [
              0.2222222222222222,
              "#7201a8"
             ],
             [
              0.3333333333333333,
              "#9c179e"
             ],
             [
              0.4444444444444444,
              "#bd3786"
             ],
             [
              0.5555555555555556,
              "#d8576b"
             ],
             [
              0.6666666666666666,
              "#ed7953"
             ],
             [
              0.7777777777777778,
              "#fb9f3a"
             ],
             [
              0.8888888888888888,
              "#fdca26"
             ],
             [
              1,
              "#f0f921"
             ]
            ],
            "type": "histogram2dcontour"
           }
          ],
          "mesh3d": [
           {
            "colorbar": {
             "outlinewidth": 0,
             "ticks": ""
            },
            "type": "mesh3d"
           }
          ],
          "parcoords": [
           {
            "line": {
             "colorbar": {
              "outlinewidth": 0,
              "ticks": ""
             }
            },
            "type": "parcoords"
           }
          ],
          "pie": [
           {
            "automargin": true,
            "type": "pie"
           }
          ],
          "scatter": [
           {
            "fillpattern": {
             "fillmode": "overlay",
             "size": 10,
             "solidity": 0.2
            },
            "type": "scatter"
           }
          ],
          "scatter3d": [
           {
            "line": {
             "colorbar": {
              "outlinewidth": 0,
              "ticks": ""
             }
            },
            "marker": {
             "colorbar": {
              "outlinewidth": 0,
              "ticks": ""
             }
            },
            "type": "scatter3d"
           }
          ],
          "scattercarpet": [
           {
            "marker": {
             "colorbar": {
              "outlinewidth": 0,
              "ticks": ""
             }
            },
            "type": "scattercarpet"
           }
          ],
          "scattergeo": [
           {
            "marker": {
             "colorbar": {
              "outlinewidth": 0,
              "ticks": ""
             }
            },
            "type": "scattergeo"
           }
          ],
          "scattergl": [
           {
            "marker": {
             "colorbar": {
              "outlinewidth": 0,
              "ticks": ""
             }
            },
            "type": "scattergl"
           }
          ],
          "scattermapbox": [
           {
            "marker": {
             "colorbar": {
              "outlinewidth": 0,
              "ticks": ""
             }
            },
            "type": "scattermapbox"
           }
          ],
          "scatterpolar": [
           {
            "marker": {
             "colorbar": {
              "outlinewidth": 0,
              "ticks": ""
             }
            },
            "type": "scatterpolar"
           }
          ],
          "scatterpolargl": [
           {
            "marker": {
             "colorbar": {
              "outlinewidth": 0,
              "ticks": ""
             }
            },
            "type": "scatterpolargl"
           }
          ],
          "scatterternary": [
           {
            "marker": {
             "colorbar": {
              "outlinewidth": 0,
              "ticks": ""
             }
            },
            "type": "scatterternary"
           }
          ],
          "surface": [
           {
            "colorbar": {
             "outlinewidth": 0,
             "ticks": ""
            },
            "colorscale": [
             [
              0,
              "#0d0887"
             ],
             [
              0.1111111111111111,
              "#46039f"
             ],
             [
              0.2222222222222222,
              "#7201a8"
             ],
             [
              0.3333333333333333,
              "#9c179e"
             ],
             [
              0.4444444444444444,
              "#bd3786"
             ],
             [
              0.5555555555555556,
              "#d8576b"
             ],
             [
              0.6666666666666666,
              "#ed7953"
             ],
             [
              0.7777777777777778,
              "#fb9f3a"
             ],
             [
              0.8888888888888888,
              "#fdca26"
             ],
             [
              1,
              "#f0f921"
             ]
            ],
            "type": "surface"
           }
          ],
          "table": [
           {
            "cells": {
             "fill": {
              "color": "#EBF0F8"
             },
             "line": {
              "color": "white"
             }
            },
            "header": {
             "fill": {
              "color": "#C8D4E3"
             },
             "line": {
              "color": "white"
             }
            },
            "type": "table"
           }
          ]
         },
         "layout": {
          "annotationdefaults": {
           "arrowcolor": "#2a3f5f",
           "arrowhead": 0,
           "arrowwidth": 1
          },
          "autotypenumbers": "strict",
          "coloraxis": {
           "colorbar": {
            "outlinewidth": 0,
            "ticks": ""
           }
          },
          "colorscale": {
           "diverging": [
            [
             0,
             "#8e0152"
            ],
            [
             0.1,
             "#c51b7d"
            ],
            [
             0.2,
             "#de77ae"
            ],
            [
             0.3,
             "#f1b6da"
            ],
            [
             0.4,
             "#fde0ef"
            ],
            [
             0.5,
             "#f7f7f7"
            ],
            [
             0.6,
             "#e6f5d0"
            ],
            [
             0.7,
             "#b8e186"
            ],
            [
             0.8,
             "#7fbc41"
            ],
            [
             0.9,
             "#4d9221"
            ],
            [
             1,
             "#276419"
            ]
           ],
           "sequential": [
            [
             0,
             "#0d0887"
            ],
            [
             0.1111111111111111,
             "#46039f"
            ],
            [
             0.2222222222222222,
             "#7201a8"
            ],
            [
             0.3333333333333333,
             "#9c179e"
            ],
            [
             0.4444444444444444,
             "#bd3786"
            ],
            [
             0.5555555555555556,
             "#d8576b"
            ],
            [
             0.6666666666666666,
             "#ed7953"
            ],
            [
             0.7777777777777778,
             "#fb9f3a"
            ],
            [
             0.8888888888888888,
             "#fdca26"
            ],
            [
             1,
             "#f0f921"
            ]
           ],
           "sequentialminus": [
            [
             0,
             "#0d0887"
            ],
            [
             0.1111111111111111,
             "#46039f"
            ],
            [
             0.2222222222222222,
             "#7201a8"
            ],
            [
             0.3333333333333333,
             "#9c179e"
            ],
            [
             0.4444444444444444,
             "#bd3786"
            ],
            [
             0.5555555555555556,
             "#d8576b"
            ],
            [
             0.6666666666666666,
             "#ed7953"
            ],
            [
             0.7777777777777778,
             "#fb9f3a"
            ],
            [
             0.8888888888888888,
             "#fdca26"
            ],
            [
             1,
             "#f0f921"
            ]
           ]
          },
          "colorway": [
           "#636efa",
           "#EF553B",
           "#00cc96",
           "#ab63fa",
           "#FFA15A",
           "#19d3f3",
           "#FF6692",
           "#B6E880",
           "#FF97FF",
           "#FECB52"
          ],
          "font": {
           "color": "#2a3f5f"
          },
          "geo": {
           "bgcolor": "white",
           "lakecolor": "white",
           "landcolor": "#E5ECF6",
           "showlakes": true,
           "showland": true,
           "subunitcolor": "white"
          },
          "hoverlabel": {
           "align": "left"
          },
          "hovermode": "closest",
          "mapbox": {
           "style": "light"
          },
          "paper_bgcolor": "white",
          "plot_bgcolor": "#E5ECF6",
          "polar": {
           "angularaxis": {
            "gridcolor": "white",
            "linecolor": "white",
            "ticks": ""
           },
           "bgcolor": "#E5ECF6",
           "radialaxis": {
            "gridcolor": "white",
            "linecolor": "white",
            "ticks": ""
           }
          },
          "scene": {
           "xaxis": {
            "backgroundcolor": "#E5ECF6",
            "gridcolor": "white",
            "gridwidth": 2,
            "linecolor": "white",
            "showbackground": true,
            "ticks": "",
            "zerolinecolor": "white"
           },
           "yaxis": {
            "backgroundcolor": "#E5ECF6",
            "gridcolor": "white",
            "gridwidth": 2,
            "linecolor": "white",
            "showbackground": true,
            "ticks": "",
            "zerolinecolor": "white"
           },
           "zaxis": {
            "backgroundcolor": "#E5ECF6",
            "gridcolor": "white",
            "gridwidth": 2,
            "linecolor": "white",
            "showbackground": true,
            "ticks": "",
            "zerolinecolor": "white"
           }
          },
          "shapedefaults": {
           "line": {
            "color": "#2a3f5f"
           }
          },
          "ternary": {
           "aaxis": {
            "gridcolor": "white",
            "linecolor": "white",
            "ticks": ""
           },
           "baxis": {
            "gridcolor": "white",
            "linecolor": "white",
            "ticks": ""
           },
           "bgcolor": "#E5ECF6",
           "caxis": {
            "gridcolor": "white",
            "linecolor": "white",
            "ticks": ""
           }
          },
          "title": {
           "x": 0.05
          },
          "xaxis": {
           "automargin": true,
           "gridcolor": "white",
           "linecolor": "white",
           "ticks": "",
           "title": {
            "standoff": 15
           },
           "zerolinecolor": "white",
           "zerolinewidth": 2
          },
          "yaxis": {
           "automargin": true,
           "gridcolor": "white",
           "linecolor": "white",
           "ticks": "",
           "title": {
            "standoff": 15
           },
           "zerolinecolor": "white",
           "zerolinewidth": 2
          }
         }
        },
        "title": {
         "text": "Scatter Plot of Embeddings Space (reduced to 2 dimensions)"
        },
        "width": 1000,
        "xaxis": {
         "anchor": "y",
         "domain": [
          0,
          1
         ],
         "title": {
          "text": "Reduced Embedding (0)"
         }
        },
        "yaxis": {
         "anchor": "x",
         "domain": [
          0,
          1
         ],
         "title": {
          "text": "Reduced Embedding (1)"
         }
        }
       },
       "_py2js_addTraces": {},
       "_py2js_animate": {},
       "_py2js_deleteTraces": {},
       "_py2js_moveTraces": {},
       "_py2js_relayout": {},
       "_py2js_removeLayoutProps": {},
       "_py2js_removeTraceProps": {},
       "_py2js_restyle": {},
       "_py2js_update": {},
       "_view_count": 0
      }
     },
     "ec764e1ef3ba482d9de5be9f61808dfe": {
      "model_module": "@jupyter-widgets/base",
      "model_module_version": "1.2.0",
      "model_name": "LayoutModel",
      "state": {}
     },
     "efb1e648b38145ac88dc49f90968dd6e": {
      "model_module": "@jupyter-widgets/controls",
      "model_module_version": "1.5.0",
      "model_name": "VBoxModel",
      "state": {
       "_dom_classes": [
        "rendered_html",
        "jp-RenderedHTMLCommon",
        "jp-RenderedHTML",
        "jp-OutputArea-output"
       ],
       "children": [
        "IPY_MODEL_04a1ed3398344e03adada7d888dd7d6f",
        "IPY_MODEL_b38c50f357004c51986f7da02c5e80cd",
        "IPY_MODEL_a979b38bd68e444c9f8f2fa410566bac",
        "IPY_MODEL_d4deab9281474c15a70168e14044e9c7"
       ],
       "layout": "IPY_MODEL_a1c7c0dd6a7143848f9b229add3f1849"
      }
     }
    },
    "version_major": 2,
    "version_minor": 0
   }
  }
 },
 "nbformat": 4,
 "nbformat_minor": 5
}
